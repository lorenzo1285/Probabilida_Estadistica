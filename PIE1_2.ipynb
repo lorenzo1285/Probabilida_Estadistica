{
  "nbformat": 4,
  "nbformat_minor": 0,
  "metadata": {
    "colab": {
      "name": "PIE1.2",
      "provenance": [],
      "authorship_tag": "ABX9TyNTan0v1iYA3hfWUv2PtALr",
      "include_colab_link": true
    },
    "kernelspec": {
      "name": "python3",
      "display_name": "Python 3"
    },
    "language_info": {
      "name": "python"
    }
  },
  "cells": [
    {
      "cell_type": "markdown",
      "metadata": {
        "id": "view-in-github",
        "colab_type": "text"
      },
      "source": [
        "<a href=\"https://colab.research.google.com/github/lorenzo1285/Probabilida_Estadistica/blob/main/PIE1_2.ipynb\" target=\"_parent\"><img src=\"https://colab.research.google.com/assets/colab-badge.svg\" alt=\"Open In Colab\"/></a>"
      ]
    },
    {
      "cell_type": "code",
      "metadata": {
        "id": "89S8Txv2uU1O"
      },
      "source": [
        "import pandas as pd\n",
        "import matplotlib.pylab as plt\n",
        "import seaborn as sns\n",
        "import numpy as np\n",
        "import io\n",
        "from google.colab import files\n",
        "sns.set_style(\"whitegrid\")\n",
        "%matplotlib inline\n",
        "import plotly.express as px\n",
        "import plotly.graph_objects as go \n",
        "import plotly.figure_factory as ff\n",
        "import scipy.stats as stats\n",
        "import random \n",
        "import math"
      ],
      "execution_count": null,
      "outputs": []
    },
    {
      "cell_type": "code",
      "metadata": {
        "colab": {
          "resources": {
            "http://localhost:8080/nbextensions/google.colab/files.js": {
              "data": "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",
              "ok": true,
              "headers": [
                [
                  "content-type",
                  "application/javascript"
                ]
              ],
              "status": 200,
              "status_text": ""
            }
          },
          "base_uri": "https://localhost:8080/",
          "height": 72
        },
        "id": "xcYAX3zlwPWz",
        "outputId": "4fe2e12f-4c45-47d9-ab34-7d6e58effe6c"
      },
      "source": [
        "uploaded = files.upload()"
      ],
      "execution_count": null,
      "outputs": [
        {
          "output_type": "display_data",
          "data": {
            "text/html": [
              "\n",
              "     <input type=\"file\" id=\"files-641b6071-7ec9-4e08-8b5b-75019aa4e770\" name=\"files[]\" multiple disabled\n",
              "        style=\"border:none\" />\n",
              "     <output id=\"result-641b6071-7ec9-4e08-8b5b-75019aa4e770\">\n",
              "      Upload widget is only available when the cell has been executed in the\n",
              "      current browser session. Please rerun this cell to enable.\n",
              "      </output>\n",
              "      <script src=\"/nbextensions/google.colab/files.js\"></script> "
            ],
            "text/plain": [
              "<IPython.core.display.HTML object>"
            ]
          },
          "metadata": {
            "tags": []
          }
        },
        {
          "output_type": "stream",
          "text": [
            "Saving PIE_2018.2.xlsx to PIE_2018.2.xlsx\n"
          ],
          "name": "stdout"
        }
      ]
    },
    {
      "cell_type": "code",
      "metadata": {
        "colab": {
          "base_uri": "https://localhost:8080/",
          "height": 1000
        },
        "id": "AX4bQh6Www8t",
        "outputId": "281b258f-a634-4790-b4fd-ae79fb4a2269"
      },
      "source": [
        "df = pd.read_excel(io.BytesIO(uploaded['PIE_2018.2.xlsx']))\n",
        "df"
      ],
      "execution_count": null,
      "outputs": [
        {
          "output_type": "execute_result",
          "data": {
            "text/html": [
              "<div>\n",
              "<style scoped>\n",
              "    .dataframe tbody tr th:only-of-type {\n",
              "        vertical-align: middle;\n",
              "    }\n",
              "\n",
              "    .dataframe tbody tr th {\n",
              "        vertical-align: top;\n",
              "    }\n",
              "\n",
              "    .dataframe thead th {\n",
              "        text-align: right;\n",
              "    }\n",
              "</style>\n",
              "<table border=\"1\" class=\"dataframe\">\n",
              "  <thead>\n",
              "    <tr style=\"text-align: right;\">\n",
              "      <th></th>\n",
              "      <th>País</th>\n",
              "      <th>Valor\\n 2018</th>\n",
              "      <th>Volumen\\n 2018</th>\n",
              "    </tr>\n",
              "  </thead>\n",
              "  <tbody>\n",
              "    <tr>\n",
              "      <th>0</th>\n",
              "      <td>Emiratos Arabes Unidos</td>\n",
              "      <td>141224</td>\n",
              "      <td>7726</td>\n",
              "    </tr>\n",
              "    <tr>\n",
              "      <th>1</th>\n",
              "      <td>Argentina, República</td>\n",
              "      <td>0</td>\n",
              "      <td>0</td>\n",
              "    </tr>\n",
              "    <tr>\n",
              "      <th>2</th>\n",
              "      <td>Bulgaria (República de)</td>\n",
              "      <td>0</td>\n",
              "      <td>0</td>\n",
              "    </tr>\n",
              "    <tr>\n",
              "      <th>3</th>\n",
              "      <td>Brasil (República Federativa del)</td>\n",
              "      <td>352599</td>\n",
              "      <td>20677</td>\n",
              "    </tr>\n",
              "    <tr>\n",
              "      <th>4</th>\n",
              "      <td>Canadá</td>\n",
              "      <td>0</td>\n",
              "      <td>0</td>\n",
              "    </tr>\n",
              "    <tr>\n",
              "      <th>5</th>\n",
              "      <td>Colombia (República de)</td>\n",
              "      <td>21355</td>\n",
              "      <td>1823</td>\n",
              "    </tr>\n",
              "    <tr>\n",
              "      <th>6</th>\n",
              "      <td>República Checa</td>\n",
              "      <td>120241</td>\n",
              "      <td>12713</td>\n",
              "    </tr>\n",
              "    <tr>\n",
              "      <th>7</th>\n",
              "      <td>China (República Popular de)</td>\n",
              "      <td>4758758</td>\n",
              "      <td>508730</td>\n",
              "    </tr>\n",
              "    <tr>\n",
              "      <th>8</th>\n",
              "      <td>Alemania (República Federal de)</td>\n",
              "      <td>215682</td>\n",
              "      <td>8743</td>\n",
              "    </tr>\n",
              "    <tr>\n",
              "      <th>9</th>\n",
              "      <td>Dinamarca (Reino de)</td>\n",
              "      <td>0</td>\n",
              "      <td>0</td>\n",
              "    </tr>\n",
              "    <tr>\n",
              "      <th>10</th>\n",
              "      <td>Ecuador (República de)</td>\n",
              "      <td>0</td>\n",
              "      <td>0</td>\n",
              "    </tr>\n",
              "    <tr>\n",
              "      <th>11</th>\n",
              "      <td>España (Reino de)</td>\n",
              "      <td>6513611</td>\n",
              "      <td>316183</td>\n",
              "    </tr>\n",
              "    <tr>\n",
              "      <th>12</th>\n",
              "      <td>Francia</td>\n",
              "      <td>418</td>\n",
              "      <td>1000</td>\n",
              "    </tr>\n",
              "    <tr>\n",
              "      <th>13</th>\n",
              "      <td>Reino Unido de la Gran Bretaña e Irlanda d</td>\n",
              "      <td>0</td>\n",
              "      <td>0</td>\n",
              "    </tr>\n",
              "    <tr>\n",
              "      <th>14</th>\n",
              "      <td>Grecia</td>\n",
              "      <td>0</td>\n",
              "      <td>0</td>\n",
              "    </tr>\n",
              "    <tr>\n",
              "      <th>15</th>\n",
              "      <td>Guatemala (República de)</td>\n",
              "      <td>0</td>\n",
              "      <td>0</td>\n",
              "    </tr>\n",
              "    <tr>\n",
              "      <th>16</th>\n",
              "      <td>Hong Kong (Teritorio de )</td>\n",
              "      <td>0</td>\n",
              "      <td>0</td>\n",
              "    </tr>\n",
              "    <tr>\n",
              "      <th>17</th>\n",
              "      <td>Indonesia (República de)</td>\n",
              "      <td>0</td>\n",
              "      <td>0</td>\n",
              "    </tr>\n",
              "    <tr>\n",
              "      <th>18</th>\n",
              "      <td>India (República de la)</td>\n",
              "      <td>25756769</td>\n",
              "      <td>5668570</td>\n",
              "    </tr>\n",
              "    <tr>\n",
              "      <th>19</th>\n",
              "      <td>Italia</td>\n",
              "      <td>14710145</td>\n",
              "      <td>525861</td>\n",
              "    </tr>\n",
              "    <tr>\n",
              "      <th>20</th>\n",
              "      <td>Corea del Sur</td>\n",
              "      <td>0</td>\n",
              "      <td>0</td>\n",
              "    </tr>\n",
              "    <tr>\n",
              "      <th>21</th>\n",
              "      <td>Marruecos (Reino de)</td>\n",
              "      <td>0</td>\n",
              "      <td>0</td>\n",
              "    </tr>\n",
              "    <tr>\n",
              "      <th>22</th>\n",
              "      <td>Malasia (Federación de)</td>\n",
              "      <td>0</td>\n",
              "      <td>0</td>\n",
              "    </tr>\n",
              "    <tr>\n",
              "      <th>23</th>\n",
              "      <td>Polonia (República Popular de)</td>\n",
              "      <td>0</td>\n",
              "      <td>0</td>\n",
              "    </tr>\n",
              "    <tr>\n",
              "      <th>24</th>\n",
              "      <td>Portugal</td>\n",
              "      <td>661859</td>\n",
              "      <td>31050</td>\n",
              "    </tr>\n",
              "    <tr>\n",
              "      <th>25</th>\n",
              "      <td>Rusia antes U.R.S.S.</td>\n",
              "      <td>0</td>\n",
              "      <td>0</td>\n",
              "    </tr>\n",
              "    <tr>\n",
              "      <th>26</th>\n",
              "      <td>Tailandia (Reino de)</td>\n",
              "      <td>0</td>\n",
              "      <td>0</td>\n",
              "    </tr>\n",
              "    <tr>\n",
              "      <th>27</th>\n",
              "      <td>Turquia (República de)</td>\n",
              "      <td>42292</td>\n",
              "      <td>4284</td>\n",
              "    </tr>\n",
              "    <tr>\n",
              "      <th>28</th>\n",
              "      <td>Taiwan (Taipe chino)</td>\n",
              "      <td>0</td>\n",
              "      <td>0</td>\n",
              "    </tr>\n",
              "    <tr>\n",
              "      <th>29</th>\n",
              "      <td>Ucrania</td>\n",
              "      <td>0</td>\n",
              "      <td>0</td>\n",
              "    </tr>\n",
              "    <tr>\n",
              "      <th>30</th>\n",
              "      <td>Estados Unidos de América</td>\n",
              "      <td>2533835</td>\n",
              "      <td>191520</td>\n",
              "    </tr>\n",
              "    <tr>\n",
              "      <th>31</th>\n",
              "      <td>Vietnam (República Socialista de)</td>\n",
              "      <td>0</td>\n",
              "      <td>0</td>\n",
              "    </tr>\n",
              "    <tr>\n",
              "      <th>32</th>\n",
              "      <td>Países Bajos (Reino de Los)</td>\n",
              "      <td>0</td>\n",
              "      <td>0</td>\n",
              "    </tr>\n",
              "  </tbody>\n",
              "</table>\n",
              "</div>"
            ],
            "text/plain": [
              "                                          País  Valor\\n 2018  Volumen\\n 2018\n",
              "0                       Emiratos Arabes Unidos        141224            7726\n",
              "1                         Argentina, República             0               0\n",
              "2                      Bulgaria (República de)             0               0\n",
              "3            Brasil (República Federativa del)        352599           20677\n",
              "4                                       Canadá             0               0\n",
              "5                      Colombia (República de)         21355            1823\n",
              "6                              República Checa        120241           12713\n",
              "7                 China (República Popular de)       4758758          508730\n",
              "8              Alemania (República Federal de)        215682            8743\n",
              "9                         Dinamarca (Reino de)             0               0\n",
              "10                      Ecuador (República de)             0               0\n",
              "11                           España (Reino de)       6513611          316183\n",
              "12                                     Francia           418            1000\n",
              "13  Reino Unido de la Gran Bretaña e Irlanda d             0               0\n",
              "14                                      Grecia             0               0\n",
              "15                    Guatemala (República de)             0               0\n",
              "16                   Hong Kong (Teritorio de )             0               0\n",
              "17                    Indonesia (República de)             0               0\n",
              "18                     India (República de la)      25756769         5668570\n",
              "19                                      Italia      14710145          525861\n",
              "20                               Corea del Sur             0               0\n",
              "21                        Marruecos (Reino de)             0               0\n",
              "22                     Malasia (Federación de)             0               0\n",
              "23              Polonia (República Popular de)             0               0\n",
              "24                                    Portugal        661859           31050\n",
              "25                        Rusia antes U.R.S.S.             0               0\n",
              "26                        Tailandia (Reino de)             0               0\n",
              "27                      Turquia (República de)         42292            4284\n",
              "28                        Taiwan (Taipe chino)             0               0\n",
              "29                                     Ucrania             0               0\n",
              "30                   Estados Unidos de América       2533835          191520\n",
              "31           Vietnam (República Socialista de)             0               0\n",
              "32                 Países Bajos (Reino de Los)             0               0"
            ]
          },
          "metadata": {
            "tags": []
          },
          "execution_count": 3
        }
      ]
    },
    {
      "cell_type": "code",
      "metadata": {
        "colab": {
          "base_uri": "https://localhost:8080/",
          "height": 1000
        },
        "id": "kzrAexsXw9Pc",
        "outputId": "2da88136-8d45-4142-b1ff-78f8e6ad0a2d"
      },
      "source": [
        "df.set_index('País', inplace=True)\n",
        "df"
      ],
      "execution_count": null,
      "outputs": [
        {
          "output_type": "execute_result",
          "data": {
            "text/html": [
              "<div>\n",
              "<style scoped>\n",
              "    .dataframe tbody tr th:only-of-type {\n",
              "        vertical-align: middle;\n",
              "    }\n",
              "\n",
              "    .dataframe tbody tr th {\n",
              "        vertical-align: top;\n",
              "    }\n",
              "\n",
              "    .dataframe thead th {\n",
              "        text-align: right;\n",
              "    }\n",
              "</style>\n",
              "<table border=\"1\" class=\"dataframe\">\n",
              "  <thead>\n",
              "    <tr style=\"text-align: right;\">\n",
              "      <th></th>\n",
              "      <th>Valor\\n 2018</th>\n",
              "      <th>Volumen\\n 2018</th>\n",
              "    </tr>\n",
              "    <tr>\n",
              "      <th>País</th>\n",
              "      <th></th>\n",
              "      <th></th>\n",
              "    </tr>\n",
              "  </thead>\n",
              "  <tbody>\n",
              "    <tr>\n",
              "      <th>Emiratos Arabes Unidos</th>\n",
              "      <td>141224</td>\n",
              "      <td>7726</td>\n",
              "    </tr>\n",
              "    <tr>\n",
              "      <th>Argentina, República</th>\n",
              "      <td>0</td>\n",
              "      <td>0</td>\n",
              "    </tr>\n",
              "    <tr>\n",
              "      <th>Bulgaria (República de)</th>\n",
              "      <td>0</td>\n",
              "      <td>0</td>\n",
              "    </tr>\n",
              "    <tr>\n",
              "      <th>Brasil (República Federativa del)</th>\n",
              "      <td>352599</td>\n",
              "      <td>20677</td>\n",
              "    </tr>\n",
              "    <tr>\n",
              "      <th>Canadá</th>\n",
              "      <td>0</td>\n",
              "      <td>0</td>\n",
              "    </tr>\n",
              "    <tr>\n",
              "      <th>Colombia (República de)</th>\n",
              "      <td>21355</td>\n",
              "      <td>1823</td>\n",
              "    </tr>\n",
              "    <tr>\n",
              "      <th>República Checa</th>\n",
              "      <td>120241</td>\n",
              "      <td>12713</td>\n",
              "    </tr>\n",
              "    <tr>\n",
              "      <th>China (República Popular de)</th>\n",
              "      <td>4758758</td>\n",
              "      <td>508730</td>\n",
              "    </tr>\n",
              "    <tr>\n",
              "      <th>Alemania (República Federal de)</th>\n",
              "      <td>215682</td>\n",
              "      <td>8743</td>\n",
              "    </tr>\n",
              "    <tr>\n",
              "      <th>Dinamarca (Reino de)</th>\n",
              "      <td>0</td>\n",
              "      <td>0</td>\n",
              "    </tr>\n",
              "    <tr>\n",
              "      <th>Ecuador (República de)</th>\n",
              "      <td>0</td>\n",
              "      <td>0</td>\n",
              "    </tr>\n",
              "    <tr>\n",
              "      <th>España (Reino de)</th>\n",
              "      <td>6513611</td>\n",
              "      <td>316183</td>\n",
              "    </tr>\n",
              "    <tr>\n",
              "      <th>Francia</th>\n",
              "      <td>418</td>\n",
              "      <td>1000</td>\n",
              "    </tr>\n",
              "    <tr>\n",
              "      <th>Reino Unido de la Gran Bretaña e Irlanda d</th>\n",
              "      <td>0</td>\n",
              "      <td>0</td>\n",
              "    </tr>\n",
              "    <tr>\n",
              "      <th>Grecia</th>\n",
              "      <td>0</td>\n",
              "      <td>0</td>\n",
              "    </tr>\n",
              "    <tr>\n",
              "      <th>Guatemala (República de)</th>\n",
              "      <td>0</td>\n",
              "      <td>0</td>\n",
              "    </tr>\n",
              "    <tr>\n",
              "      <th>Hong Kong (Teritorio de )</th>\n",
              "      <td>0</td>\n",
              "      <td>0</td>\n",
              "    </tr>\n",
              "    <tr>\n",
              "      <th>Indonesia (República de)</th>\n",
              "      <td>0</td>\n",
              "      <td>0</td>\n",
              "    </tr>\n",
              "    <tr>\n",
              "      <th>India (República de la)</th>\n",
              "      <td>25756769</td>\n",
              "      <td>5668570</td>\n",
              "    </tr>\n",
              "    <tr>\n",
              "      <th>Italia</th>\n",
              "      <td>14710145</td>\n",
              "      <td>525861</td>\n",
              "    </tr>\n",
              "    <tr>\n",
              "      <th>Corea del Sur</th>\n",
              "      <td>0</td>\n",
              "      <td>0</td>\n",
              "    </tr>\n",
              "    <tr>\n",
              "      <th>Marruecos (Reino de)</th>\n",
              "      <td>0</td>\n",
              "      <td>0</td>\n",
              "    </tr>\n",
              "    <tr>\n",
              "      <th>Malasia (Federación de)</th>\n",
              "      <td>0</td>\n",
              "      <td>0</td>\n",
              "    </tr>\n",
              "    <tr>\n",
              "      <th>Polonia (República Popular de)</th>\n",
              "      <td>0</td>\n",
              "      <td>0</td>\n",
              "    </tr>\n",
              "    <tr>\n",
              "      <th>Portugal</th>\n",
              "      <td>661859</td>\n",
              "      <td>31050</td>\n",
              "    </tr>\n",
              "    <tr>\n",
              "      <th>Rusia antes U.R.S.S.</th>\n",
              "      <td>0</td>\n",
              "      <td>0</td>\n",
              "    </tr>\n",
              "    <tr>\n",
              "      <th>Tailandia (Reino de)</th>\n",
              "      <td>0</td>\n",
              "      <td>0</td>\n",
              "    </tr>\n",
              "    <tr>\n",
              "      <th>Turquia (República de)</th>\n",
              "      <td>42292</td>\n",
              "      <td>4284</td>\n",
              "    </tr>\n",
              "    <tr>\n",
              "      <th>Taiwan (Taipe chino)</th>\n",
              "      <td>0</td>\n",
              "      <td>0</td>\n",
              "    </tr>\n",
              "    <tr>\n",
              "      <th>Ucrania</th>\n",
              "      <td>0</td>\n",
              "      <td>0</td>\n",
              "    </tr>\n",
              "    <tr>\n",
              "      <th>Estados Unidos de América</th>\n",
              "      <td>2533835</td>\n",
              "      <td>191520</td>\n",
              "    </tr>\n",
              "    <tr>\n",
              "      <th>Vietnam (República Socialista de)</th>\n",
              "      <td>0</td>\n",
              "      <td>0</td>\n",
              "    </tr>\n",
              "    <tr>\n",
              "      <th>Países Bajos (Reino de Los)</th>\n",
              "      <td>0</td>\n",
              "      <td>0</td>\n",
              "    </tr>\n",
              "  </tbody>\n",
              "</table>\n",
              "</div>"
            ],
            "text/plain": [
              "                                            Valor\\n 2018  Volumen\\n 2018\n",
              "País                                                                    \n",
              "Emiratos Arabes Unidos                            141224            7726\n",
              "Argentina, República                                   0               0\n",
              "Bulgaria (República de)                                0               0\n",
              "Brasil (República Federativa del)                 352599           20677\n",
              "Canadá                                                 0               0\n",
              "Colombia (República de)                            21355            1823\n",
              "República Checa                                   120241           12713\n",
              "China (República Popular de)                     4758758          508730\n",
              "Alemania (República Federal de)                   215682            8743\n",
              "Dinamarca (Reino de)                                   0               0\n",
              "Ecuador (República de)                                 0               0\n",
              "España (Reino de)                                6513611          316183\n",
              "Francia                                              418            1000\n",
              "Reino Unido de la Gran Bretaña e Irlanda d             0               0\n",
              "Grecia                                                 0               0\n",
              "Guatemala (República de)                               0               0\n",
              "Hong Kong (Teritorio de )                              0               0\n",
              "Indonesia (República de)                               0               0\n",
              "India (República de la)                         25756769         5668570\n",
              "Italia                                          14710145          525861\n",
              "Corea del Sur                                          0               0\n",
              "Marruecos (Reino de)                                   0               0\n",
              "Malasia (Federación de)                                0               0\n",
              "Polonia (República Popular de)                         0               0\n",
              "Portugal                                          661859           31050\n",
              "Rusia antes U.R.S.S.                                   0               0\n",
              "Tailandia (Reino de)                                   0               0\n",
              "Turquia (República de)                             42292            4284\n",
              "Taiwan (Taipe chino)                                   0               0\n",
              "Ucrania                                                0               0\n",
              "Estados Unidos de América                        2533835          191520\n",
              "Vietnam (República Socialista de)                      0               0\n",
              "Países Bajos (Reino de Los)                            0               0"
            ]
          },
          "metadata": {
            "tags": []
          },
          "execution_count": 5
        }
      ]
    },
    {
      "cell_type": "code",
      "metadata": {
        "colab": {
          "base_uri": "https://localhost:8080/"
        },
        "id": "09XI1_71yp7M",
        "outputId": "5e161864-e3d2-4253-d3ca-c0f8883e02bd"
      },
      "source": [
        "df.index"
      ],
      "execution_count": null,
      "outputs": [
        {
          "output_type": "execute_result",
          "data": {
            "text/plain": [
              "Index(['Emiratos Arabes Unidos', 'Argentina, República',\n",
              "       'Bulgaria (República de)', 'Brasil (República Federativa del)',\n",
              "       'Canadá', 'Colombia (República de)', 'República Checa',\n",
              "       'China (República Popular de)', 'Alemania (República Federal de)',\n",
              "       'Dinamarca (Reino de)', 'Ecuador (República de)', 'España (Reino de)',\n",
              "       'Francia', 'Reino Unido de la Gran Bretaña e Irlanda d', 'Grecia',\n",
              "       'Guatemala (República de)', 'Hong Kong (Teritorio de )',\n",
              "       'Indonesia (República de)', 'India (República de la)', 'Italia',\n",
              "       'Corea del Sur', 'Marruecos (Reino de)', 'Malasia (Federación de)',\n",
              "       'Polonia (República Popular de)', 'Portugal', 'Rusia antes U.R.S.S.',\n",
              "       'Tailandia (Reino de)', 'Turquia (República de)',\n",
              "       'Taiwan (Taipe chino)', 'Ucrania', 'Estados Unidos de América',\n",
              "       'Vietnam (República Socialista de)', 'Países Bajos (Reino de Los)'],\n",
              "      dtype='object', name='País')"
            ]
          },
          "metadata": {
            "tags": []
          },
          "execution_count": 6
        }
      ]
    },
    {
      "cell_type": "code",
      "metadata": {
        "colab": {
          "base_uri": "https://localhost:8080/",
          "height": 452
        },
        "id": "yBSZuQH2yIHf",
        "outputId": "aa3d9655-7c62-4b3e-f21b-aa9e560039b9"
      },
      "source": [
        "df.drop(['Argentina, República','Bulgaria (República de)',\n",
        "         'Dinamarca (Reino de)', 'Ecuador (República de)',\n",
        "         'Canadá', 'Reino Unido de la Gran Bretaña e Irlanda d',\n",
        "         'Grecia','Guatemala (República de)',\n",
        "         'Corea del Sur','Marruecos (Reino de)',\n",
        "         'Malasia (Federación de)','Polonia (República Popular de)',\n",
        "         'Hong Kong (Teritorio de )','Indonesia (República de)',\n",
        "         'Rusia antes U.R.S.S.','Tailandia (Reino de)',\n",
        "         'Taiwan (Taipe chino)', 'Ucrania',\n",
        "         'Vietnam (República Socialista de)', 'Países Bajos (Reino de Los)',\n",
        "         'Francia'\n",
        "        ], inplace=True)\n",
        "df"
      ],
      "execution_count": null,
      "outputs": [
        {
          "output_type": "execute_result",
          "data": {
            "text/html": [
              "<div>\n",
              "<style scoped>\n",
              "    .dataframe tbody tr th:only-of-type {\n",
              "        vertical-align: middle;\n",
              "    }\n",
              "\n",
              "    .dataframe tbody tr th {\n",
              "        vertical-align: top;\n",
              "    }\n",
              "\n",
              "    .dataframe thead th {\n",
              "        text-align: right;\n",
              "    }\n",
              "</style>\n",
              "<table border=\"1\" class=\"dataframe\">\n",
              "  <thead>\n",
              "    <tr style=\"text-align: right;\">\n",
              "      <th></th>\n",
              "      <th>Valor\\n 2018</th>\n",
              "      <th>Volumen\\n 2018</th>\n",
              "    </tr>\n",
              "    <tr>\n",
              "      <th>País</th>\n",
              "      <th></th>\n",
              "      <th></th>\n",
              "    </tr>\n",
              "  </thead>\n",
              "  <tbody>\n",
              "    <tr>\n",
              "      <th>Emiratos Arabes Unidos</th>\n",
              "      <td>141224</td>\n",
              "      <td>7726</td>\n",
              "    </tr>\n",
              "    <tr>\n",
              "      <th>Brasil (República Federativa del)</th>\n",
              "      <td>352599</td>\n",
              "      <td>20677</td>\n",
              "    </tr>\n",
              "    <tr>\n",
              "      <th>Colombia (República de)</th>\n",
              "      <td>21355</td>\n",
              "      <td>1823</td>\n",
              "    </tr>\n",
              "    <tr>\n",
              "      <th>República Checa</th>\n",
              "      <td>120241</td>\n",
              "      <td>12713</td>\n",
              "    </tr>\n",
              "    <tr>\n",
              "      <th>China (República Popular de)</th>\n",
              "      <td>4758758</td>\n",
              "      <td>508730</td>\n",
              "    </tr>\n",
              "    <tr>\n",
              "      <th>Alemania (República Federal de)</th>\n",
              "      <td>215682</td>\n",
              "      <td>8743</td>\n",
              "    </tr>\n",
              "    <tr>\n",
              "      <th>España (Reino de)</th>\n",
              "      <td>6513611</td>\n",
              "      <td>316183</td>\n",
              "    </tr>\n",
              "    <tr>\n",
              "      <th>India (República de la)</th>\n",
              "      <td>25756769</td>\n",
              "      <td>5668570</td>\n",
              "    </tr>\n",
              "    <tr>\n",
              "      <th>Italia</th>\n",
              "      <td>14710145</td>\n",
              "      <td>525861</td>\n",
              "    </tr>\n",
              "    <tr>\n",
              "      <th>Portugal</th>\n",
              "      <td>661859</td>\n",
              "      <td>31050</td>\n",
              "    </tr>\n",
              "    <tr>\n",
              "      <th>Turquia (República de)</th>\n",
              "      <td>42292</td>\n",
              "      <td>4284</td>\n",
              "    </tr>\n",
              "    <tr>\n",
              "      <th>Estados Unidos de América</th>\n",
              "      <td>2533835</td>\n",
              "      <td>191520</td>\n",
              "    </tr>\n",
              "  </tbody>\n",
              "</table>\n",
              "</div>"
            ],
            "text/plain": [
              "                                   Valor\\n 2018  Volumen\\n 2018\n",
              "País                                                           \n",
              "Emiratos Arabes Unidos                   141224            7726\n",
              "Brasil (República Federativa del)        352599           20677\n",
              "Colombia (República de)                   21355            1823\n",
              "República Checa                          120241           12713\n",
              "China (República Popular de)            4758758          508730\n",
              "Alemania (República Federal de)          215682            8743\n",
              "España (Reino de)                       6513611          316183\n",
              "India (República de la)                25756769         5668570\n",
              "Italia                                 14710145          525861\n",
              "Portugal                                 661859           31050\n",
              "Turquia (República de)                    42292            4284\n",
              "Estados Unidos de América               2533835          191520"
            ]
          },
          "metadata": {
            "tags": []
          },
          "execution_count": 7
        }
      ]
    },
    {
      "cell_type": "code",
      "metadata": {
        "colab": {
          "base_uri": "https://localhost:8080/",
          "height": 452
        },
        "id": "DKh0Hsqazx_d",
        "outputId": "f3f3ce8a-2e70-42b0-c0bb-a6b8676c93b3"
      },
      "source": [
        "df.rename(columns={'Valor\\n 2018':'Valor_2018','Volumen\\n 2018':'Volumen_2018'}, inplace=True)\n",
        "df"
      ],
      "execution_count": null,
      "outputs": [
        {
          "output_type": "execute_result",
          "data": {
            "text/html": [
              "<div>\n",
              "<style scoped>\n",
              "    .dataframe tbody tr th:only-of-type {\n",
              "        vertical-align: middle;\n",
              "    }\n",
              "\n",
              "    .dataframe tbody tr th {\n",
              "        vertical-align: top;\n",
              "    }\n",
              "\n",
              "    .dataframe thead th {\n",
              "        text-align: right;\n",
              "    }\n",
              "</style>\n",
              "<table border=\"1\" class=\"dataframe\">\n",
              "  <thead>\n",
              "    <tr style=\"text-align: right;\">\n",
              "      <th></th>\n",
              "      <th>Valor_2018</th>\n",
              "      <th>Volumen_2018</th>\n",
              "    </tr>\n",
              "    <tr>\n",
              "      <th>País</th>\n",
              "      <th></th>\n",
              "      <th></th>\n",
              "    </tr>\n",
              "  </thead>\n",
              "  <tbody>\n",
              "    <tr>\n",
              "      <th>Emiratos Arabes Unidos</th>\n",
              "      <td>141224</td>\n",
              "      <td>7726</td>\n",
              "    </tr>\n",
              "    <tr>\n",
              "      <th>Brasil (República Federativa del)</th>\n",
              "      <td>352599</td>\n",
              "      <td>20677</td>\n",
              "    </tr>\n",
              "    <tr>\n",
              "      <th>Colombia (República de)</th>\n",
              "      <td>21355</td>\n",
              "      <td>1823</td>\n",
              "    </tr>\n",
              "    <tr>\n",
              "      <th>República Checa</th>\n",
              "      <td>120241</td>\n",
              "      <td>12713</td>\n",
              "    </tr>\n",
              "    <tr>\n",
              "      <th>China (República Popular de)</th>\n",
              "      <td>4758758</td>\n",
              "      <td>508730</td>\n",
              "    </tr>\n",
              "    <tr>\n",
              "      <th>Alemania (República Federal de)</th>\n",
              "      <td>215682</td>\n",
              "      <td>8743</td>\n",
              "    </tr>\n",
              "    <tr>\n",
              "      <th>España (Reino de)</th>\n",
              "      <td>6513611</td>\n",
              "      <td>316183</td>\n",
              "    </tr>\n",
              "    <tr>\n",
              "      <th>India (República de la)</th>\n",
              "      <td>25756769</td>\n",
              "      <td>5668570</td>\n",
              "    </tr>\n",
              "    <tr>\n",
              "      <th>Italia</th>\n",
              "      <td>14710145</td>\n",
              "      <td>525861</td>\n",
              "    </tr>\n",
              "    <tr>\n",
              "      <th>Portugal</th>\n",
              "      <td>661859</td>\n",
              "      <td>31050</td>\n",
              "    </tr>\n",
              "    <tr>\n",
              "      <th>Turquia (República de)</th>\n",
              "      <td>42292</td>\n",
              "      <td>4284</td>\n",
              "    </tr>\n",
              "    <tr>\n",
              "      <th>Estados Unidos de América</th>\n",
              "      <td>2533835</td>\n",
              "      <td>191520</td>\n",
              "    </tr>\n",
              "  </tbody>\n",
              "</table>\n",
              "</div>"
            ],
            "text/plain": [
              "                                   Valor_2018  Volumen_2018\n",
              "País                                                       \n",
              "Emiratos Arabes Unidos                 141224          7726\n",
              "Brasil (República Federativa del)      352599         20677\n",
              "Colombia (República de)                 21355          1823\n",
              "República Checa                        120241         12713\n",
              "China (República Popular de)          4758758        508730\n",
              "Alemania (República Federal de)        215682          8743\n",
              "España (Reino de)                     6513611        316183\n",
              "India (República de la)              25756769       5668570\n",
              "Italia                               14710145        525861\n",
              "Portugal                               661859         31050\n",
              "Turquia (República de)                  42292          4284\n",
              "Estados Unidos de América             2533835        191520"
            ]
          },
          "metadata": {
            "tags": []
          },
          "execution_count": 8
        }
      ]
    },
    {
      "cell_type": "code",
      "metadata": {
        "colab": {
          "base_uri": "https://localhost:8080/"
        },
        "id": "QZwZQRK40fxf",
        "outputId": "f2273173-cbe3-4aa7-f6d7-53285321de08"
      },
      "source": [
        "precio = df['Valor_2018']/df['Volumen_2018']\n",
        "prom_pond = df['Valor_2018'].sum() / df['Volumen_2018'].sum()\n",
        "precio"
      ],
      "execution_count": null,
      "outputs": [
        {
          "output_type": "execute_result",
          "data": {
            "text/plain": [
              "País\n",
              "Emiratos Arabes Unidos               18.279058\n",
              "Brasil (República Federativa del)    17.052716\n",
              "Colombia (República de)              11.714207\n",
              "República Checa                       9.458114\n",
              "China (República Popular de)          9.354192\n",
              "Alemania (República Federal de)      24.669107\n",
              "España (Reino de)                    20.600763\n",
              "India (República de la)               4.543786\n",
              "Italia                               27.973447\n",
              "Portugal                             21.315910\n",
              "Turquia (República de)                9.872082\n",
              "Estados Unidos de América            13.230133\n",
              "dtype: float64"
            ]
          },
          "metadata": {
            "tags": []
          },
          "execution_count": 9
        }
      ]
    },
    {
      "cell_type": "code",
      "metadata": {
        "colab": {
          "base_uri": "https://localhost:8080/"
        },
        "id": "xEmEdS1EcnzM",
        "outputId": "52a21479-a01e-41fa-f653-1ddedcab629b"
      },
      "source": [
        "df['Volumen_2018'].max()"
      ],
      "execution_count": null,
      "outputs": [
        {
          "output_type": "execute_result",
          "data": {
            "text/plain": [
              "5668570"
            ]
          },
          "metadata": {
            "tags": []
          },
          "execution_count": 10
        }
      ]
    },
    {
      "cell_type": "code",
      "metadata": {
        "colab": {
          "base_uri": "https://localhost:8080/"
        },
        "id": "skTS6Qtj0jY6",
        "outputId": "2bafb9cf-f3c9-4853-823a-3d0c00159140"
      },
      "source": [
        "print('Precio Promedio Ponderado =', prom_pond)"
      ],
      "execution_count": null,
      "outputs": [
        {
          "output_type": "stream",
          "text": [
            "Precio Promedio Ponderado = 7.649943545248757\n"
          ],
          "name": "stdout"
        }
      ]
    },
    {
      "cell_type": "code",
      "metadata": {
        "id": "bylMEkKn0xbg"
      },
      "source": [
        "df['Pais'] = df.index"
      ],
      "execution_count": null,
      "outputs": []
    },
    {
      "cell_type": "code",
      "metadata": {
        "colab": {
          "base_uri": "https://localhost:8080/",
          "height": 542
        },
        "id": "ItxkCKAZ00uU",
        "outputId": "98cdb75f-9e34-4220-c1b0-3cc92f7c5041"
      },
      "source": [
        "fig = px.pie(df, values='Volumen_2018', names='Pais', title='Participación por Volumen')\n",
        "fig.show()"
      ],
      "execution_count": null,
      "outputs": [
        {
          "output_type": "display_data",
          "data": {
            "text/html": [
              "<html>\n",
              "<head><meta charset=\"utf-8\" /></head>\n",
              "<body>\n",
              "    <div>\n",
              "            <script src=\"https://cdnjs.cloudflare.com/ajax/libs/mathjax/2.7.5/MathJax.js?config=TeX-AMS-MML_SVG\"></script><script type=\"text/javascript\">if (window.MathJax) {MathJax.Hub.Config({SVG: {font: \"STIX-Web\"}});}</script>\n",
              "                <script type=\"text/javascript\">window.PlotlyConfig = {MathJaxConfig: 'local'};</script>\n",
              "        <script src=\"https://cdn.plot.ly/plotly-latest.min.js\"></script>    \n",
              "            <div id=\"d52cd23a-a2b4-4d7d-82cb-42626dd9fe2b\" class=\"plotly-graph-div\" style=\"height:525px; width:100%;\"></div>\n",
              "            <script type=\"text/javascript\">\n",
              "                \n",
              "                    window.PLOTLYENV=window.PLOTLYENV || {};\n",
              "                    \n",
              "                if (document.getElementById(\"d52cd23a-a2b4-4d7d-82cb-42626dd9fe2b\")) {\n",
              "                    Plotly.newPlot(\n",
              "                        'd52cd23a-a2b4-4d7d-82cb-42626dd9fe2b',\n",
              "                        [{\"domain\": {\"x\": [0.0, 1.0], \"y\": [0.0, 1.0]}, \"hoverlabel\": {\"namelength\": 0}, \"hovertemplate\": \"Pais=%{label}<br>Volumen_2018=%{value}\", \"labels\": [\"Emiratos Arabes Unidos\", \"Brasil (Rep\\u00fablica Federativa del)\", \"Colombia (Rep\\u00fablica de)\", \"Rep\\u00fablica Checa\", \"China (Rep\\u00fablica Popular de)\", \"Alemania (Rep\\u00fablica Federal de)\", \"Espa\\u00f1a (Reino de)\", \"India (Rep\\u00fablica de la)\", \"Italia\", \"Portugal\", \"Turquia (Rep\\u00fablica de)\", \"Estados Unidos de Am\\u00e9rica\"], \"legendgroup\": \"\", \"name\": \"\", \"showlegend\": true, \"type\": \"pie\", \"values\": [7726, 20677, 1823, 12713, 508730, 8743, 316183, 5668570, 525861, 31050, 4284, 191520]}],\n",
              "                        {\"legend\": {\"tracegroupgap\": 0}, \"template\": {\"data\": {\"bar\": [{\"error_x\": {\"color\": \"#2a3f5f\"}, \"error_y\": {\"color\": \"#2a3f5f\"}, \"marker\": {\"line\": {\"color\": \"#E5ECF6\", \"width\": 0.5}}, \"type\": \"bar\"}], \"barpolar\": [{\"marker\": {\"line\": {\"color\": \"#E5ECF6\", \"width\": 0.5}}, \"type\": \"barpolar\"}], \"carpet\": [{\"aaxis\": {\"endlinecolor\": \"#2a3f5f\", \"gridcolor\": \"white\", \"linecolor\": \"white\", \"minorgridcolor\": \"white\", \"startlinecolor\": \"#2a3f5f\"}, \"baxis\": {\"endlinecolor\": \"#2a3f5f\", \"gridcolor\": \"white\", \"linecolor\": \"white\", \"minorgridcolor\": \"white\", \"startlinecolor\": \"#2a3f5f\"}, \"type\": \"carpet\"}], \"choropleth\": [{\"colorbar\": {\"outlinewidth\": 0, \"ticks\": \"\"}, \"type\": \"choropleth\"}], \"contour\": [{\"colorbar\": {\"outlinewidth\": 0, \"ticks\": \"\"}, \"colorscale\": [[0.0, \"#0d0887\"], [0.1111111111111111, \"#46039f\"], [0.2222222222222222, \"#7201a8\"], [0.3333333333333333, \"#9c179e\"], [0.4444444444444444, \"#bd3786\"], [0.5555555555555556, \"#d8576b\"], [0.6666666666666666, \"#ed7953\"], [0.7777777777777778, \"#fb9f3a\"], [0.8888888888888888, \"#fdca26\"], [1.0, \"#f0f921\"]], \"type\": \"contour\"}], \"contourcarpet\": [{\"colorbar\": {\"outlinewidth\": 0, \"ticks\": \"\"}, \"type\": \"contourcarpet\"}], \"heatmap\": [{\"colorbar\": {\"outlinewidth\": 0, \"ticks\": \"\"}, \"colorscale\": [[0.0, \"#0d0887\"], [0.1111111111111111, \"#46039f\"], [0.2222222222222222, \"#7201a8\"], [0.3333333333333333, \"#9c179e\"], [0.4444444444444444, \"#bd3786\"], [0.5555555555555556, \"#d8576b\"], [0.6666666666666666, \"#ed7953\"], [0.7777777777777778, \"#fb9f3a\"], [0.8888888888888888, \"#fdca26\"], [1.0, \"#f0f921\"]], \"type\": \"heatmap\"}], \"heatmapgl\": [{\"colorbar\": {\"outlinewidth\": 0, \"ticks\": \"\"}, \"colorscale\": [[0.0, \"#0d0887\"], [0.1111111111111111, \"#46039f\"], [0.2222222222222222, \"#7201a8\"], [0.3333333333333333, \"#9c179e\"], [0.4444444444444444, \"#bd3786\"], [0.5555555555555556, \"#d8576b\"], [0.6666666666666666, \"#ed7953\"], [0.7777777777777778, \"#fb9f3a\"], [0.8888888888888888, \"#fdca26\"], [1.0, \"#f0f921\"]], \"type\": \"heatmapgl\"}], \"histogram\": [{\"marker\": {\"colorbar\": {\"outlinewidth\": 0, \"ticks\": \"\"}}, \"type\": \"histogram\"}], \"histogram2d\": [{\"colorbar\": {\"outlinewidth\": 0, \"ticks\": \"\"}, \"colorscale\": [[0.0, \"#0d0887\"], [0.1111111111111111, \"#46039f\"], [0.2222222222222222, \"#7201a8\"], [0.3333333333333333, \"#9c179e\"], [0.4444444444444444, \"#bd3786\"], [0.5555555555555556, \"#d8576b\"], [0.6666666666666666, \"#ed7953\"], [0.7777777777777778, \"#fb9f3a\"], [0.8888888888888888, \"#fdca26\"], [1.0, \"#f0f921\"]], \"type\": \"histogram2d\"}], \"histogram2dcontour\": [{\"colorbar\": {\"outlinewidth\": 0, \"ticks\": \"\"}, \"colorscale\": [[0.0, \"#0d0887\"], [0.1111111111111111, \"#46039f\"], [0.2222222222222222, \"#7201a8\"], [0.3333333333333333, \"#9c179e\"], [0.4444444444444444, \"#bd3786\"], [0.5555555555555556, \"#d8576b\"], [0.6666666666666666, \"#ed7953\"], [0.7777777777777778, \"#fb9f3a\"], [0.8888888888888888, \"#fdca26\"], [1.0, \"#f0f921\"]], \"type\": \"histogram2dcontour\"}], \"mesh3d\": [{\"colorbar\": {\"outlinewidth\": 0, \"ticks\": \"\"}, \"type\": \"mesh3d\"}], \"parcoords\": [{\"line\": {\"colorbar\": {\"outlinewidth\": 0, \"ticks\": \"\"}}, \"type\": \"parcoords\"}], \"pie\": [{\"automargin\": true, \"type\": \"pie\"}], \"scatter\": [{\"marker\": {\"colorbar\": {\"outlinewidth\": 0, \"ticks\": \"\"}}, \"type\": \"scatter\"}], \"scatter3d\": [{\"line\": {\"colorbar\": {\"outlinewidth\": 0, \"ticks\": \"\"}}, \"marker\": {\"colorbar\": {\"outlinewidth\": 0, \"ticks\": \"\"}}, \"type\": \"scatter3d\"}], \"scattercarpet\": [{\"marker\": {\"colorbar\": {\"outlinewidth\": 0, \"ticks\": \"\"}}, \"type\": \"scattercarpet\"}], \"scattergeo\": [{\"marker\": {\"colorbar\": {\"outlinewidth\": 0, \"ticks\": \"\"}}, \"type\": \"scattergeo\"}], \"scattergl\": [{\"marker\": {\"colorbar\": {\"outlinewidth\": 0, \"ticks\": \"\"}}, \"type\": \"scattergl\"}], \"scattermapbox\": [{\"marker\": {\"colorbar\": {\"outlinewidth\": 0, \"ticks\": \"\"}}, \"type\": \"scattermapbox\"}], \"scatterpolar\": [{\"marker\": {\"colorbar\": {\"outlinewidth\": 0, \"ticks\": \"\"}}, \"type\": \"scatterpolar\"}], \"scatterpolargl\": [{\"marker\": {\"colorbar\": {\"outlinewidth\": 0, \"ticks\": \"\"}}, \"type\": \"scatterpolargl\"}], \"scatterternary\": [{\"marker\": {\"colorbar\": {\"outlinewidth\": 0, \"ticks\": \"\"}}, \"type\": \"scatterternary\"}], \"surface\": [{\"colorbar\": {\"outlinewidth\": 0, \"ticks\": \"\"}, \"colorscale\": [[0.0, \"#0d0887\"], [0.1111111111111111, \"#46039f\"], [0.2222222222222222, \"#7201a8\"], [0.3333333333333333, \"#9c179e\"], [0.4444444444444444, \"#bd3786\"], [0.5555555555555556, \"#d8576b\"], [0.6666666666666666, \"#ed7953\"], [0.7777777777777778, \"#fb9f3a\"], [0.8888888888888888, \"#fdca26\"], [1.0, \"#f0f921\"]], \"type\": \"surface\"}], \"table\": [{\"cells\": {\"fill\": {\"color\": \"#EBF0F8\"}, \"line\": {\"color\": \"white\"}}, \"header\": {\"fill\": {\"color\": \"#C8D4E3\"}, \"line\": {\"color\": \"white\"}}, \"type\": \"table\"}]}, \"layout\": {\"annotationdefaults\": {\"arrowcolor\": \"#2a3f5f\", \"arrowhead\": 0, \"arrowwidth\": 1}, \"coloraxis\": {\"colorbar\": {\"outlinewidth\": 0, \"ticks\": \"\"}}, \"colorscale\": {\"diverging\": [[0, \"#8e0152\"], [0.1, \"#c51b7d\"], [0.2, \"#de77ae\"], [0.3, \"#f1b6da\"], [0.4, \"#fde0ef\"], [0.5, \"#f7f7f7\"], [0.6, \"#e6f5d0\"], [0.7, \"#b8e186\"], [0.8, \"#7fbc41\"], [0.9, \"#4d9221\"], [1, \"#276419\"]], \"sequential\": [[0.0, \"#0d0887\"], [0.1111111111111111, \"#46039f\"], [0.2222222222222222, \"#7201a8\"], [0.3333333333333333, \"#9c179e\"], [0.4444444444444444, \"#bd3786\"], [0.5555555555555556, \"#d8576b\"], [0.6666666666666666, \"#ed7953\"], [0.7777777777777778, \"#fb9f3a\"], [0.8888888888888888, \"#fdca26\"], [1.0, \"#f0f921\"]], \"sequentialminus\": [[0.0, \"#0d0887\"], [0.1111111111111111, \"#46039f\"], [0.2222222222222222, \"#7201a8\"], [0.3333333333333333, \"#9c179e\"], [0.4444444444444444, \"#bd3786\"], [0.5555555555555556, \"#d8576b\"], [0.6666666666666666, \"#ed7953\"], [0.7777777777777778, \"#fb9f3a\"], [0.8888888888888888, \"#fdca26\"], [1.0, \"#f0f921\"]]}, \"colorway\": [\"#636efa\", \"#EF553B\", \"#00cc96\", \"#ab63fa\", \"#FFA15A\", \"#19d3f3\", \"#FF6692\", \"#B6E880\", \"#FF97FF\", \"#FECB52\"], \"font\": {\"color\": \"#2a3f5f\"}, \"geo\": {\"bgcolor\": \"white\", \"lakecolor\": \"white\", \"landcolor\": \"#E5ECF6\", \"showlakes\": true, \"showland\": true, \"subunitcolor\": \"white\"}, \"hoverlabel\": {\"align\": \"left\"}, \"hovermode\": \"closest\", \"mapbox\": {\"style\": \"light\"}, \"paper_bgcolor\": \"white\", \"plot_bgcolor\": \"#E5ECF6\", \"polar\": {\"angularaxis\": {\"gridcolor\": \"white\", \"linecolor\": \"white\", \"ticks\": \"\"}, \"bgcolor\": \"#E5ECF6\", \"radialaxis\": {\"gridcolor\": \"white\", \"linecolor\": \"white\", \"ticks\": \"\"}}, \"scene\": {\"xaxis\": {\"backgroundcolor\": \"#E5ECF6\", \"gridcolor\": \"white\", \"gridwidth\": 2, \"linecolor\": \"white\", \"showbackground\": true, \"ticks\": \"\", \"zerolinecolor\": \"white\"}, \"yaxis\": {\"backgroundcolor\": \"#E5ECF6\", \"gridcolor\": \"white\", \"gridwidth\": 2, \"linecolor\": \"white\", \"showbackground\": true, \"ticks\": \"\", \"zerolinecolor\": \"white\"}, \"zaxis\": {\"backgroundcolor\": \"#E5ECF6\", \"gridcolor\": \"white\", \"gridwidth\": 2, \"linecolor\": \"white\", \"showbackground\": true, \"ticks\": \"\", \"zerolinecolor\": \"white\"}}, \"shapedefaults\": {\"line\": {\"color\": \"#2a3f5f\"}}, \"ternary\": {\"aaxis\": {\"gridcolor\": \"white\", \"linecolor\": \"white\", \"ticks\": \"\"}, \"baxis\": {\"gridcolor\": \"white\", \"linecolor\": \"white\", \"ticks\": \"\"}, \"bgcolor\": \"#E5ECF6\", \"caxis\": {\"gridcolor\": \"white\", \"linecolor\": \"white\", \"ticks\": \"\"}}, \"title\": {\"x\": 0.05}, \"xaxis\": {\"automargin\": true, \"gridcolor\": \"white\", \"linecolor\": \"white\", \"ticks\": \"\", \"title\": {\"standoff\": 15}, \"zerolinecolor\": \"white\", \"zerolinewidth\": 2}, \"yaxis\": {\"automargin\": true, \"gridcolor\": \"white\", \"linecolor\": \"white\", \"ticks\": \"\", \"title\": {\"standoff\": 15}, \"zerolinecolor\": \"white\", \"zerolinewidth\": 2}}}, \"title\": {\"text\": \"Participaci\\u00f3n por Volumen\"}},\n",
              "                        {\"responsive\": true}\n",
              "                    ).then(function(){\n",
              "                            \n",
              "var gd = document.getElementById('d52cd23a-a2b4-4d7d-82cb-42626dd9fe2b');\n",
              "var x = new MutationObserver(function (mutations, observer) {{\n",
              "        var display = window.getComputedStyle(gd).display;\n",
              "        if (!display || display === 'none') {{\n",
              "            console.log([gd, 'removed!']);\n",
              "            Plotly.purge(gd);\n",
              "            observer.disconnect();\n",
              "        }}\n",
              "}});\n",
              "\n",
              "// Listen for the removal of the full notebook cells\n",
              "var notebookContainer = gd.closest('#notebook-container');\n",
              "if (notebookContainer) {{\n",
              "    x.observe(notebookContainer, {childList: true});\n",
              "}}\n",
              "\n",
              "// Listen for the clearing of the current output cell\n",
              "var outputEl = gd.closest('.output');\n",
              "if (outputEl) {{\n",
              "    x.observe(outputEl, {childList: true});\n",
              "}}\n",
              "\n",
              "                        })\n",
              "                };\n",
              "                \n",
              "            </script>\n",
              "        </div>\n",
              "</body>\n",
              "</html>"
            ]
          },
          "metadata": {
            "tags": []
          }
        }
      ]
    },
    {
      "cell_type": "code",
      "metadata": {
        "colab": {
          "base_uri": "https://localhost:8080/",
          "height": 452
        },
        "id": "8kQJjdri1lES",
        "outputId": "12e6b906-d53f-41b7-f60a-9e815089036d"
      },
      "source": [
        "df['Precio'] = precio\n",
        "df"
      ],
      "execution_count": null,
      "outputs": [
        {
          "output_type": "execute_result",
          "data": {
            "text/html": [
              "<div>\n",
              "<style scoped>\n",
              "    .dataframe tbody tr th:only-of-type {\n",
              "        vertical-align: middle;\n",
              "    }\n",
              "\n",
              "    .dataframe tbody tr th {\n",
              "        vertical-align: top;\n",
              "    }\n",
              "\n",
              "    .dataframe thead th {\n",
              "        text-align: right;\n",
              "    }\n",
              "</style>\n",
              "<table border=\"1\" class=\"dataframe\">\n",
              "  <thead>\n",
              "    <tr style=\"text-align: right;\">\n",
              "      <th></th>\n",
              "      <th>Valor_2018</th>\n",
              "      <th>Volumen_2018</th>\n",
              "      <th>Pais</th>\n",
              "      <th>Precio</th>\n",
              "    </tr>\n",
              "    <tr>\n",
              "      <th>País</th>\n",
              "      <th></th>\n",
              "      <th></th>\n",
              "      <th></th>\n",
              "      <th></th>\n",
              "    </tr>\n",
              "  </thead>\n",
              "  <tbody>\n",
              "    <tr>\n",
              "      <th>Emiratos Arabes Unidos</th>\n",
              "      <td>141224</td>\n",
              "      <td>7726</td>\n",
              "      <td>Emiratos Arabes Unidos</td>\n",
              "      <td>18.279058</td>\n",
              "    </tr>\n",
              "    <tr>\n",
              "      <th>Brasil (República Federativa del)</th>\n",
              "      <td>352599</td>\n",
              "      <td>20677</td>\n",
              "      <td>Brasil (República Federativa del)</td>\n",
              "      <td>17.052716</td>\n",
              "    </tr>\n",
              "    <tr>\n",
              "      <th>Colombia (República de)</th>\n",
              "      <td>21355</td>\n",
              "      <td>1823</td>\n",
              "      <td>Colombia (República de)</td>\n",
              "      <td>11.714207</td>\n",
              "    </tr>\n",
              "    <tr>\n",
              "      <th>República Checa</th>\n",
              "      <td>120241</td>\n",
              "      <td>12713</td>\n",
              "      <td>República Checa</td>\n",
              "      <td>9.458114</td>\n",
              "    </tr>\n",
              "    <tr>\n",
              "      <th>China (República Popular de)</th>\n",
              "      <td>4758758</td>\n",
              "      <td>508730</td>\n",
              "      <td>China (República Popular de)</td>\n",
              "      <td>9.354192</td>\n",
              "    </tr>\n",
              "    <tr>\n",
              "      <th>Alemania (República Federal de)</th>\n",
              "      <td>215682</td>\n",
              "      <td>8743</td>\n",
              "      <td>Alemania (República Federal de)</td>\n",
              "      <td>24.669107</td>\n",
              "    </tr>\n",
              "    <tr>\n",
              "      <th>España (Reino de)</th>\n",
              "      <td>6513611</td>\n",
              "      <td>316183</td>\n",
              "      <td>España (Reino de)</td>\n",
              "      <td>20.600763</td>\n",
              "    </tr>\n",
              "    <tr>\n",
              "      <th>India (República de la)</th>\n",
              "      <td>25756769</td>\n",
              "      <td>5668570</td>\n",
              "      <td>India (República de la)</td>\n",
              "      <td>4.543786</td>\n",
              "    </tr>\n",
              "    <tr>\n",
              "      <th>Italia</th>\n",
              "      <td>14710145</td>\n",
              "      <td>525861</td>\n",
              "      <td>Italia</td>\n",
              "      <td>27.973447</td>\n",
              "    </tr>\n",
              "    <tr>\n",
              "      <th>Portugal</th>\n",
              "      <td>661859</td>\n",
              "      <td>31050</td>\n",
              "      <td>Portugal</td>\n",
              "      <td>21.315910</td>\n",
              "    </tr>\n",
              "    <tr>\n",
              "      <th>Turquia (República de)</th>\n",
              "      <td>42292</td>\n",
              "      <td>4284</td>\n",
              "      <td>Turquia (República de)</td>\n",
              "      <td>9.872082</td>\n",
              "    </tr>\n",
              "    <tr>\n",
              "      <th>Estados Unidos de América</th>\n",
              "      <td>2533835</td>\n",
              "      <td>191520</td>\n",
              "      <td>Estados Unidos de América</td>\n",
              "      <td>13.230133</td>\n",
              "    </tr>\n",
              "  </tbody>\n",
              "</table>\n",
              "</div>"
            ],
            "text/plain": [
              "                                   Valor_2018  ...     Precio\n",
              "País                                           ...           \n",
              "Emiratos Arabes Unidos                 141224  ...  18.279058\n",
              "Brasil (República Federativa del)      352599  ...  17.052716\n",
              "Colombia (República de)                 21355  ...  11.714207\n",
              "República Checa                        120241  ...   9.458114\n",
              "China (República Popular de)          4758758  ...   9.354192\n",
              "Alemania (República Federal de)        215682  ...  24.669107\n",
              "España (Reino de)                     6513611  ...  20.600763\n",
              "India (República de la)              25756769  ...   4.543786\n",
              "Italia                               14710145  ...  27.973447\n",
              "Portugal                               661859  ...  21.315910\n",
              "Turquia (República de)                  42292  ...   9.872082\n",
              "Estados Unidos de América             2533835  ...  13.230133\n",
              "\n",
              "[12 rows x 4 columns]"
            ]
          },
          "metadata": {
            "tags": []
          },
          "execution_count": 14
        }
      ]
    },
    {
      "cell_type": "code",
      "metadata": {
        "colab": {
          "base_uri": "https://localhost:8080/"
        },
        "id": "0ZUWoF8EyRVj",
        "outputId": "673a3cbb-34f5-4a0e-b73e-d93863c42df1"
      },
      "source": [
        "df['Precio'].min()"
      ],
      "execution_count": null,
      "outputs": [
        {
          "output_type": "execute_result",
          "data": {
            "text/plain": [
              "4.543785998938004"
            ]
          },
          "metadata": {
            "tags": []
          },
          "execution_count": 15
        }
      ]
    },
    {
      "cell_type": "code",
      "metadata": {
        "id": "nqZsI8hr1qJ2"
      },
      "source": [
        "avg = df['Volumen_2018'].mean()\n",
        "avg1 = df['Valor_2018'].mean()\n",
        "avg2 = df['Precio'].mean()\n"
      ],
      "execution_count": null,
      "outputs": []
    },
    {
      "cell_type": "code",
      "metadata": {
        "id": "I8KIwUbc18i1"
      },
      "source": [
        "med = df['Volumen_2018'].median()\n",
        "med1 = df['Valor_2018'].median()\n",
        "med2 = df['Precio'].median()"
      ],
      "execution_count": null,
      "outputs": []
    },
    {
      "cell_type": "code",
      "metadata": {
        "id": "Gy24ePkU1_gd"
      },
      "source": [
        "rango = df['Volumen_2018'].max() - df['Volumen_2018'].min()\n",
        "rango1 = df['Valor_2018'].max() - df['Valor_2018'].min()\n",
        "rango2 = df['Precio'].max() - df['Precio'].min()"
      ],
      "execution_count": null,
      "outputs": []
    },
    {
      "cell_type": "code",
      "metadata": {
        "id": "TdrOma_A2C31"
      },
      "source": [
        "var = df['Volumen_2018'].var()\n",
        "var1 = df['Valor_2018'].var()\n",
        "var2 = df['Precio'].var()"
      ],
      "execution_count": null,
      "outputs": []
    },
    {
      "cell_type": "code",
      "metadata": {
        "id": "gxR_WtyO2Hnv"
      },
      "source": [
        "std = df['Volumen_2018'].std()\n",
        "std1 = df['Valor_2018'].std()\n",
        "std2 = df['Precio'].std()"
      ],
      "execution_count": null,
      "outputs": []
    },
    {
      "cell_type": "code",
      "metadata": {
        "id": "6XhS4G1p2LBd"
      },
      "source": [
        "coef_var = df['Volumen_2018'].std() / df['Volumen_2018'].mean()*100\n",
        "coef_var1 = df['Valor_2018'].std() / df['Valor_2018'].mean()*100\n",
        "coef_var2 = df['Precio'].std() / df['Precio'].mean()*100"
      ],
      "execution_count": null,
      "outputs": []
    },
    {
      "cell_type": "code",
      "metadata": {
        "id": "sX57K2PJ2O6N",
        "colab": {
          "base_uri": "https://localhost:8080/",
          "height": 173
        },
        "outputId": "abfdbe61-b79e-4160-952b-6b6f94d22c10"
      },
      "source": [
        "descriptiva = pd.DataFrame({'Variables':['Volumen', 'Valor', 'Precio'], 'Media': [avg, avg1, avg2], \n",
        "                            'Mediana': [med, med1, med2], 'Rango':[rango, rango1, rango2],\n",
        "                            'Varianza': [var, var1, var2], 'Des_Est':[std, std1, std2],\n",
        "                            'Coef_Variación':[coef_var, coef_var1, coef_var2]})\n",
        "descriptiva.set_index('Variables', inplace=True)\n",
        "descriptiva"
      ],
      "execution_count": null,
      "outputs": [
        {
          "output_type": "execute_result",
          "data": {
            "text/html": [
              "<div>\n",
              "<style scoped>\n",
              "    .dataframe tbody tr th:only-of-type {\n",
              "        vertical-align: middle;\n",
              "    }\n",
              "\n",
              "    .dataframe tbody tr th {\n",
              "        vertical-align: top;\n",
              "    }\n",
              "\n",
              "    .dataframe thead th {\n",
              "        text-align: right;\n",
              "    }\n",
              "</style>\n",
              "<table border=\"1\" class=\"dataframe\">\n",
              "  <thead>\n",
              "    <tr style=\"text-align: right;\">\n",
              "      <th></th>\n",
              "      <th>Media</th>\n",
              "      <th>Mediana</th>\n",
              "      <th>Rango</th>\n",
              "      <th>Varianza</th>\n",
              "      <th>Des_Est</th>\n",
              "      <th>Coef_Variación</th>\n",
              "    </tr>\n",
              "    <tr>\n",
              "      <th>Variables</th>\n",
              "      <th></th>\n",
              "      <th></th>\n",
              "      <th></th>\n",
              "      <th></th>\n",
              "      <th></th>\n",
              "      <th></th>\n",
              "    </tr>\n",
              "  </thead>\n",
              "  <tbody>\n",
              "    <tr>\n",
              "      <th>Volumen</th>\n",
              "      <td>6.081567e+05</td>\n",
              "      <td>25863.500000</td>\n",
              "      <td>5.666747e+06</td>\n",
              "      <td>2.578921e+12</td>\n",
              "      <td>1.605902e+06</td>\n",
              "      <td>264.060561</td>\n",
              "    </tr>\n",
              "    <tr>\n",
              "      <th>Valor</th>\n",
              "      <td>4.652364e+06</td>\n",
              "      <td>507229.000000</td>\n",
              "      <td>2.573541e+07</td>\n",
              "      <td>6.292767e+13</td>\n",
              "      <td>7.932696e+06</td>\n",
              "      <td>170.508929</td>\n",
              "    </tr>\n",
              "    <tr>\n",
              "      <th>Precio</th>\n",
              "      <td>1.567196e+01</td>\n",
              "      <td>15.141424</td>\n",
              "      <td>2.342966e+01</td>\n",
              "      <td>5.043211e+01</td>\n",
              "      <td>7.101557e+00</td>\n",
              "      <td>45.313777</td>\n",
              "    </tr>\n",
              "  </tbody>\n",
              "</table>\n",
              "</div>"
            ],
            "text/plain": [
              "                  Media        Mediana  ...       Des_Est  Coef_Variación\n",
              "Variables                               ...                              \n",
              "Volumen    6.081567e+05   25863.500000  ...  1.605902e+06      264.060561\n",
              "Valor      4.652364e+06  507229.000000  ...  7.932696e+06      170.508929\n",
              "Precio     1.567196e+01      15.141424  ...  7.101557e+00       45.313777\n",
              "\n",
              "[3 rows x 6 columns]"
            ]
          },
          "metadata": {
            "tags": []
          },
          "execution_count": 22
        }
      ]
    },
    {
      "cell_type": "code",
      "metadata": {
        "colab": {
          "base_uri": "https://localhost:8080/"
        },
        "id": "mAKgH8mHDfjT",
        "outputId": "742184e8-40dd-489b-813b-a6af0e5fcf43"
      },
      "source": [
        "rango_precio = df['Precio'].max() - df['Precio'].min()\n",
        "rango_precio"
      ],
      "execution_count": null,
      "outputs": [
        {
          "output_type": "execute_result",
          "data": {
            "text/plain": [
              "23.429661356922196"
            ]
          },
          "metadata": {
            "tags": []
          },
          "execution_count": 23
        }
      ]
    },
    {
      "cell_type": "code",
      "metadata": {
        "colab": {
          "base_uri": "https://localhost:8080/"
        },
        "id": "2qURVHViJMps",
        "outputId": "124eae4f-1397-4aab-d666-4214c2ae706d"
      },
      "source": [
        "amplitud = rango_precio/5\n",
        "amplitud"
      ],
      "execution_count": null,
      "outputs": [
        {
          "output_type": "execute_result",
          "data": {
            "text/plain": [
              "4.68593227138444"
            ]
          },
          "metadata": {
            "tags": []
          },
          "execution_count": 24
        }
      ]
    },
    {
      "cell_type": "code",
      "metadata": {
        "colab": {
          "base_uri": "https://localhost:8080/"
        },
        "id": "asyrMOllI3CO",
        "outputId": "e80902c5-4e91-41a6-b831-e174a795b1d4"
      },
      "source": [
        "df['Precio'].max()"
      ],
      "execution_count": null,
      "outputs": [
        {
          "output_type": "execute_result",
          "data": {
            "text/plain": [
              "27.9734473558602"
            ]
          },
          "metadata": {
            "tags": []
          },
          "execution_count": 25
        }
      ]
    },
    {
      "cell_type": "code",
      "metadata": {
        "colab": {
          "base_uri": "https://localhost:8080/"
        },
        "id": "YUROSrMLDtiF",
        "outputId": "1ba65bc7-922a-4c30-e24d-ef53b8a84958"
      },
      "source": [
        "df['Precio'].min(), df['Precio'].min() + amplitud"
      ],
      "execution_count": null,
      "outputs": [
        {
          "output_type": "execute_result",
          "data": {
            "text/plain": [
              "(4.543785998938004, 9.229718270322444)"
            ]
          },
          "metadata": {
            "tags": []
          },
          "execution_count": 26
        }
      ]
    },
    {
      "cell_type": "code",
      "metadata": {
        "colab": {
          "base_uri": "https://localhost:8080/"
        },
        "id": "OZQ8GihkDxbl",
        "outputId": "ab4d211c-6292-42f7-8833-786622ca3ee7"
      },
      "source": [
        "gpo2 = df['Precio'].min() + amplitud\n",
        "gpo3 = gpo2+amplitud\n",
        "gpo2, gpo3"
      ],
      "execution_count": null,
      "outputs": [
        {
          "output_type": "execute_result",
          "data": {
            "text/plain": [
              "(9.229718270322444, 13.915650541706883)"
            ]
          },
          "metadata": {
            "tags": []
          },
          "execution_count": 27
        }
      ]
    },
    {
      "cell_type": "code",
      "metadata": {
        "colab": {
          "base_uri": "https://localhost:8080/"
        },
        "id": "9wforMNWD2pj",
        "outputId": "8f5e0b75-e308-48ad-f46c-9827b3c02e9b"
      },
      "source": [
        "gpo4 = gpo3 + amplitud\n",
        "gpo3, gpo4"
      ],
      "execution_count": null,
      "outputs": [
        {
          "output_type": "execute_result",
          "data": {
            "text/plain": [
              "(13.915650541706883, 18.601582813091323)"
            ]
          },
          "metadata": {
            "tags": []
          },
          "execution_count": 28
        }
      ]
    },
    {
      "cell_type": "code",
      "metadata": {
        "colab": {
          "base_uri": "https://localhost:8080/"
        },
        "id": "_mZIBz-iD-NN",
        "outputId": "b2730f7d-efa5-49b0-f002-a454354453c4"
      },
      "source": [
        "gpo5 = gpo4 + amplitud\n",
        "gpo4, gpo5"
      ],
      "execution_count": null,
      "outputs": [
        {
          "output_type": "execute_result",
          "data": {
            "text/plain": [
              "(18.601582813091323, 23.287515084475764)"
            ]
          },
          "metadata": {
            "tags": []
          },
          "execution_count": 29
        }
      ]
    },
    {
      "cell_type": "code",
      "metadata": {
        "colab": {
          "base_uri": "https://localhost:8080/"
        },
        "id": "iiAr10xDEDpH",
        "outputId": "dd0b3a55-1c99-45e6-cbcc-3665f9e07dcf"
      },
      "source": [
        "gpo6 = gpo5 + amplitud\n",
        "gpo5, gpo6"
      ],
      "execution_count": null,
      "outputs": [
        {
          "output_type": "execute_result",
          "data": {
            "text/plain": [
              "(23.287515084475764, 27.973447355860202)"
            ]
          },
          "metadata": {
            "tags": []
          },
          "execution_count": 30
        }
      ]
    },
    {
      "cell_type": "code",
      "metadata": {
        "id": "ql8SM7kVEROA"
      },
      "source": [
        "df['Precios_agrup'] = pd.cut(df['Precio'], bins= [0,6,12,18,24,30])\n",
        "g = df.groupby(['Precios_agrup'])"
      ],
      "execution_count": null,
      "outputs": []
    },
    {
      "cell_type": "code",
      "metadata": {
        "colab": {
          "base_uri": "https://localhost:8080/"
        },
        "id": "TpVORdNEF9lX",
        "outputId": "953b9f4b-c0c0-4e1a-afa4-bff1527821fe"
      },
      "source": [
        "for Precios_agrup, Precios_agrup_df in g:\n",
        "    print(Precios_agrup)\n",
        "    print(Precios_agrup_df)"
      ],
      "execution_count": null,
      "outputs": [
        {
          "output_type": "stream",
          "text": [
            "(0, 6]\n",
            "                         Valor_2018  Volumen_2018  ...    Precio  Precios_agrup\n",
            "País                                               ...                         \n",
            "India (República de la)    25756769       5668570  ...  4.543786         (0, 6]\n",
            "\n",
            "[1 rows x 5 columns]\n",
            "(6, 12]\n",
            "                              Valor_2018  Volumen_2018  ...     Precio  Precios_agrup\n",
            "País                                                    ...                          \n",
            "Colombia (República de)            21355          1823  ...  11.714207        (6, 12]\n",
            "República Checa                   120241         12713  ...   9.458114        (6, 12]\n",
            "China (República Popular de)     4758758        508730  ...   9.354192        (6, 12]\n",
            "Turquia (República de)             42292          4284  ...   9.872082        (6, 12]\n",
            "\n",
            "[4 rows x 5 columns]\n",
            "(12, 18]\n",
            "                                   Valor_2018  ...  Precios_agrup\n",
            "País                                           ...               \n",
            "Brasil (República Federativa del)      352599  ...       (12, 18]\n",
            "Estados Unidos de América             2533835  ...       (12, 18]\n",
            "\n",
            "[2 rows x 5 columns]\n",
            "(18, 24]\n",
            "                        Valor_2018  Volumen_2018  ...     Precio  Precios_agrup\n",
            "País                                              ...                          \n",
            "Emiratos Arabes Unidos      141224          7726  ...  18.279058       (18, 24]\n",
            "España (Reino de)          6513611        316183  ...  20.600763       (18, 24]\n",
            "Portugal                    661859         31050  ...  21.315910       (18, 24]\n",
            "\n",
            "[3 rows x 5 columns]\n",
            "(24, 30]\n",
            "                                 Valor_2018  ...  Precios_agrup\n",
            "País                                         ...               \n",
            "Alemania (República Federal de)      215682  ...       (24, 30]\n",
            "Italia                             14710145  ...       (24, 30]\n",
            "\n",
            "[2 rows x 5 columns]\n"
          ],
          "name": "stdout"
        }
      ]
    },
    {
      "cell_type": "code",
      "metadata": {
        "id": "mwdaQpwUGS9Q",
        "colab": {
          "base_uri": "https://localhost:8080/",
          "height": 235
        },
        "outputId": "0bbbcc26-8a8e-4cf8-ae66-cc871f393e20"
      },
      "source": [
        "tabla_frec = g.count()\n",
        "tabla_frec"
      ],
      "execution_count": null,
      "outputs": [
        {
          "output_type": "execute_result",
          "data": {
            "text/html": [
              "<div>\n",
              "<style scoped>\n",
              "    .dataframe tbody tr th:only-of-type {\n",
              "        vertical-align: middle;\n",
              "    }\n",
              "\n",
              "    .dataframe tbody tr th {\n",
              "        vertical-align: top;\n",
              "    }\n",
              "\n",
              "    .dataframe thead th {\n",
              "        text-align: right;\n",
              "    }\n",
              "</style>\n",
              "<table border=\"1\" class=\"dataframe\">\n",
              "  <thead>\n",
              "    <tr style=\"text-align: right;\">\n",
              "      <th></th>\n",
              "      <th>Valor_2018</th>\n",
              "      <th>Volumen_2018</th>\n",
              "      <th>Pais</th>\n",
              "      <th>Precio</th>\n",
              "    </tr>\n",
              "    <tr>\n",
              "      <th>Precios_agrup</th>\n",
              "      <th></th>\n",
              "      <th></th>\n",
              "      <th></th>\n",
              "      <th></th>\n",
              "    </tr>\n",
              "  </thead>\n",
              "  <tbody>\n",
              "    <tr>\n",
              "      <th>(0, 6]</th>\n",
              "      <td>1</td>\n",
              "      <td>1</td>\n",
              "      <td>1</td>\n",
              "      <td>1</td>\n",
              "    </tr>\n",
              "    <tr>\n",
              "      <th>(6, 12]</th>\n",
              "      <td>4</td>\n",
              "      <td>4</td>\n",
              "      <td>4</td>\n",
              "      <td>4</td>\n",
              "    </tr>\n",
              "    <tr>\n",
              "      <th>(12, 18]</th>\n",
              "      <td>2</td>\n",
              "      <td>2</td>\n",
              "      <td>2</td>\n",
              "      <td>2</td>\n",
              "    </tr>\n",
              "    <tr>\n",
              "      <th>(18, 24]</th>\n",
              "      <td>3</td>\n",
              "      <td>3</td>\n",
              "      <td>3</td>\n",
              "      <td>3</td>\n",
              "    </tr>\n",
              "    <tr>\n",
              "      <th>(24, 30]</th>\n",
              "      <td>2</td>\n",
              "      <td>2</td>\n",
              "      <td>2</td>\n",
              "      <td>2</td>\n",
              "    </tr>\n",
              "  </tbody>\n",
              "</table>\n",
              "</div>"
            ],
            "text/plain": [
              "               Valor_2018  Volumen_2018  Pais  Precio\n",
              "Precios_agrup                                        \n",
              "(0, 6]                  1             1     1       1\n",
              "(6, 12]                 4             4     4       4\n",
              "(12, 18]                2             2     2       2\n",
              "(18, 24]                3             3     3       3\n",
              "(24, 30]                2             2     2       2"
            ]
          },
          "metadata": {
            "tags": []
          },
          "execution_count": 33
        }
      ]
    },
    {
      "cell_type": "code",
      "metadata": {
        "colab": {
          "base_uri": "https://localhost:8080/",
          "height": 235
        },
        "id": "IrLHz4EvLH8d",
        "outputId": "272c21dd-c77c-4173-d79f-3d74fd08b3e2"
      },
      "source": [
        "tabla_frec.rename(columns={'Precio':'Frecuencia',}, inplace=True)\n",
        "tabla_frec.drop(['Pais','Valor_2018','Volumen_2018'], axis= 1, inplace=True)\n",
        "tabla_frec\n"
      ],
      "execution_count": null,
      "outputs": [
        {
          "output_type": "execute_result",
          "data": {
            "text/html": [
              "<div>\n",
              "<style scoped>\n",
              "    .dataframe tbody tr th:only-of-type {\n",
              "        vertical-align: middle;\n",
              "    }\n",
              "\n",
              "    .dataframe tbody tr th {\n",
              "        vertical-align: top;\n",
              "    }\n",
              "\n",
              "    .dataframe thead th {\n",
              "        text-align: right;\n",
              "    }\n",
              "</style>\n",
              "<table border=\"1\" class=\"dataframe\">\n",
              "  <thead>\n",
              "    <tr style=\"text-align: right;\">\n",
              "      <th></th>\n",
              "      <th>Frecuencia</th>\n",
              "    </tr>\n",
              "    <tr>\n",
              "      <th>Precios_agrup</th>\n",
              "      <th></th>\n",
              "    </tr>\n",
              "  </thead>\n",
              "  <tbody>\n",
              "    <tr>\n",
              "      <th>(0, 6]</th>\n",
              "      <td>1</td>\n",
              "    </tr>\n",
              "    <tr>\n",
              "      <th>(6, 12]</th>\n",
              "      <td>4</td>\n",
              "    </tr>\n",
              "    <tr>\n",
              "      <th>(12, 18]</th>\n",
              "      <td>2</td>\n",
              "    </tr>\n",
              "    <tr>\n",
              "      <th>(18, 24]</th>\n",
              "      <td>3</td>\n",
              "    </tr>\n",
              "    <tr>\n",
              "      <th>(24, 30]</th>\n",
              "      <td>2</td>\n",
              "    </tr>\n",
              "  </tbody>\n",
              "</table>\n",
              "</div>"
            ],
            "text/plain": [
              "               Frecuencia\n",
              "Precios_agrup            \n",
              "(0, 6]                  1\n",
              "(6, 12]                 4\n",
              "(12, 18]                2\n",
              "(18, 24]                3\n",
              "(24, 30]                2"
            ]
          },
          "metadata": {
            "tags": []
          },
          "execution_count": 34
        }
      ]
    },
    {
      "cell_type": "code",
      "metadata": {
        "colab": {
          "base_uri": "https://localhost:8080/",
          "height": 235
        },
        "id": "FjRWpPg0LYDP",
        "outputId": "04a054a7-09db-482a-8831-63d0059d3663"
      },
      "source": [
        "x = tabla_frec['Frecuencia'].sum()\n",
        "tabla_frec['Frecuencia_Relativa'] = tabla_frec.Frecuencia/x\n",
        "tabla_frec"
      ],
      "execution_count": null,
      "outputs": [
        {
          "output_type": "execute_result",
          "data": {
            "text/html": [
              "<div>\n",
              "<style scoped>\n",
              "    .dataframe tbody tr th:only-of-type {\n",
              "        vertical-align: middle;\n",
              "    }\n",
              "\n",
              "    .dataframe tbody tr th {\n",
              "        vertical-align: top;\n",
              "    }\n",
              "\n",
              "    .dataframe thead th {\n",
              "        text-align: right;\n",
              "    }\n",
              "</style>\n",
              "<table border=\"1\" class=\"dataframe\">\n",
              "  <thead>\n",
              "    <tr style=\"text-align: right;\">\n",
              "      <th></th>\n",
              "      <th>Frecuencia</th>\n",
              "      <th>Frecuencia_Relativa</th>\n",
              "    </tr>\n",
              "    <tr>\n",
              "      <th>Precios_agrup</th>\n",
              "      <th></th>\n",
              "      <th></th>\n",
              "    </tr>\n",
              "  </thead>\n",
              "  <tbody>\n",
              "    <tr>\n",
              "      <th>(0, 6]</th>\n",
              "      <td>1</td>\n",
              "      <td>0.083333</td>\n",
              "    </tr>\n",
              "    <tr>\n",
              "      <th>(6, 12]</th>\n",
              "      <td>4</td>\n",
              "      <td>0.333333</td>\n",
              "    </tr>\n",
              "    <tr>\n",
              "      <th>(12, 18]</th>\n",
              "      <td>2</td>\n",
              "      <td>0.166667</td>\n",
              "    </tr>\n",
              "    <tr>\n",
              "      <th>(18, 24]</th>\n",
              "      <td>3</td>\n",
              "      <td>0.250000</td>\n",
              "    </tr>\n",
              "    <tr>\n",
              "      <th>(24, 30]</th>\n",
              "      <td>2</td>\n",
              "      <td>0.166667</td>\n",
              "    </tr>\n",
              "  </tbody>\n",
              "</table>\n",
              "</div>"
            ],
            "text/plain": [
              "               Frecuencia  Frecuencia_Relativa\n",
              "Precios_agrup                                 \n",
              "(0, 6]                  1             0.083333\n",
              "(6, 12]                 4             0.333333\n",
              "(12, 18]                2             0.166667\n",
              "(18, 24]                3             0.250000\n",
              "(24, 30]                2             0.166667"
            ]
          },
          "metadata": {
            "tags": []
          },
          "execution_count": 35
        }
      ]
    },
    {
      "cell_type": "code",
      "metadata": {
        "colab": {
          "base_uri": "https://localhost:8080/",
          "height": 235
        },
        "id": "raE89hmULc82",
        "outputId": "c79877d1-6dc6-4506-b8ba-de91ba56ef71"
      },
      "source": [
        "tabla_frec['Frecuencia_Porcentual'] = tabla_frec.Frecuencia_Relativa*100\n",
        "tabla_frec"
      ],
      "execution_count": null,
      "outputs": [
        {
          "output_type": "execute_result",
          "data": {
            "text/html": [
              "<div>\n",
              "<style scoped>\n",
              "    .dataframe tbody tr th:only-of-type {\n",
              "        vertical-align: middle;\n",
              "    }\n",
              "\n",
              "    .dataframe tbody tr th {\n",
              "        vertical-align: top;\n",
              "    }\n",
              "\n",
              "    .dataframe thead th {\n",
              "        text-align: right;\n",
              "    }\n",
              "</style>\n",
              "<table border=\"1\" class=\"dataframe\">\n",
              "  <thead>\n",
              "    <tr style=\"text-align: right;\">\n",
              "      <th></th>\n",
              "      <th>Frecuencia</th>\n",
              "      <th>Frecuencia_Relativa</th>\n",
              "      <th>Frecuencia_Porcentual</th>\n",
              "    </tr>\n",
              "    <tr>\n",
              "      <th>Precios_agrup</th>\n",
              "      <th></th>\n",
              "      <th></th>\n",
              "      <th></th>\n",
              "    </tr>\n",
              "  </thead>\n",
              "  <tbody>\n",
              "    <tr>\n",
              "      <th>(0, 6]</th>\n",
              "      <td>1</td>\n",
              "      <td>0.083333</td>\n",
              "      <td>8.333333</td>\n",
              "    </tr>\n",
              "    <tr>\n",
              "      <th>(6, 12]</th>\n",
              "      <td>4</td>\n",
              "      <td>0.333333</td>\n",
              "      <td>33.333333</td>\n",
              "    </tr>\n",
              "    <tr>\n",
              "      <th>(12, 18]</th>\n",
              "      <td>2</td>\n",
              "      <td>0.166667</td>\n",
              "      <td>16.666667</td>\n",
              "    </tr>\n",
              "    <tr>\n",
              "      <th>(18, 24]</th>\n",
              "      <td>3</td>\n",
              "      <td>0.250000</td>\n",
              "      <td>25.000000</td>\n",
              "    </tr>\n",
              "    <tr>\n",
              "      <th>(24, 30]</th>\n",
              "      <td>2</td>\n",
              "      <td>0.166667</td>\n",
              "      <td>16.666667</td>\n",
              "    </tr>\n",
              "  </tbody>\n",
              "</table>\n",
              "</div>"
            ],
            "text/plain": [
              "               Frecuencia  Frecuencia_Relativa  Frecuencia_Porcentual\n",
              "Precios_agrup                                                        \n",
              "(0, 6]                  1             0.083333               8.333333\n",
              "(6, 12]                 4             0.333333              33.333333\n",
              "(12, 18]                2             0.166667              16.666667\n",
              "(18, 24]                3             0.250000              25.000000\n",
              "(24, 30]                2             0.166667              16.666667"
            ]
          },
          "metadata": {
            "tags": []
          },
          "execution_count": 36
        }
      ]
    },
    {
      "cell_type": "code",
      "metadata": {
        "colab": {
          "base_uri": "https://localhost:8080/",
          "height": 235
        },
        "id": "CKIt-wHyLiBO",
        "outputId": "f9de018e-1fb5-42a9-cf5a-4646946e72ba"
      },
      "source": [
        "tabla_frec['Frecuencia_Acumulada'] = tabla_frec.Frecuencia.cumsum()\n",
        "tabla_frec"
      ],
      "execution_count": null,
      "outputs": [
        {
          "output_type": "execute_result",
          "data": {
            "text/html": [
              "<div>\n",
              "<style scoped>\n",
              "    .dataframe tbody tr th:only-of-type {\n",
              "        vertical-align: middle;\n",
              "    }\n",
              "\n",
              "    .dataframe tbody tr th {\n",
              "        vertical-align: top;\n",
              "    }\n",
              "\n",
              "    .dataframe thead th {\n",
              "        text-align: right;\n",
              "    }\n",
              "</style>\n",
              "<table border=\"1\" class=\"dataframe\">\n",
              "  <thead>\n",
              "    <tr style=\"text-align: right;\">\n",
              "      <th></th>\n",
              "      <th>Frecuencia</th>\n",
              "      <th>Frecuencia_Relativa</th>\n",
              "      <th>Frecuencia_Porcentual</th>\n",
              "      <th>Frecuencia_Acumulada</th>\n",
              "    </tr>\n",
              "    <tr>\n",
              "      <th>Precios_agrup</th>\n",
              "      <th></th>\n",
              "      <th></th>\n",
              "      <th></th>\n",
              "      <th></th>\n",
              "    </tr>\n",
              "  </thead>\n",
              "  <tbody>\n",
              "    <tr>\n",
              "      <th>(0, 6]</th>\n",
              "      <td>1</td>\n",
              "      <td>0.083333</td>\n",
              "      <td>8.333333</td>\n",
              "      <td>1</td>\n",
              "    </tr>\n",
              "    <tr>\n",
              "      <th>(6, 12]</th>\n",
              "      <td>4</td>\n",
              "      <td>0.333333</td>\n",
              "      <td>33.333333</td>\n",
              "      <td>5</td>\n",
              "    </tr>\n",
              "    <tr>\n",
              "      <th>(12, 18]</th>\n",
              "      <td>2</td>\n",
              "      <td>0.166667</td>\n",
              "      <td>16.666667</td>\n",
              "      <td>7</td>\n",
              "    </tr>\n",
              "    <tr>\n",
              "      <th>(18, 24]</th>\n",
              "      <td>3</td>\n",
              "      <td>0.250000</td>\n",
              "      <td>25.000000</td>\n",
              "      <td>10</td>\n",
              "    </tr>\n",
              "    <tr>\n",
              "      <th>(24, 30]</th>\n",
              "      <td>2</td>\n",
              "      <td>0.166667</td>\n",
              "      <td>16.666667</td>\n",
              "      <td>12</td>\n",
              "    </tr>\n",
              "  </tbody>\n",
              "</table>\n",
              "</div>"
            ],
            "text/plain": [
              "               Frecuencia  ...  Frecuencia_Acumulada\n",
              "Precios_agrup              ...                      \n",
              "(0, 6]                  1  ...                     1\n",
              "(6, 12]                 4  ...                     5\n",
              "(12, 18]                2  ...                     7\n",
              "(18, 24]                3  ...                    10\n",
              "(24, 30]                2  ...                    12\n",
              "\n",
              "[5 rows x 4 columns]"
            ]
          },
          "metadata": {
            "tags": []
          },
          "execution_count": 37
        }
      ]
    },
    {
      "cell_type": "code",
      "metadata": {
        "colab": {
          "base_uri": "https://localhost:8080/",
          "height": 235
        },
        "id": "4wb4oeL7LmoZ",
        "outputId": "7b22e125-f3a1-4875-ebdc-e1422ba53d01"
      },
      "source": [
        "tapla_plot = tabla_frec\n",
        "tapla_plot['grupos'] = tapla_plot.index\n",
        "tapla_plot"
      ],
      "execution_count": null,
      "outputs": [
        {
          "output_type": "execute_result",
          "data": {
            "text/html": [
              "<div>\n",
              "<style scoped>\n",
              "    .dataframe tbody tr th:only-of-type {\n",
              "        vertical-align: middle;\n",
              "    }\n",
              "\n",
              "    .dataframe tbody tr th {\n",
              "        vertical-align: top;\n",
              "    }\n",
              "\n",
              "    .dataframe thead th {\n",
              "        text-align: right;\n",
              "    }\n",
              "</style>\n",
              "<table border=\"1\" class=\"dataframe\">\n",
              "  <thead>\n",
              "    <tr style=\"text-align: right;\">\n",
              "      <th></th>\n",
              "      <th>Frecuencia</th>\n",
              "      <th>Frecuencia_Relativa</th>\n",
              "      <th>Frecuencia_Porcentual</th>\n",
              "      <th>Frecuencia_Acumulada</th>\n",
              "      <th>grupos</th>\n",
              "    </tr>\n",
              "    <tr>\n",
              "      <th>Precios_agrup</th>\n",
              "      <th></th>\n",
              "      <th></th>\n",
              "      <th></th>\n",
              "      <th></th>\n",
              "      <th></th>\n",
              "    </tr>\n",
              "  </thead>\n",
              "  <tbody>\n",
              "    <tr>\n",
              "      <th>(0, 6]</th>\n",
              "      <td>1</td>\n",
              "      <td>0.083333</td>\n",
              "      <td>8.333333</td>\n",
              "      <td>1</td>\n",
              "      <td>(0, 6]</td>\n",
              "    </tr>\n",
              "    <tr>\n",
              "      <th>(6, 12]</th>\n",
              "      <td>4</td>\n",
              "      <td>0.333333</td>\n",
              "      <td>33.333333</td>\n",
              "      <td>5</td>\n",
              "      <td>(6, 12]</td>\n",
              "    </tr>\n",
              "    <tr>\n",
              "      <th>(12, 18]</th>\n",
              "      <td>2</td>\n",
              "      <td>0.166667</td>\n",
              "      <td>16.666667</td>\n",
              "      <td>7</td>\n",
              "      <td>(12, 18]</td>\n",
              "    </tr>\n",
              "    <tr>\n",
              "      <th>(18, 24]</th>\n",
              "      <td>3</td>\n",
              "      <td>0.250000</td>\n",
              "      <td>25.000000</td>\n",
              "      <td>10</td>\n",
              "      <td>(18, 24]</td>\n",
              "    </tr>\n",
              "    <tr>\n",
              "      <th>(24, 30]</th>\n",
              "      <td>2</td>\n",
              "      <td>0.166667</td>\n",
              "      <td>16.666667</td>\n",
              "      <td>12</td>\n",
              "      <td>(24, 30]</td>\n",
              "    </tr>\n",
              "  </tbody>\n",
              "</table>\n",
              "</div>"
            ],
            "text/plain": [
              "               Frecuencia  Frecuencia_Relativa  ...  Frecuencia_Acumulada    grupos\n",
              "Precios_agrup                                   ...                                \n",
              "(0, 6]                  1             0.083333  ...                     1    (0, 6]\n",
              "(6, 12]                 4             0.333333  ...                     5   (6, 12]\n",
              "(12, 18]                2             0.166667  ...                     7  (12, 18]\n",
              "(18, 24]                3             0.250000  ...                    10  (18, 24]\n",
              "(24, 30]                2             0.166667  ...                    12  (24, 30]\n",
              "\n",
              "[5 rows x 5 columns]"
            ]
          },
          "metadata": {
            "tags": []
          },
          "execution_count": 38
        }
      ]
    },
    {
      "cell_type": "code",
      "metadata": {
        "colab": {
          "base_uri": "https://localhost:8080/"
        },
        "id": "BgETzUMgLqXu",
        "outputId": "dc1c00f0-ef38-45ec-98ec-5a16111d60ec"
      },
      "source": [
        "tapla_plot['grupos'] = tapla_plot['grupos'].astype(str)\n",
        "tapla_plot.dtypes"
      ],
      "execution_count": null,
      "outputs": [
        {
          "output_type": "execute_result",
          "data": {
            "text/plain": [
              "Frecuencia                 int64\n",
              "Frecuencia_Relativa      float64\n",
              "Frecuencia_Porcentual    float64\n",
              "Frecuencia_Acumulada       int64\n",
              "grupos                    object\n",
              "dtype: object"
            ]
          },
          "metadata": {
            "tags": []
          },
          "execution_count": 39
        }
      ]
    },
    {
      "cell_type": "code",
      "metadata": {
        "colab": {
          "base_uri": "https://localhost:8080/",
          "height": 542
        },
        "id": "GzOVQOglLsob",
        "outputId": "0c624d4d-f3d6-4e3e-d0fd-b53fdc4bf059"
      },
      "source": [
        "fig = go.Figure()\n",
        "\n",
        "fig.add_trace(\n",
        "    go.Scatter(\n",
        "        x=tapla_plot['grupos'],\n",
        "        y=tapla_plot['Frecuencia_Acumulada'],\n",
        "        name= 'Frecuencia Acumulada',\n",
        "    ))\n",
        "\n",
        "fig.add_trace(\n",
        "    go.Bar(\n",
        "        x=tapla_plot['grupos'],\n",
        "        y=tapla_plot['Frecuencia'],\n",
        "        name= 'Precios'\n",
        "    ))\n",
        "fig.update_layout(title_text='Diagrama de Pareto')\n",
        "\n",
        "fig.show()"
      ],
      "execution_count": null,
      "outputs": [
        {
          "output_type": "display_data",
          "data": {
            "text/html": [
              "<html>\n",
              "<head><meta charset=\"utf-8\" /></head>\n",
              "<body>\n",
              "    <div>\n",
              "            <script src=\"https://cdnjs.cloudflare.com/ajax/libs/mathjax/2.7.5/MathJax.js?config=TeX-AMS-MML_SVG\"></script><script type=\"text/javascript\">if (window.MathJax) {MathJax.Hub.Config({SVG: {font: \"STIX-Web\"}});}</script>\n",
              "                <script type=\"text/javascript\">window.PlotlyConfig = {MathJaxConfig: 'local'};</script>\n",
              "        <script src=\"https://cdn.plot.ly/plotly-latest.min.js\"></script>    \n",
              "            <div id=\"38199dc1-6f81-4dc2-aa8f-c4c00aa20ddd\" class=\"plotly-graph-div\" style=\"height:525px; width:100%;\"></div>\n",
              "            <script type=\"text/javascript\">\n",
              "                \n",
              "                    window.PLOTLYENV=window.PLOTLYENV || {};\n",
              "                    \n",
              "                if (document.getElementById(\"38199dc1-6f81-4dc2-aa8f-c4c00aa20ddd\")) {\n",
              "                    Plotly.newPlot(\n",
              "                        '38199dc1-6f81-4dc2-aa8f-c4c00aa20ddd',\n",
              "                        [{\"name\": \"Frecuencia Acumulada\", \"type\": \"scatter\", \"x\": [\"(0, 6]\", \"(6, 12]\", \"(12, 18]\", \"(18, 24]\", \"(24, 30]\"], \"y\": [1, 5, 7, 10, 12]}, {\"name\": \"Precios\", \"type\": \"bar\", \"x\": [\"(0, 6]\", \"(6, 12]\", \"(12, 18]\", \"(18, 24]\", \"(24, 30]\"], \"y\": [1, 4, 2, 3, 2]}],\n",
              "                        {\"template\": {\"data\": {\"bar\": [{\"error_x\": {\"color\": \"#2a3f5f\"}, \"error_y\": {\"color\": \"#2a3f5f\"}, \"marker\": {\"line\": {\"color\": \"#E5ECF6\", \"width\": 0.5}}, \"type\": \"bar\"}], \"barpolar\": [{\"marker\": {\"line\": {\"color\": \"#E5ECF6\", \"width\": 0.5}}, \"type\": \"barpolar\"}], \"carpet\": [{\"aaxis\": {\"endlinecolor\": \"#2a3f5f\", \"gridcolor\": \"white\", \"linecolor\": \"white\", \"minorgridcolor\": \"white\", \"startlinecolor\": \"#2a3f5f\"}, \"baxis\": {\"endlinecolor\": \"#2a3f5f\", \"gridcolor\": \"white\", \"linecolor\": \"white\", \"minorgridcolor\": \"white\", \"startlinecolor\": \"#2a3f5f\"}, \"type\": \"carpet\"}], \"choropleth\": [{\"colorbar\": {\"outlinewidth\": 0, \"ticks\": \"\"}, \"type\": \"choropleth\"}], \"contour\": [{\"colorbar\": {\"outlinewidth\": 0, \"ticks\": \"\"}, \"colorscale\": [[0.0, \"#0d0887\"], [0.1111111111111111, \"#46039f\"], [0.2222222222222222, \"#7201a8\"], [0.3333333333333333, \"#9c179e\"], [0.4444444444444444, \"#bd3786\"], [0.5555555555555556, \"#d8576b\"], [0.6666666666666666, \"#ed7953\"], [0.7777777777777778, \"#fb9f3a\"], [0.8888888888888888, \"#fdca26\"], [1.0, \"#f0f921\"]], \"type\": \"contour\"}], \"contourcarpet\": [{\"colorbar\": {\"outlinewidth\": 0, \"ticks\": \"\"}, \"type\": \"contourcarpet\"}], \"heatmap\": [{\"colorbar\": {\"outlinewidth\": 0, \"ticks\": \"\"}, \"colorscale\": [[0.0, \"#0d0887\"], [0.1111111111111111, \"#46039f\"], [0.2222222222222222, \"#7201a8\"], [0.3333333333333333, \"#9c179e\"], [0.4444444444444444, \"#bd3786\"], [0.5555555555555556, \"#d8576b\"], [0.6666666666666666, \"#ed7953\"], [0.7777777777777778, \"#fb9f3a\"], [0.8888888888888888, \"#fdca26\"], [1.0, \"#f0f921\"]], \"type\": \"heatmap\"}], \"heatmapgl\": [{\"colorbar\": {\"outlinewidth\": 0, \"ticks\": \"\"}, \"colorscale\": [[0.0, \"#0d0887\"], [0.1111111111111111, \"#46039f\"], [0.2222222222222222, \"#7201a8\"], [0.3333333333333333, \"#9c179e\"], [0.4444444444444444, \"#bd3786\"], [0.5555555555555556, \"#d8576b\"], [0.6666666666666666, \"#ed7953\"], [0.7777777777777778, \"#fb9f3a\"], [0.8888888888888888, \"#fdca26\"], [1.0, \"#f0f921\"]], \"type\": \"heatmapgl\"}], \"histogram\": [{\"marker\": {\"colorbar\": {\"outlinewidth\": 0, \"ticks\": \"\"}}, \"type\": \"histogram\"}], \"histogram2d\": [{\"colorbar\": {\"outlinewidth\": 0, \"ticks\": \"\"}, \"colorscale\": [[0.0, \"#0d0887\"], [0.1111111111111111, \"#46039f\"], [0.2222222222222222, \"#7201a8\"], [0.3333333333333333, \"#9c179e\"], [0.4444444444444444, \"#bd3786\"], [0.5555555555555556, \"#d8576b\"], [0.6666666666666666, \"#ed7953\"], [0.7777777777777778, \"#fb9f3a\"], [0.8888888888888888, \"#fdca26\"], [1.0, \"#f0f921\"]], \"type\": \"histogram2d\"}], \"histogram2dcontour\": [{\"colorbar\": {\"outlinewidth\": 0, \"ticks\": \"\"}, \"colorscale\": [[0.0, \"#0d0887\"], [0.1111111111111111, \"#46039f\"], [0.2222222222222222, \"#7201a8\"], [0.3333333333333333, \"#9c179e\"], [0.4444444444444444, \"#bd3786\"], [0.5555555555555556, \"#d8576b\"], [0.6666666666666666, \"#ed7953\"], [0.7777777777777778, \"#fb9f3a\"], [0.8888888888888888, \"#fdca26\"], [1.0, \"#f0f921\"]], \"type\": \"histogram2dcontour\"}], \"mesh3d\": [{\"colorbar\": {\"outlinewidth\": 0, \"ticks\": \"\"}, \"type\": \"mesh3d\"}], \"parcoords\": [{\"line\": {\"colorbar\": {\"outlinewidth\": 0, \"ticks\": \"\"}}, \"type\": \"parcoords\"}], \"pie\": [{\"automargin\": true, \"type\": \"pie\"}], \"scatter\": [{\"marker\": {\"colorbar\": {\"outlinewidth\": 0, \"ticks\": \"\"}}, \"type\": \"scatter\"}], \"scatter3d\": [{\"line\": {\"colorbar\": {\"outlinewidth\": 0, \"ticks\": \"\"}}, \"marker\": {\"colorbar\": {\"outlinewidth\": 0, \"ticks\": \"\"}}, \"type\": \"scatter3d\"}], \"scattercarpet\": [{\"marker\": {\"colorbar\": {\"outlinewidth\": 0, \"ticks\": \"\"}}, \"type\": \"scattercarpet\"}], \"scattergeo\": [{\"marker\": {\"colorbar\": {\"outlinewidth\": 0, \"ticks\": \"\"}}, \"type\": \"scattergeo\"}], \"scattergl\": [{\"marker\": {\"colorbar\": {\"outlinewidth\": 0, \"ticks\": \"\"}}, \"type\": \"scattergl\"}], \"scattermapbox\": [{\"marker\": {\"colorbar\": {\"outlinewidth\": 0, \"ticks\": \"\"}}, \"type\": \"scattermapbox\"}], \"scatterpolar\": [{\"marker\": {\"colorbar\": {\"outlinewidth\": 0, \"ticks\": \"\"}}, \"type\": \"scatterpolar\"}], \"scatterpolargl\": [{\"marker\": {\"colorbar\": {\"outlinewidth\": 0, \"ticks\": \"\"}}, \"type\": \"scatterpolargl\"}], \"scatterternary\": [{\"marker\": {\"colorbar\": {\"outlinewidth\": 0, \"ticks\": \"\"}}, \"type\": \"scatterternary\"}], \"surface\": [{\"colorbar\": {\"outlinewidth\": 0, \"ticks\": \"\"}, \"colorscale\": [[0.0, \"#0d0887\"], [0.1111111111111111, \"#46039f\"], [0.2222222222222222, \"#7201a8\"], [0.3333333333333333, \"#9c179e\"], [0.4444444444444444, \"#bd3786\"], [0.5555555555555556, \"#d8576b\"], [0.6666666666666666, \"#ed7953\"], [0.7777777777777778, \"#fb9f3a\"], [0.8888888888888888, \"#fdca26\"], [1.0, \"#f0f921\"]], \"type\": \"surface\"}], \"table\": [{\"cells\": {\"fill\": {\"color\": \"#EBF0F8\"}, \"line\": {\"color\": \"white\"}}, \"header\": {\"fill\": {\"color\": \"#C8D4E3\"}, \"line\": {\"color\": \"white\"}}, \"type\": \"table\"}]}, \"layout\": {\"annotationdefaults\": {\"arrowcolor\": \"#2a3f5f\", \"arrowhead\": 0, \"arrowwidth\": 1}, \"coloraxis\": {\"colorbar\": {\"outlinewidth\": 0, \"ticks\": \"\"}}, \"colorscale\": {\"diverging\": [[0, \"#8e0152\"], [0.1, \"#c51b7d\"], [0.2, \"#de77ae\"], [0.3, \"#f1b6da\"], [0.4, \"#fde0ef\"], [0.5, \"#f7f7f7\"], [0.6, \"#e6f5d0\"], [0.7, \"#b8e186\"], [0.8, \"#7fbc41\"], [0.9, \"#4d9221\"], [1, \"#276419\"]], \"sequential\": [[0.0, \"#0d0887\"], [0.1111111111111111, \"#46039f\"], [0.2222222222222222, \"#7201a8\"], [0.3333333333333333, \"#9c179e\"], [0.4444444444444444, \"#bd3786\"], [0.5555555555555556, \"#d8576b\"], [0.6666666666666666, \"#ed7953\"], [0.7777777777777778, \"#fb9f3a\"], [0.8888888888888888, \"#fdca26\"], [1.0, \"#f0f921\"]], \"sequentialminus\": [[0.0, \"#0d0887\"], [0.1111111111111111, \"#46039f\"], [0.2222222222222222, \"#7201a8\"], [0.3333333333333333, \"#9c179e\"], [0.4444444444444444, \"#bd3786\"], [0.5555555555555556, \"#d8576b\"], [0.6666666666666666, \"#ed7953\"], [0.7777777777777778, \"#fb9f3a\"], [0.8888888888888888, \"#fdca26\"], [1.0, \"#f0f921\"]]}, \"colorway\": [\"#636efa\", \"#EF553B\", \"#00cc96\", \"#ab63fa\", \"#FFA15A\", \"#19d3f3\", \"#FF6692\", \"#B6E880\", \"#FF97FF\", \"#FECB52\"], \"font\": {\"color\": \"#2a3f5f\"}, \"geo\": {\"bgcolor\": \"white\", \"lakecolor\": \"white\", \"landcolor\": \"#E5ECF6\", \"showlakes\": true, \"showland\": true, \"subunitcolor\": \"white\"}, \"hoverlabel\": {\"align\": \"left\"}, \"hovermode\": \"closest\", \"mapbox\": {\"style\": \"light\"}, \"paper_bgcolor\": \"white\", \"plot_bgcolor\": \"#E5ECF6\", \"polar\": {\"angularaxis\": {\"gridcolor\": \"white\", \"linecolor\": \"white\", \"ticks\": \"\"}, \"bgcolor\": \"#E5ECF6\", \"radialaxis\": {\"gridcolor\": \"white\", \"linecolor\": \"white\", \"ticks\": \"\"}}, \"scene\": {\"xaxis\": {\"backgroundcolor\": \"#E5ECF6\", \"gridcolor\": \"white\", \"gridwidth\": 2, \"linecolor\": \"white\", \"showbackground\": true, \"ticks\": \"\", \"zerolinecolor\": \"white\"}, \"yaxis\": {\"backgroundcolor\": \"#E5ECF6\", \"gridcolor\": \"white\", \"gridwidth\": 2, \"linecolor\": \"white\", \"showbackground\": true, \"ticks\": \"\", \"zerolinecolor\": \"white\"}, \"zaxis\": {\"backgroundcolor\": \"#E5ECF6\", \"gridcolor\": \"white\", \"gridwidth\": 2, \"linecolor\": \"white\", \"showbackground\": true, \"ticks\": \"\", \"zerolinecolor\": \"white\"}}, \"shapedefaults\": {\"line\": {\"color\": \"#2a3f5f\"}}, \"ternary\": {\"aaxis\": {\"gridcolor\": \"white\", \"linecolor\": \"white\", \"ticks\": \"\"}, \"baxis\": {\"gridcolor\": \"white\", \"linecolor\": \"white\", \"ticks\": \"\"}, \"bgcolor\": \"#E5ECF6\", \"caxis\": {\"gridcolor\": \"white\", \"linecolor\": \"white\", \"ticks\": \"\"}}, \"title\": {\"x\": 0.05}, \"xaxis\": {\"automargin\": true, \"gridcolor\": \"white\", \"linecolor\": \"white\", \"ticks\": \"\", \"title\": {\"standoff\": 15}, \"zerolinecolor\": \"white\", \"zerolinewidth\": 2}, \"yaxis\": {\"automargin\": true, \"gridcolor\": \"white\", \"linecolor\": \"white\", \"ticks\": \"\", \"title\": {\"standoff\": 15}, \"zerolinecolor\": \"white\", \"zerolinewidth\": 2}}}, \"title\": {\"text\": \"Diagrama de Pareto\"}},\n",
              "                        {\"responsive\": true}\n",
              "                    ).then(function(){\n",
              "                            \n",
              "var gd = document.getElementById('38199dc1-6f81-4dc2-aa8f-c4c00aa20ddd');\n",
              "var x = new MutationObserver(function (mutations, observer) {{\n",
              "        var display = window.getComputedStyle(gd).display;\n",
              "        if (!display || display === 'none') {{\n",
              "            console.log([gd, 'removed!']);\n",
              "            Plotly.purge(gd);\n",
              "            observer.disconnect();\n",
              "        }}\n",
              "}});\n",
              "\n",
              "// Listen for the removal of the full notebook cells\n",
              "var notebookContainer = gd.closest('#notebook-container');\n",
              "if (notebookContainer) {{\n",
              "    x.observe(notebookContainer, {childList: true});\n",
              "}}\n",
              "\n",
              "// Listen for the clearing of the current output cell\n",
              "var outputEl = gd.closest('.output');\n",
              "if (outputEl) {{\n",
              "    x.observe(outputEl, {childList: true});\n",
              "}}\n",
              "\n",
              "                        })\n",
              "                };\n",
              "                \n",
              "            </script>\n",
              "        </div>\n",
              "</body>\n",
              "</html>"
            ]
          },
          "metadata": {
            "tags": []
          }
        }
      ]
    },
    {
      "cell_type": "code",
      "metadata": {
        "colab": {
          "base_uri": "https://localhost:8080/",
          "height": 128
        },
        "id": "ylpr32addBnw",
        "outputId": "78107dc6-7e83-421f-8300-14f8b8d0c94c"
      },
      "source": [
        "correlacion = df[['Volumen_2018', 'Precio']]\n",
        "print('Correlación de Pearson Fracción 6907.90.01')\n",
        "correlacion.corr()"
      ],
      "execution_count": null,
      "outputs": [
        {
          "output_type": "stream",
          "text": [
            "Correlación de Pearson Fracción 6907.90.01\n"
          ],
          "name": "stdout"
        },
        {
          "output_type": "execute_result",
          "data": {
            "text/html": [
              "<div>\n",
              "<style scoped>\n",
              "    .dataframe tbody tr th:only-of-type {\n",
              "        vertical-align: middle;\n",
              "    }\n",
              "\n",
              "    .dataframe tbody tr th {\n",
              "        vertical-align: top;\n",
              "    }\n",
              "\n",
              "    .dataframe thead th {\n",
              "        text-align: right;\n",
              "    }\n",
              "</style>\n",
              "<table border=\"1\" class=\"dataframe\">\n",
              "  <thead>\n",
              "    <tr style=\"text-align: right;\">\n",
              "      <th></th>\n",
              "      <th>Volumen_2018</th>\n",
              "      <th>Precio</th>\n",
              "    </tr>\n",
              "  </thead>\n",
              "  <tbody>\n",
              "    <tr>\n",
              "      <th>Volumen_2018</th>\n",
              "      <td>1.000000</td>\n",
              "      <td>-0.466675</td>\n",
              "    </tr>\n",
              "    <tr>\n",
              "      <th>Precio</th>\n",
              "      <td>-0.466675</td>\n",
              "      <td>1.000000</td>\n",
              "    </tr>\n",
              "  </tbody>\n",
              "</table>\n",
              "</div>"
            ],
            "text/plain": [
              "              Volumen_2018    Precio\n",
              "Volumen_2018      1.000000 -0.466675\n",
              "Precio           -0.466675  1.000000"
            ]
          },
          "metadata": {
            "tags": []
          },
          "execution_count": 41
        }
      ]
    },
    {
      "cell_type": "code",
      "metadata": {
        "colab": {
          "base_uri": "https://localhost:8080/",
          "height": 390
        },
        "id": "p5vwTvBxpmSw",
        "outputId": "1a2802f2-85ba-4cc4-8acf-a87369b10d54"
      },
      "source": [
        "muestra = df.sample(n=10)\n",
        "muestra"
      ],
      "execution_count": null,
      "outputs": [
        {
          "output_type": "execute_result",
          "data": {
            "text/html": [
              "<div>\n",
              "<style scoped>\n",
              "    .dataframe tbody tr th:only-of-type {\n",
              "        vertical-align: middle;\n",
              "    }\n",
              "\n",
              "    .dataframe tbody tr th {\n",
              "        vertical-align: top;\n",
              "    }\n",
              "\n",
              "    .dataframe thead th {\n",
              "        text-align: right;\n",
              "    }\n",
              "</style>\n",
              "<table border=\"1\" class=\"dataframe\">\n",
              "  <thead>\n",
              "    <tr style=\"text-align: right;\">\n",
              "      <th></th>\n",
              "      <th>Valor_2018</th>\n",
              "      <th>Volumen_2018</th>\n",
              "      <th>Pais</th>\n",
              "      <th>Precio</th>\n",
              "      <th>Precios_agrup</th>\n",
              "    </tr>\n",
              "    <tr>\n",
              "      <th>País</th>\n",
              "      <th></th>\n",
              "      <th></th>\n",
              "      <th></th>\n",
              "      <th></th>\n",
              "      <th></th>\n",
              "    </tr>\n",
              "  </thead>\n",
              "  <tbody>\n",
              "    <tr>\n",
              "      <th>China (República Popular de)</th>\n",
              "      <td>4758758</td>\n",
              "      <td>508730</td>\n",
              "      <td>China (República Popular de)</td>\n",
              "      <td>9.354192</td>\n",
              "      <td>(6, 12]</td>\n",
              "    </tr>\n",
              "    <tr>\n",
              "      <th>India (República de la)</th>\n",
              "      <td>25756769</td>\n",
              "      <td>5668570</td>\n",
              "      <td>India (República de la)</td>\n",
              "      <td>4.543786</td>\n",
              "      <td>(0, 6]</td>\n",
              "    </tr>\n",
              "    <tr>\n",
              "      <th>Turquia (República de)</th>\n",
              "      <td>42292</td>\n",
              "      <td>4284</td>\n",
              "      <td>Turquia (República de)</td>\n",
              "      <td>9.872082</td>\n",
              "      <td>(6, 12]</td>\n",
              "    </tr>\n",
              "    <tr>\n",
              "      <th>Portugal</th>\n",
              "      <td>661859</td>\n",
              "      <td>31050</td>\n",
              "      <td>Portugal</td>\n",
              "      <td>21.315910</td>\n",
              "      <td>(18, 24]</td>\n",
              "    </tr>\n",
              "    <tr>\n",
              "      <th>Colombia (República de)</th>\n",
              "      <td>21355</td>\n",
              "      <td>1823</td>\n",
              "      <td>Colombia (República de)</td>\n",
              "      <td>11.714207</td>\n",
              "      <td>(6, 12]</td>\n",
              "    </tr>\n",
              "    <tr>\n",
              "      <th>España (Reino de)</th>\n",
              "      <td>6513611</td>\n",
              "      <td>316183</td>\n",
              "      <td>España (Reino de)</td>\n",
              "      <td>20.600763</td>\n",
              "      <td>(18, 24]</td>\n",
              "    </tr>\n",
              "    <tr>\n",
              "      <th>Italia</th>\n",
              "      <td>14710145</td>\n",
              "      <td>525861</td>\n",
              "      <td>Italia</td>\n",
              "      <td>27.973447</td>\n",
              "      <td>(24, 30]</td>\n",
              "    </tr>\n",
              "    <tr>\n",
              "      <th>República Checa</th>\n",
              "      <td>120241</td>\n",
              "      <td>12713</td>\n",
              "      <td>República Checa</td>\n",
              "      <td>9.458114</td>\n",
              "      <td>(6, 12]</td>\n",
              "    </tr>\n",
              "    <tr>\n",
              "      <th>Estados Unidos de América</th>\n",
              "      <td>2533835</td>\n",
              "      <td>191520</td>\n",
              "      <td>Estados Unidos de América</td>\n",
              "      <td>13.230133</td>\n",
              "      <td>(12, 18]</td>\n",
              "    </tr>\n",
              "    <tr>\n",
              "      <th>Alemania (República Federal de)</th>\n",
              "      <td>215682</td>\n",
              "      <td>8743</td>\n",
              "      <td>Alemania (República Federal de)</td>\n",
              "      <td>24.669107</td>\n",
              "      <td>(24, 30]</td>\n",
              "    </tr>\n",
              "  </tbody>\n",
              "</table>\n",
              "</div>"
            ],
            "text/plain": [
              "                                 Valor_2018  ...  Precios_agrup\n",
              "País                                         ...               \n",
              "China (República Popular de)        4758758  ...        (6, 12]\n",
              "India (República de la)            25756769  ...         (0, 6]\n",
              "Turquia (República de)                42292  ...        (6, 12]\n",
              "Portugal                             661859  ...       (18, 24]\n",
              "Colombia (República de)               21355  ...        (6, 12]\n",
              "España (Reino de)                   6513611  ...       (18, 24]\n",
              "Italia                             14710145  ...       (24, 30]\n",
              "República Checa                      120241  ...        (6, 12]\n",
              "Estados Unidos de América           2533835  ...       (12, 18]\n",
              "Alemania (República Federal de)      215682  ...       (24, 30]\n",
              "\n",
              "[10 rows x 5 columns]"
            ]
          },
          "metadata": {
            "tags": []
          },
          "execution_count": 64
        }
      ]
    },
    {
      "cell_type": "code",
      "metadata": {
        "colab": {
          "base_uri": "https://localhost:8080/",
          "height": 173
        },
        "id": "oDJnQAopcGma",
        "outputId": "d57a3d2c-f23c-4375-be34-d5c7399abb15"
      },
      "source": [
        "descriptiva"
      ],
      "execution_count": null,
      "outputs": [
        {
          "output_type": "execute_result",
          "data": {
            "text/html": [
              "<div>\n",
              "<style scoped>\n",
              "    .dataframe tbody tr th:only-of-type {\n",
              "        vertical-align: middle;\n",
              "    }\n",
              "\n",
              "    .dataframe tbody tr th {\n",
              "        vertical-align: top;\n",
              "    }\n",
              "\n",
              "    .dataframe thead th {\n",
              "        text-align: right;\n",
              "    }\n",
              "</style>\n",
              "<table border=\"1\" class=\"dataframe\">\n",
              "  <thead>\n",
              "    <tr style=\"text-align: right;\">\n",
              "      <th></th>\n",
              "      <th>Media</th>\n",
              "      <th>Mediana</th>\n",
              "      <th>Rango</th>\n",
              "      <th>Varianza</th>\n",
              "      <th>Des_Est</th>\n",
              "      <th>Coef_Variación</th>\n",
              "    </tr>\n",
              "    <tr>\n",
              "      <th>Variables</th>\n",
              "      <th></th>\n",
              "      <th></th>\n",
              "      <th></th>\n",
              "      <th></th>\n",
              "      <th></th>\n",
              "      <th></th>\n",
              "    </tr>\n",
              "  </thead>\n",
              "  <tbody>\n",
              "    <tr>\n",
              "      <th>Volumen</th>\n",
              "      <td>6.081567e+05</td>\n",
              "      <td>25863.500000</td>\n",
              "      <td>5.666747e+06</td>\n",
              "      <td>2.578921e+12</td>\n",
              "      <td>1.605902e+06</td>\n",
              "      <td>264.060561</td>\n",
              "    </tr>\n",
              "    <tr>\n",
              "      <th>Valor</th>\n",
              "      <td>4.652364e+06</td>\n",
              "      <td>507229.000000</td>\n",
              "      <td>2.573541e+07</td>\n",
              "      <td>6.292767e+13</td>\n",
              "      <td>7.932696e+06</td>\n",
              "      <td>170.508929</td>\n",
              "    </tr>\n",
              "    <tr>\n",
              "      <th>Precio</th>\n",
              "      <td>1.567196e+01</td>\n",
              "      <td>15.141424</td>\n",
              "      <td>2.342966e+01</td>\n",
              "      <td>5.043211e+01</td>\n",
              "      <td>7.101557e+00</td>\n",
              "      <td>45.313777</td>\n",
              "    </tr>\n",
              "  </tbody>\n",
              "</table>\n",
              "</div>"
            ],
            "text/plain": [
              "                  Media        Mediana  ...       Des_Est  Coef_Variación\n",
              "Variables                               ...                              \n",
              "Volumen    6.081567e+05   25863.500000  ...  1.605902e+06      264.060561\n",
              "Valor      4.652364e+06  507229.000000  ...  7.932696e+06      170.508929\n",
              "Precio     1.567196e+01      15.141424  ...  7.101557e+00       45.313777\n",
              "\n",
              "[3 rows x 6 columns]"
            ]
          },
          "metadata": {
            "tags": []
          },
          "execution_count": 43
        }
      ]
    },
    {
      "cell_type": "code",
      "metadata": {
        "colab": {
          "base_uri": "https://localhost:8080/"
        },
        "id": "CuKfq-NGcNU7",
        "outputId": "3a588166-1e2e-48d1-ce75-781a9b7c32ea"
      },
      "source": [
        "avg2"
      ],
      "execution_count": null,
      "outputs": [
        {
          "output_type": "execute_result",
          "data": {
            "text/plain": [
              "15.6719594782154"
            ]
          },
          "metadata": {
            "tags": []
          },
          "execution_count": 65
        }
      ]
    },
    {
      "cell_type": "code",
      "metadata": {
        "colab": {
          "base_uri": "https://localhost:8080/"
        },
        "id": "ZrlRvQoQcPSf",
        "outputId": "255a8dee-d4ce-4d16-8f48-01c605f0773c"
      },
      "source": [
        "n_avg2 = muestra['Precio'].mean()\n",
        "n_avg2"
      ],
      "execution_count": null,
      "outputs": [
        {
          "output_type": "execute_result",
          "data": {
            "text/plain": [
              "15.273174043373468"
            ]
          },
          "metadata": {
            "tags": []
          },
          "execution_count": 66
        }
      ]
    },
    {
      "cell_type": "code",
      "metadata": {
        "colab": {
          "base_uri": "https://localhost:8080/"
        },
        "id": "lbXnAHBicVHf",
        "outputId": "98afc38f-cc00-4faf-cfad-ca8dc41d5cc6"
      },
      "source": [
        "error_muesteo = avg2 - n_avg2\n",
        "error_muesteo"
      ],
      "execution_count": null,
      "outputs": [
        {
          "output_type": "execute_result",
          "data": {
            "text/plain": [
              "0.3987854348419333"
            ]
          },
          "metadata": {
            "tags": []
          },
          "execution_count": 67
        }
      ]
    },
    {
      "cell_type": "code",
      "metadata": {
        "id": "K5FKwAvvcZQm"
      },
      "source": [
        "n = df['Pais'].count()\n",
        "media = df['Precio'].mean()\n",
        "dstd = df['Precio'].std()\n",
        "sigma = dstd/math.sqrt(n)"
      ],
      "execution_count": null,
      "outputs": []
    },
    {
      "cell_type": "code",
      "metadata": {
        "colab": {
          "base_uri": "https://localhost:8080/"
        },
        "id": "CKrtUhK6dTny",
        "outputId": "74611112-1d12-4303-fa05-9d3dfd055640"
      },
      "source": [
        "IC = stats.t.interval(alpha= 0.95,\n",
        "                 df= n-1,\n",
        "                 loc= media,\n",
        "                 scale= sigma)\n",
        "print('El  intervalode de confainza del 95% de los precios es de:')\n",
        "IC"
      ],
      "execution_count": null,
      "outputs": [
        {
          "output_type": "stream",
          "text": [
            "El  intervalode de confainza del 95% de los precios es de:\n"
          ],
          "name": "stdout"
        },
        {
          "output_type": "execute_result",
          "data": {
            "text/plain": [
              "(11.159845556033082, 20.184073400397722)"
            ]
          },
          "metadata": {
            "tags": []
          },
          "execution_count": 69
        }
      ]
    },
    {
      "cell_type": "code",
      "metadata": {
        "colab": {
          "base_uri": "https://localhost:8080/",
          "height": 295
        },
        "id": "cs7X6e15dYJ6",
        "outputId": "d998eaa4-001a-4ffe-9d8e-f8d8a86a5358"
      },
      "source": [
        "sns.histplot(df['Precio'], kde=True, ).set(title= 'Histograma Precios')\n",
        "plt.show()"
      ],
      "execution_count": null,
      "outputs": [
        {
          "output_type": "display_data",
          "data": {
            "image/png": "[encoded data removed]",
            "text/plain": [
              "<Figure size 432x288 with 1 Axes>"
            ]
          },
          "metadata": {
            "tags": [],
            "needs_background": "light"
          }
        }
      ]
    },
    {
      "cell_type": "code",
      "metadata": {
        "colab": {
          "base_uri": "https://localhost:8080/",
          "height": 383
        },
        "id": "OvgSIyyogWkn",
        "outputId": "aea7db41-ebe1-44b3-9fb2-d05c9263d3e6"
      },
      "source": [
        "sns.distplot(df['Precio'], norm_hist=True).set(title= 'Ditribución')\n",
        "plt.show()"
      ],
      "execution_count": null,
      "outputs": [
        {
          "output_type": "stream",
          "text": [
            "/usr/local/lib/python3.7/dist-packages/seaborn/distributions.py:2557: FutureWarning:\n",
            "\n",
            "`distplot` is a deprecated function and will be removed in a future version. Please adapt your code to use either `displot` (a figure-level function with similar flexibility) or `histplot` (an axes-level function for histograms).\n",
            "\n"
          ],
          "name": "stderr"
        },
        {
          "output_type": "display_data",
          "data": {
            "image/png": "[encoded data removed]",
            "text/plain": [
              "<Figure size 432x288 with 1 Axes>"
            ]
          },
          "metadata": {
            "tags": [],
            "needs_background": "light"
          }
        }
      ]
    },
    {
      "cell_type": "code",
      "metadata": {
        "colab": {
          "base_uri": "https://localhost:8080/"
        },
        "id": "5n1r64z0glZH",
        "outputId": "3c6e4de7-dcb7-40b4-ea9f-64e9d903e935"
      },
      "source": [
        "stats.ttest_1samp(a= muestra['Precio'], popmean=avg2)"
      ],
      "execution_count": null,
      "outputs": [
        {
          "output_type": "execute_result",
          "data": {
            "text/plain": [
              "Ttest_1sampResult(statistic=-0.16213537183210433, pvalue=0.8747809749350741)"
            ]
          },
          "metadata": {
            "tags": []
          },
          "execution_count": 72
        }
      ]
    },
    {
      "cell_type": "code",
      "metadata": {
        "colab": {
          "base_uri": "https://localhost:8080/"
        },
        "id": "UGPvXTWTgw_0",
        "outputId": "d256117d-b925-4a15-9742-b3a22063b835"
      },
      "source": [
        "avg2, n_avg2, std2, "
      ],
      "execution_count": null,
      "outputs": [
        {
          "output_type": "execute_result",
          "data": {
            "text/plain": [
              "(15.6719594782154, 15.352232485844237, 7.101556797833318)"
            ]
          },
          "metadata": {
            "tags": []
          },
          "execution_count": 56
        }
      ]
    },
    {
      "cell_type": "code",
      "metadata": {
        "colab": {
          "base_uri": "https://localhost:8080/"
        },
        "id": "UXWA_xjYhNu_",
        "outputId": "84e3a515-a930-4ea6-ecb0-905ea25a4d9f"
      },
      "source": [
        "muestra['Precio']"
      ],
      "execution_count": null,
      "outputs": [
        {
          "output_type": "execute_result",
          "data": {
            "text/plain": [
              "País\n",
              "Italia                               27.973447\n",
              "República Checa                       9.458114\n",
              "Estados Unidos de América            13.230133\n",
              "España (Reino de)                    20.600763\n",
              "Portugal                             21.315910\n",
              "Brasil (República Federativa del)    17.052716\n",
              "India (República de la)               4.543786\n",
              "Colombia (República de)              11.714207\n",
              "Emiratos Arabes Unidos               18.279058\n",
              "China (República Popular de)          9.354192\n",
              "Name: Precio, dtype: float64"
            ]
          },
          "metadata": {
            "tags": []
          },
          "execution_count": 57
        }
      ]
    },
    {
      "cell_type": "code",
      "metadata": {
        "colab": {
          "base_uri": "https://localhost:8080/"
        },
        "id": "DbWbM3cGhWXH",
        "outputId": "7968ac72-94d9-4923-ccff-8f0cda58bee7"
      },
      "source": [
        "df['Precio'].mean()"
      ],
      "execution_count": null,
      "outputs": [
        {
          "output_type": "execute_result",
          "data": {
            "text/plain": [
              "15.6719594782154"
            ]
          },
          "metadata": {
            "tags": []
          },
          "execution_count": 58
        }
      ]
    },
    {
      "cell_type": "code",
      "metadata": {
        "colab": {
          "base_uri": "https://localhost:8080/"
        },
        "id": "Or4kaa7ah0fH",
        "outputId": "49e9936b-f4a2-4bf1-d960-c95293b40aaa"
      },
      "source": [
        "df['Precio'].std()"
      ],
      "execution_count": null,
      "outputs": [
        {
          "output_type": "execute_result",
          "data": {
            "text/plain": [
              "7.101556797833318"
            ]
          },
          "metadata": {
            "tags": []
          },
          "execution_count": 60
        }
      ]
    },
    {
      "cell_type": "code",
      "metadata": {
        "id": "rens6qbPiSVs"
      },
      "source": [
        "mu = df['Precio'].mean()\n",
        "n = 10\n",
        "X = n_avg2\n",
        "s = df['Precio'].std()"
      ],
      "execution_count": null,
      "outputs": []
    },
    {
      "cell_type": "code",
      "metadata": {
        "colab": {
          "base_uri": "https://localhost:8080/"
        },
        "id": "AbhT26NAirdY",
        "outputId": "72fab10b-50ab-4e78-8058-9957b99148a2"
      },
      "source": [
        "error_std = s/math.sqrt(n-1)\n",
        "error_std"
      ],
      "execution_count": null,
      "outputs": [
        {
          "output_type": "execute_result",
          "data": {
            "text/plain": [
              "2.367185599277773"
            ]
          },
          "metadata": {
            "tags": []
          },
          "execution_count": 74
        }
      ]
    },
    {
      "cell_type": "code",
      "metadata": {
        "colab": {
          "base_uri": "https://localhost:8080/"
        },
        "id": "-97JxlXiivvw",
        "outputId": "685cf69c-8072-4414-ba22-2b0cb9aad353"
      },
      "source": [
        "Z = (X - mu)/error_std\n",
        "Z"
      ],
      "execution_count": null,
      "outputs": [
        {
          "output_type": "execute_result",
          "data": {
            "text/plain": [
              "-0.1684639493259855"
            ]
          },
          "metadata": {
            "tags": []
          },
          "execution_count": 75
        }
      ]
    },
    {
      "cell_type": "code",
      "metadata": {
        "colab": {
          "base_uri": "https://localhost:8080/",
          "height": 128
        },
        "id": "828FlCmtlUMm",
        "outputId": "a817dce3-7708-4cbb-e8d0-ac2755bd52e3"
      },
      "source": [
        "corr = df[['Volumen_2018', 'Precio']]\n",
        "cor1 = corr.corr()\n",
        "print('Correlación de Pearson Fracción 6907.90.01')\n",
        "cor1"
      ],
      "execution_count": null,
      "outputs": [
        {
          "output_type": "stream",
          "text": [
            "Correlación de Pearson Fracción 6907.90.01\n"
          ],
          "name": "stdout"
        },
        {
          "output_type": "execute_result",
          "data": {
            "text/html": [
              "<div>\n",
              "<style scoped>\n",
              "    .dataframe tbody tr th:only-of-type {\n",
              "        vertical-align: middle;\n",
              "    }\n",
              "\n",
              "    .dataframe tbody tr th {\n",
              "        vertical-align: top;\n",
              "    }\n",
              "\n",
              "    .dataframe thead th {\n",
              "        text-align: right;\n",
              "    }\n",
              "</style>\n",
              "<table border=\"1\" class=\"dataframe\">\n",
              "  <thead>\n",
              "    <tr style=\"text-align: right;\">\n",
              "      <th></th>\n",
              "      <th>Volumen_2018</th>\n",
              "      <th>Precio</th>\n",
              "    </tr>\n",
              "  </thead>\n",
              "  <tbody>\n",
              "    <tr>\n",
              "      <th>Volumen_2018</th>\n",
              "      <td>1.000000</td>\n",
              "      <td>-0.466675</td>\n",
              "    </tr>\n",
              "    <tr>\n",
              "      <th>Precio</th>\n",
              "      <td>-0.466675</td>\n",
              "      <td>1.000000</td>\n",
              "    </tr>\n",
              "  </tbody>\n",
              "</table>\n",
              "</div>"
            ],
            "text/plain": [
              "              Volumen_2018    Precio\n",
              "Volumen_2018      1.000000 -0.466675\n",
              "Precio           -0.466675  1.000000"
            ]
          },
          "metadata": {
            "tags": []
          },
          "execution_count": 78
        }
      ]
    },
    {
      "cell_type": "code",
      "metadata": {
        "colab": {
          "base_uri": "https://localhost:8080/",
          "height": 384
        },
        "id": "NOxcd5N-ly4C",
        "outputId": "42b833e3-f8b2-419f-c467-635d69e52825"
      },
      "source": [
        "y = df['Precio']\n",
        "x = df['Volumen_2018']\n",
        "sns.regplot(x, y, data=df,scatter_kws={\"alpha\": 0.5}).set(title= 'Precio vs Volumen')\n",
        "plt.ylim(0,40)\n",
        "plt.show()"
      ],
      "execution_count": null,
      "outputs": [
        {
          "output_type": "stream",
          "text": [
            "/usr/local/lib/python3.7/dist-packages/seaborn/_decorators.py:43: FutureWarning:\n",
            "\n",
            "Pass the following variables as keyword args: x, y. From version 0.12, the only valid positional argument will be `data`, and passing other arguments without an explicit keyword will result in an error or misinterpretation.\n",
            "\n"
          ],
          "name": "stderr"
        },
        {
          "output_type": "display_data",
          "data": {
            "image/png": "[encoded data removed]",
            "text/plain": [
              "<Figure size 432x288 with 1 Axes>"
            ]
          },
          "metadata": {
            "tags": [],
            "needs_background": "light"
          }
        }
      ]
    },
    {
      "cell_type": "code",
      "metadata": {
        "colab": {
          "base_uri": "https://localhost:8080/"
        },
        "id": "IU3Zl2v0mWjs",
        "outputId": "c3aaad99-c45f-4bda-85a0-e982bc67579d"
      },
      "source": [
        "df['Precio'].max()"
      ],
      "execution_count": null,
      "outputs": [
        {
          "output_type": "execute_result",
          "data": {
            "text/plain": [
              "27.9734473558602"
            ]
          },
          "metadata": {
            "tags": []
          },
          "execution_count": 81
        }
      ]
    }
  ]
}