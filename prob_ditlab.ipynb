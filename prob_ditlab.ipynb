{
  "nbformat": 4,
  "nbformat_minor": 0,
  "metadata": {
    "colab": {
      "name": "prob_ditlab.ipynb",
      "provenance": [],
      "authorship_tag": "ABX9TyMaw+IwppOLgXf1wO3spemc",
      "include_colab_link": true
    },
    "kernelspec": {
      "name": "python3",
      "display_name": "Python 3"
    },
    "language_info": {
      "name": "python"
    }
  },
  "cells": [
    {
      "cell_type": "markdown",
      "metadata": {
        "id": "view-in-github",
        "colab_type": "text"
      },
      "source": [
        "<a href=\"https://colab.research.google.com/github/lorenzo1285/Probabilida_Estadistica/blob/main/prob_ditlab.ipynb\" target=\"_parent\"><img src=\"https://colab.research.google.com/assets/colab-badge.svg\" alt=\"Open In Colab\"/></a>"
      ]
    },
    {
      "cell_type": "code",
      "metadata": {
        "id": "Iu10b-ULQscD"
      },
      "source": [
        "import pandas as pd\n",
        "import numpy as np \n",
        "import matplotlib.pyplot as plt\n",
        "import scipy.stats as stats \n",
        "import seaborn as sns\n",
        "import random \n",
        "%matplotlib inline"
      ],
      "execution_count": null,
      "outputs": []
    },
    {
      "cell_type": "code",
      "metadata": {
        "id": "FbMSNXifRmbn"
      },
      "source": [
        "uniform_data = stats.uniform.rvs(size = 10000, loc=0, scale=10)"
      ],
      "execution_count": null,
      "outputs": []
    },
    {
      "cell_type": "code",
      "metadata": {
        "colab": {
          "base_uri": "https://localhost:8080/",
          "height": 368
        },
        "id": "PJM-Mf8vSHb2",
        "outputId": "685aa9df-3471-440c-aaae-bac0c1f04493"
      },
      "source": [
        "sns.displot(uniform_data)\n",
        "plt.show()"
      ],
      "execution_count": null,
      "outputs": [
        {
          "output_type": "display_data",
          "data": {
            "image/png": "[encoded data removed]",
            "text/plain": [
              "<Figure size 360x360 with 1 Axes>"
            ]
          },
          "metadata": {
            "tags": [],
            "needs_background": "light"
          }
        }
      ]
    },
    {
      "cell_type": "code",
      "metadata": {
        "id": "tvOV1MffTBpc"
      },
      "source": [
        "mu = 6.8\n",
        "\n",
        "sigma = 1.2\n",
        "\n",
        "random_data = [random.normalvariate(mu, sigma) for _ in range(1000)]"
      ],
      "execution_count": null,
      "outputs": []
    },
    {
      "cell_type": "code",
      "metadata": {
        "colab": {
          "base_uri": "https://localhost:8080/",
          "height": 368
        },
        "id": "5wOllYRHUwSE",
        "outputId": "dd858cbf-df7b-4a56-a2be-73bee1bf9353"
      },
      "source": [
        "sns.displot(random_data, kde= True)\n",
        "plt.show()"
      ],
      "execution_count": null,
      "outputs": [
        {
          "output_type": "display_data",
          "data": {
            "image/png": "[encoded data removed]",
            "text/plain": [
              "<Figure size 360x360 with 1 Axes>"
            ]
          },
          "metadata": {
            "tags": [],
            "needs_background": "light"
          }
        }
      ]
    },
    {
      "cell_type": "code",
      "metadata": {
        "colab": {
          "base_uri": "https://localhost:8080/"
        },
        "id": "MDa8Qm4tXw69",
        "outputId": "0ba4970b-2b7e-4316-c2b8-2d88ee62d1d2"
      },
      "source": [
        "stats.uniform.cdf(x=2.5, loc=0, scale=10)"
      ],
      "execution_count": null,
      "outputs": [
        {
          "output_type": "execute_result",
          "data": {
            "text/plain": [
              "0.25"
            ]
          },
          "metadata": {
            "tags": []
          },
          "execution_count": 17
        }
      ]
    },
    {
      "cell_type": "code",
      "metadata": {
        "colab": {
          "base_uri": "https://localhost:8080/"
        },
        "id": "vC71J6eZYPYl",
        "outputId": "032cd674-0db4-40ec-8720-edd89b833e6b"
      },
      "source": [
        "stats.uniform.ppf(q=.4,        #Probability cutoff\n",
        "                  loc=0,       #ditribution start\n",
        "                  scale=10)   #distribution end"
      ],
      "execution_count": null,
      "outputs": [
        {
          "output_type": "execute_result",
          "data": {
            "text/plain": [
              "4.0"
            ]
          },
          "metadata": {
            "tags": []
          },
          "execution_count": 21
        }
      ]
    },
    {
      "cell_type": "code",
      "metadata": {
        "colab": {
          "base_uri": "https://localhost:8080/"
        },
        "id": "wt--tUuoZBJN",
        "outputId": "e0f4f66f-90a7-42d5-e202-71e7cfad18eb"
      },
      "source": [
        "for x in range(-1, 12, 3):\n",
        "    print('Density at value ' + str(x))\n",
        "    print(stats.uniform.pdf(x, loc=0, scale=10))"
      ],
      "execution_count": null,
      "outputs": [
        {
          "output_type": "stream",
          "text": [
            "Density at value -1\n",
            "0.0\n",
            "Density at value 2\n",
            "0.1\n",
            "Density at value 5\n",
            "0.1\n",
            "Density at value 8\n",
            "0.1\n",
            "Density at value 11\n",
            "0.0\n"
          ],
          "name": "stdout"
        }
      ]
    },
    {
      "cell_type": "code",
      "metadata": {
        "id": "FBxT9epEaBHX"
      },
      "source": [
        "prob_under_minus1 = stats.norm.cdf(x= -1, loc=0, scale= 1)\n",
        "prob_over_1 = stats.norm.cdf(x= 1, loc=0, scale= 1)"
      ],
      "execution_count": null,
      "outputs": []
    },
    {
      "cell_type": "code",
      "metadata": {
        "colab": {
          "base_uri": "https://localhost:8080/"
        },
        "id": "hpFt11vUd1d5",
        "outputId": "29e09f55-ebad-4bec-be50-ebc36106a942"
      },
      "source": [
        "prob_under_minus1"
      ],
      "execution_count": null,
      "outputs": [
        {
          "output_type": "execute_result",
          "data": {
            "text/plain": [
              "0.15865525393145707"
            ]
          },
          "metadata": {
            "tags": []
          },
          "execution_count": 30
        }
      ]
    },
    {
      "cell_type": "code",
      "metadata": {
        "colab": {
          "base_uri": "https://localhost:8080/"
        },
        "id": "2zprZBzhpKfz",
        "outputId": "dc1aa42c-7f06-46ac-b63b-fed13a649d2a"
      },
      "source": [
        "75/30"
      ],
      "execution_count": null,
      "outputs": [
        {
          "output_type": "execute_result",
          "data": {
            "text/plain": [
              "2.5"
            ]
          },
          "metadata": {
            "tags": []
          },
          "execution_count": 4
        }
      ]
    }
  ]
}