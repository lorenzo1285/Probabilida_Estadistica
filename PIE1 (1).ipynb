{
  "nbformat": 4,
  "nbformat_minor": 0,
  "metadata": {
    "colab": {
      "name": "PIE1",
      "provenance": []
    },
    "kernelspec": {
      "name": "python3",
      "display_name": "Python 3"
    },
    "language_info": {
      "name": "python"
    }
  },
  "cells": [
    {
      "cell_type": "code",
      "metadata": {
        "id": "iVI1SOBUiKR_"
      },
      "source": [
        "import pandas as pd\n",
        "import matplotlib.pylab as plt\n",
        "import seaborn as sns\n",
        "import numpy as np\n",
        "import io\n",
        "from google.colab import files\n",
        "sns.set_style(\"whitegrid\")\n",
        "%matplotlib inline\n",
        "import plotly.express as px\n",
        "import plotly.graph_objects as go \n",
        "import plotly.figure_factory as ff\n",
        "import scipy.stats as stats\n",
        "import random \n",
        "import math"
      ],
      "execution_count": null,
      "outputs": []
    },
    {
      "cell_type": "code",
      "metadata": {
        "colab": {
          "resources": {
            "http://localhost:8080/nbextensions/google.colab/files.js": {
              "data": "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",
              "ok": true,
              "headers": [
                [
                  "content-type",
                  "application/javascript"
                ]
              ],
              "status": 200,
              "status_text": ""
            }
          },
          "base_uri": "https://localhost:8080/",
          "height": 72
        },
        "id": "tnrF8IjZidSA",
        "outputId": "a14a2757-7f9e-419d-a075-c864cd7c8dbf"
      },
      "source": [
        "uploaded = files.upload()"
      ],
      "execution_count": null,
      "outputs": [
        {
          "output_type": "display_data",
          "data": {
            "text/html": [
              "\n",
              "     <input type=\"file\" id=\"files-12af9521-67b6-4e48-8b27-5a9fae219b77\" name=\"files[]\" multiple disabled\n",
              "        style=\"border:none\" />\n",
              "     <output id=\"result-12af9521-67b6-4e48-8b27-5a9fae219b77\">\n",
              "      Upload widget is only available when the cell has been executed in the\n",
              "      current browser session. Please rerun this cell to enable.\n",
              "      </output>\n",
              "      <script src=\"/nbextensions/google.colab/files.js\"></script> "
            ],
            "text/plain": [
              "<IPython.core.display.HTML object>"
            ]
          },
          "metadata": {
            "tags": []
          }
        },
        {
          "output_type": "stream",
          "text": [
            "Saving PIE_2018.xlsx to PIE_2018.xlsx\n"
          ],
          "name": "stdout"
        }
      ]
    },
    {
      "cell_type": "code",
      "metadata": {
        "colab": {
          "base_uri": "https://localhost:8080/",
          "height": 1000
        },
        "id": "F8UI_6A0igfU",
        "outputId": "6522eaa4-68ab-4fac-ae9f-dc4ab5a6cf58"
      },
      "source": [
        "df = pd.read_excel(io.BytesIO(uploaded['PIE_2018.xlsx']))\n",
        "df"
      ],
      "execution_count": null,
      "outputs": [
        {
          "output_type": "execute_result",
          "data": {
            "text/html": [
              "<div>\n",
              "<style scoped>\n",
              "    .dataframe tbody tr th:only-of-type {\n",
              "        vertical-align: middle;\n",
              "    }\n",
              "\n",
              "    .dataframe tbody tr th {\n",
              "        vertical-align: top;\n",
              "    }\n",
              "\n",
              "    .dataframe thead th {\n",
              "        text-align: right;\n",
              "    }\n",
              "</style>\n",
              "<table border=\"1\" class=\"dataframe\">\n",
              "  <thead>\n",
              "    <tr style=\"text-align: right;\">\n",
              "      <th></th>\n",
              "      <th>País</th>\n",
              "      <th>Valor\\n 2018</th>\n",
              "      <th>Volumen\\n 2018</th>\n",
              "    </tr>\n",
              "  </thead>\n",
              "  <tbody>\n",
              "    <tr>\n",
              "      <th>0</th>\n",
              "      <td>Emiratos Arabes Unidos</td>\n",
              "      <td>7550</td>\n",
              "      <td>165</td>\n",
              "    </tr>\n",
              "    <tr>\n",
              "      <th>1</th>\n",
              "      <td>Argentina, República</td>\n",
              "      <td>0</td>\n",
              "      <td>0</td>\n",
              "    </tr>\n",
              "    <tr>\n",
              "      <th>2</th>\n",
              "      <td>Bélgica, (Reino de)</td>\n",
              "      <td>0</td>\n",
              "      <td>0</td>\n",
              "    </tr>\n",
              "    <tr>\n",
              "      <th>3</th>\n",
              "      <td>Bulgaria (República de)</td>\n",
              "      <td>0</td>\n",
              "      <td>0</td>\n",
              "    </tr>\n",
              "    <tr>\n",
              "      <th>4</th>\n",
              "      <td>Brasil (República Federativa del)</td>\n",
              "      <td>1482836</td>\n",
              "      <td>248379</td>\n",
              "    </tr>\n",
              "    <tr>\n",
              "      <th>5</th>\n",
              "      <td>Canadá</td>\n",
              "      <td>0</td>\n",
              "      <td>0</td>\n",
              "    </tr>\n",
              "    <tr>\n",
              "      <th>6</th>\n",
              "      <td>Colombia (República de)</td>\n",
              "      <td>53492</td>\n",
              "      <td>4482</td>\n",
              "    </tr>\n",
              "    <tr>\n",
              "      <th>7</th>\n",
              "      <td>República Checa</td>\n",
              "      <td>0</td>\n",
              "      <td>0</td>\n",
              "    </tr>\n",
              "    <tr>\n",
              "      <th>8</th>\n",
              "      <td>China (República Popular de)</td>\n",
              "      <td>14145738</td>\n",
              "      <td>1366035</td>\n",
              "    </tr>\n",
              "    <tr>\n",
              "      <th>9</th>\n",
              "      <td>Alemania (República Federal de)</td>\n",
              "      <td>1476</td>\n",
              "      <td>27</td>\n",
              "    </tr>\n",
              "    <tr>\n",
              "      <th>10</th>\n",
              "      <td>Dinamarca (Reino de)</td>\n",
              "      <td>103</td>\n",
              "      <td>0</td>\n",
              "    </tr>\n",
              "    <tr>\n",
              "      <th>11</th>\n",
              "      <td>República Dominicana</td>\n",
              "      <td>0</td>\n",
              "      <td>0</td>\n",
              "    </tr>\n",
              "    <tr>\n",
              "      <th>12</th>\n",
              "      <td>Ecuador (República de)</td>\n",
              "      <td>251292</td>\n",
              "      <td>31975</td>\n",
              "    </tr>\n",
              "    <tr>\n",
              "      <th>13</th>\n",
              "      <td>España (Reino de)</td>\n",
              "      <td>29061929</td>\n",
              "      <td>2282603</td>\n",
              "    </tr>\n",
              "    <tr>\n",
              "      <th>14</th>\n",
              "      <td>Grecia</td>\n",
              "      <td>0</td>\n",
              "      <td>0</td>\n",
              "    </tr>\n",
              "    <tr>\n",
              "      <th>15</th>\n",
              "      <td>Guatemala (República de)</td>\n",
              "      <td>127379</td>\n",
              "      <td>20070</td>\n",
              "    </tr>\n",
              "    <tr>\n",
              "      <th>16</th>\n",
              "      <td>Hong Kong (Teritorio de )</td>\n",
              "      <td>38546</td>\n",
              "      <td>7018</td>\n",
              "    </tr>\n",
              "    <tr>\n",
              "      <th>17</th>\n",
              "      <td>Indonesia (República de)</td>\n",
              "      <td>7026</td>\n",
              "      <td>518</td>\n",
              "    </tr>\n",
              "    <tr>\n",
              "      <th>18</th>\n",
              "      <td>India (República de la)</td>\n",
              "      <td>38603728</td>\n",
              "      <td>6853236</td>\n",
              "    </tr>\n",
              "    <tr>\n",
              "      <th>19</th>\n",
              "      <td>Irán (República Islamica del)</td>\n",
              "      <td>123066</td>\n",
              "      <td>32555</td>\n",
              "    </tr>\n",
              "    <tr>\n",
              "      <th>20</th>\n",
              "      <td>Italia</td>\n",
              "      <td>7939853</td>\n",
              "      <td>372378</td>\n",
              "    </tr>\n",
              "    <tr>\n",
              "      <th>21</th>\n",
              "      <td>Japón</td>\n",
              "      <td>3119</td>\n",
              "      <td>7</td>\n",
              "    </tr>\n",
              "    <tr>\n",
              "      <th>22</th>\n",
              "      <td>Corea del Sur</td>\n",
              "      <td>0</td>\n",
              "      <td>0</td>\n",
              "    </tr>\n",
              "    <tr>\n",
              "      <th>23</th>\n",
              "      <td>Marruecos (Reino de)</td>\n",
              "      <td>3251</td>\n",
              "      <td>11</td>\n",
              "    </tr>\n",
              "    <tr>\n",
              "      <th>24</th>\n",
              "      <td>Malasia (Federación de)</td>\n",
              "      <td>207455</td>\n",
              "      <td>72504</td>\n",
              "    </tr>\n",
              "    <tr>\n",
              "      <th>25</th>\n",
              "      <td>Perú (República del)</td>\n",
              "      <td>332215</td>\n",
              "      <td>115234</td>\n",
              "    </tr>\n",
              "    <tr>\n",
              "      <th>26</th>\n",
              "      <td>Polonia (República Popular de)</td>\n",
              "      <td>0</td>\n",
              "      <td>0</td>\n",
              "    </tr>\n",
              "    <tr>\n",
              "      <th>27</th>\n",
              "      <td>Portugal</td>\n",
              "      <td>157149</td>\n",
              "      <td>10788</td>\n",
              "    </tr>\n",
              "    <tr>\n",
              "      <th>28</th>\n",
              "      <td>Rusia antes U.R.S.S.</td>\n",
              "      <td>78</td>\n",
              "      <td>0</td>\n",
              "    </tr>\n",
              "    <tr>\n",
              "      <th>29</th>\n",
              "      <td>Tailandia (Reino de)</td>\n",
              "      <td>0</td>\n",
              "      <td>0</td>\n",
              "    </tr>\n",
              "    <tr>\n",
              "      <th>30</th>\n",
              "      <td>Turquia (República de)</td>\n",
              "      <td>3947</td>\n",
              "      <td>267</td>\n",
              "    </tr>\n",
              "    <tr>\n",
              "      <th>31</th>\n",
              "      <td>Taiwan (Taipe chino)</td>\n",
              "      <td>0</td>\n",
              "      <td>0</td>\n",
              "    </tr>\n",
              "    <tr>\n",
              "      <th>32</th>\n",
              "      <td>Ucrania</td>\n",
              "      <td>102</td>\n",
              "      <td>4</td>\n",
              "    </tr>\n",
              "    <tr>\n",
              "      <th>33</th>\n",
              "      <td>Estados Unidos de América</td>\n",
              "      <td>970197</td>\n",
              "      <td>317627</td>\n",
              "    </tr>\n",
              "    <tr>\n",
              "      <th>34</th>\n",
              "      <td>Venezuela (República de)</td>\n",
              "      <td>0</td>\n",
              "      <td>0</td>\n",
              "    </tr>\n",
              "    <tr>\n",
              "      <th>35</th>\n",
              "      <td>Vietnam (República Socialista de)</td>\n",
              "      <td>0</td>\n",
              "      <td>0</td>\n",
              "    </tr>\n",
              "  </tbody>\n",
              "</table>\n",
              "</div>"
            ],
            "text/plain": [
              "                                 País  Valor\\n 2018  Volumen\\n 2018\n",
              "0              Emiratos Arabes Unidos          7550             165\n",
              "1                Argentina, República             0               0\n",
              "2                 Bélgica, (Reino de)             0               0\n",
              "3             Bulgaria (República de)             0               0\n",
              "4   Brasil (República Federativa del)       1482836          248379\n",
              "5                              Canadá             0               0\n",
              "6             Colombia (República de)         53492            4482\n",
              "7                     República Checa             0               0\n",
              "8        China (República Popular de)      14145738         1366035\n",
              "9     Alemania (República Federal de)          1476              27\n",
              "10               Dinamarca (Reino de)           103               0\n",
              "11               República Dominicana             0               0\n",
              "12             Ecuador (República de)        251292           31975\n",
              "13                  España (Reino de)      29061929         2282603\n",
              "14                             Grecia             0               0\n",
              "15           Guatemala (República de)        127379           20070\n",
              "16          Hong Kong (Teritorio de )         38546            7018\n",
              "17           Indonesia (República de)          7026             518\n",
              "18            India (República de la)      38603728         6853236\n",
              "19      Irán (República Islamica del)        123066           32555\n",
              "20                             Italia       7939853          372378\n",
              "21                              Japón          3119               7\n",
              "22                      Corea del Sur             0               0\n",
              "23               Marruecos (Reino de)          3251              11\n",
              "24            Malasia (Federación de)        207455           72504\n",
              "25               Perú (República del)        332215          115234\n",
              "26     Polonia (República Popular de)             0               0\n",
              "27                           Portugal        157149           10788\n",
              "28               Rusia antes U.R.S.S.            78               0\n",
              "29               Tailandia (Reino de)             0               0\n",
              "30             Turquia (República de)          3947             267\n",
              "31               Taiwan (Taipe chino)             0               0\n",
              "32                            Ucrania           102               4\n",
              "33          Estados Unidos de América        970197          317627\n",
              "34           Venezuela (República de)             0               0\n",
              "35  Vietnam (República Socialista de)             0               0"
            ]
          },
          "metadata": {
            "tags": []
          },
          "execution_count": 11
        }
      ]
    },
    {
      "cell_type": "code",
      "metadata": {
        "colab": {
          "base_uri": "https://localhost:8080/"
        },
        "id": "76hpRi4zj5Bx",
        "outputId": "d9175aeb-13e6-4948-f40a-cf78a6da4928"
      },
      "source": [
        "df.dtypes"
      ],
      "execution_count": null,
      "outputs": [
        {
          "output_type": "execute_result",
          "data": {
            "text/plain": [
              "País              object\n",
              "Valor\\n 2018       int64\n",
              "Volumen\\n 2018     int64\n",
              "dtype: object"
            ]
          },
          "metadata": {
            "tags": []
          },
          "execution_count": 4
        }
      ]
    },
    {
      "cell_type": "markdown",
      "metadata": {
        "id": "qgOgisKQmd1T"
      },
      "source": [
        "**a)\tEliminar los países que no realizaron importaciones en 2018 (tienen 0 en la columna del volumen)**"
      ]
    },
    {
      "cell_type": "code",
      "metadata": {
        "id": "N0kgfzzOmfiT",
        "colab": {
          "base_uri": "https://localhost:8080/",
          "height": 1000
        },
        "outputId": "3ae9eed2-83f0-4b6d-bff3-c18fe68ae50e"
      },
      "source": [
        "df.set_index('País', inplace=True)\n",
        "df"
      ],
      "execution_count": null,
      "outputs": [
        {
          "output_type": "execute_result",
          "data": {
            "text/html": [
              "<div>\n",
              "<style scoped>\n",
              "    .dataframe tbody tr th:only-of-type {\n",
              "        vertical-align: middle;\n",
              "    }\n",
              "\n",
              "    .dataframe tbody tr th {\n",
              "        vertical-align: top;\n",
              "    }\n",
              "\n",
              "    .dataframe thead th {\n",
              "        text-align: right;\n",
              "    }\n",
              "</style>\n",
              "<table border=\"1\" class=\"dataframe\">\n",
              "  <thead>\n",
              "    <tr style=\"text-align: right;\">\n",
              "      <th></th>\n",
              "      <th>Valor\\n 2018</th>\n",
              "      <th>Volumen\\n 2018</th>\n",
              "    </tr>\n",
              "    <tr>\n",
              "      <th>País</th>\n",
              "      <th></th>\n",
              "      <th></th>\n",
              "    </tr>\n",
              "  </thead>\n",
              "  <tbody>\n",
              "    <tr>\n",
              "      <th>Emiratos Arabes Unidos</th>\n",
              "      <td>7550</td>\n",
              "      <td>165</td>\n",
              "    </tr>\n",
              "    <tr>\n",
              "      <th>Argentina, República</th>\n",
              "      <td>0</td>\n",
              "      <td>0</td>\n",
              "    </tr>\n",
              "    <tr>\n",
              "      <th>Bélgica, (Reino de)</th>\n",
              "      <td>0</td>\n",
              "      <td>0</td>\n",
              "    </tr>\n",
              "    <tr>\n",
              "      <th>Bulgaria (República de)</th>\n",
              "      <td>0</td>\n",
              "      <td>0</td>\n",
              "    </tr>\n",
              "    <tr>\n",
              "      <th>Brasil (República Federativa del)</th>\n",
              "      <td>1482836</td>\n",
              "      <td>248379</td>\n",
              "    </tr>\n",
              "    <tr>\n",
              "      <th>Canadá</th>\n",
              "      <td>0</td>\n",
              "      <td>0</td>\n",
              "    </tr>\n",
              "    <tr>\n",
              "      <th>Colombia (República de)</th>\n",
              "      <td>53492</td>\n",
              "      <td>4482</td>\n",
              "    </tr>\n",
              "    <tr>\n",
              "      <th>República Checa</th>\n",
              "      <td>0</td>\n",
              "      <td>0</td>\n",
              "    </tr>\n",
              "    <tr>\n",
              "      <th>China (República Popular de)</th>\n",
              "      <td>14145738</td>\n",
              "      <td>1366035</td>\n",
              "    </tr>\n",
              "    <tr>\n",
              "      <th>Alemania (República Federal de)</th>\n",
              "      <td>1476</td>\n",
              "      <td>27</td>\n",
              "    </tr>\n",
              "    <tr>\n",
              "      <th>Dinamarca (Reino de)</th>\n",
              "      <td>103</td>\n",
              "      <td>0</td>\n",
              "    </tr>\n",
              "    <tr>\n",
              "      <th>República Dominicana</th>\n",
              "      <td>0</td>\n",
              "      <td>0</td>\n",
              "    </tr>\n",
              "    <tr>\n",
              "      <th>Ecuador (República de)</th>\n",
              "      <td>251292</td>\n",
              "      <td>31975</td>\n",
              "    </tr>\n",
              "    <tr>\n",
              "      <th>España (Reino de)</th>\n",
              "      <td>29061929</td>\n",
              "      <td>2282603</td>\n",
              "    </tr>\n",
              "    <tr>\n",
              "      <th>Grecia</th>\n",
              "      <td>0</td>\n",
              "      <td>0</td>\n",
              "    </tr>\n",
              "    <tr>\n",
              "      <th>Guatemala (República de)</th>\n",
              "      <td>127379</td>\n",
              "      <td>20070</td>\n",
              "    </tr>\n",
              "    <tr>\n",
              "      <th>Hong Kong (Teritorio de )</th>\n",
              "      <td>38546</td>\n",
              "      <td>7018</td>\n",
              "    </tr>\n",
              "    <tr>\n",
              "      <th>Indonesia (República de)</th>\n",
              "      <td>7026</td>\n",
              "      <td>518</td>\n",
              "    </tr>\n",
              "    <tr>\n",
              "      <th>India (República de la)</th>\n",
              "      <td>38603728</td>\n",
              "      <td>6853236</td>\n",
              "    </tr>\n",
              "    <tr>\n",
              "      <th>Irán (República Islamica del)</th>\n",
              "      <td>123066</td>\n",
              "      <td>32555</td>\n",
              "    </tr>\n",
              "    <tr>\n",
              "      <th>Italia</th>\n",
              "      <td>7939853</td>\n",
              "      <td>372378</td>\n",
              "    </tr>\n",
              "    <tr>\n",
              "      <th>Japón</th>\n",
              "      <td>3119</td>\n",
              "      <td>7</td>\n",
              "    </tr>\n",
              "    <tr>\n",
              "      <th>Corea del Sur</th>\n",
              "      <td>0</td>\n",
              "      <td>0</td>\n",
              "    </tr>\n",
              "    <tr>\n",
              "      <th>Marruecos (Reino de)</th>\n",
              "      <td>3251</td>\n",
              "      <td>11</td>\n",
              "    </tr>\n",
              "    <tr>\n",
              "      <th>Malasia (Federación de)</th>\n",
              "      <td>207455</td>\n",
              "      <td>72504</td>\n",
              "    </tr>\n",
              "    <tr>\n",
              "      <th>Perú (República del)</th>\n",
              "      <td>332215</td>\n",
              "      <td>115234</td>\n",
              "    </tr>\n",
              "    <tr>\n",
              "      <th>Polonia (República Popular de)</th>\n",
              "      <td>0</td>\n",
              "      <td>0</td>\n",
              "    </tr>\n",
              "    <tr>\n",
              "      <th>Portugal</th>\n",
              "      <td>157149</td>\n",
              "      <td>10788</td>\n",
              "    </tr>\n",
              "    <tr>\n",
              "      <th>Rusia antes U.R.S.S.</th>\n",
              "      <td>78</td>\n",
              "      <td>0</td>\n",
              "    </tr>\n",
              "    <tr>\n",
              "      <th>Tailandia (Reino de)</th>\n",
              "      <td>0</td>\n",
              "      <td>0</td>\n",
              "    </tr>\n",
              "    <tr>\n",
              "      <th>Turquia (República de)</th>\n",
              "      <td>3947</td>\n",
              "      <td>267</td>\n",
              "    </tr>\n",
              "    <tr>\n",
              "      <th>Taiwan (Taipe chino)</th>\n",
              "      <td>0</td>\n",
              "      <td>0</td>\n",
              "    </tr>\n",
              "    <tr>\n",
              "      <th>Ucrania</th>\n",
              "      <td>102</td>\n",
              "      <td>4</td>\n",
              "    </tr>\n",
              "    <tr>\n",
              "      <th>Estados Unidos de América</th>\n",
              "      <td>970197</td>\n",
              "      <td>317627</td>\n",
              "    </tr>\n",
              "    <tr>\n",
              "      <th>Venezuela (República de)</th>\n",
              "      <td>0</td>\n",
              "      <td>0</td>\n",
              "    </tr>\n",
              "    <tr>\n",
              "      <th>Vietnam (República Socialista de)</th>\n",
              "      <td>0</td>\n",
              "      <td>0</td>\n",
              "    </tr>\n",
              "  </tbody>\n",
              "</table>\n",
              "</div>"
            ],
            "text/plain": [
              "                                   Valor\\n 2018  Volumen\\n 2018\n",
              "País                                                           \n",
              "Emiratos Arabes Unidos                     7550             165\n",
              "Argentina, República                          0               0\n",
              "Bélgica, (Reino de)                           0               0\n",
              "Bulgaria (República de)                       0               0\n",
              "Brasil (República Federativa del)       1482836          248379\n",
              "Canadá                                        0               0\n",
              "Colombia (República de)                   53492            4482\n",
              "República Checa                               0               0\n",
              "China (República Popular de)           14145738         1366035\n",
              "Alemania (República Federal de)            1476              27\n",
              "Dinamarca (Reino de)                        103               0\n",
              "República Dominicana                          0               0\n",
              "Ecuador (República de)                   251292           31975\n",
              "España (Reino de)                      29061929         2282603\n",
              "Grecia                                        0               0\n",
              "Guatemala (República de)                 127379           20070\n",
              "Hong Kong (Teritorio de )                 38546            7018\n",
              "Indonesia (República de)                   7026             518\n",
              "India (República de la)                38603728         6853236\n",
              "Irán (República Islamica del)            123066           32555\n",
              "Italia                                  7939853          372378\n",
              "Japón                                      3119               7\n",
              "Corea del Sur                                 0               0\n",
              "Marruecos (Reino de)                       3251              11\n",
              "Malasia (Federación de)                  207455           72504\n",
              "Perú (República del)                     332215          115234\n",
              "Polonia (República Popular de)                0               0\n",
              "Portugal                                 157149           10788\n",
              "Rusia antes U.R.S.S.                         78               0\n",
              "Tailandia (Reino de)                          0               0\n",
              "Turquia (República de)                     3947             267\n",
              "Taiwan (Taipe chino)                          0               0\n",
              "Ucrania                                     102               4\n",
              "Estados Unidos de América                970197          317627\n",
              "Venezuela (República de)                      0               0\n",
              "Vietnam (República Socialista de)             0               0"
            ]
          },
          "metadata": {
            "tags": []
          },
          "execution_count": 12
        }
      ]
    },
    {
      "cell_type": "code",
      "metadata": {
        "colab": {
          "base_uri": "https://localhost:8080/"
        },
        "id": "x7hL1yzDoQXa",
        "outputId": "a3c0f51a-6816-413e-dfe8-babb0d489e6d"
      },
      "source": [
        "df.index"
      ],
      "execution_count": null,
      "outputs": [
        {
          "output_type": "execute_result",
          "data": {
            "text/plain": [
              "Index(['Emiratos Arabes Unidos', 'Argentina, República', 'Bélgica, (Reino de)',\n",
              "       'Bulgaria (República de)', 'Brasil (República Federativa del)',\n",
              "       'Canadá', 'Colombia (República de)', 'República Checa',\n",
              "       'China (República Popular de)', 'Alemania (República Federal de)',\n",
              "       'Dinamarca (Reino de)', 'República Dominicana',\n",
              "       'Ecuador (República de)', 'España (Reino de)', 'Grecia',\n",
              "       'Guatemala (República de)', 'Hong Kong (Teritorio de )',\n",
              "       'Indonesia (República de)', 'India (República de la)',\n",
              "       'Irán (República Islamica del)', 'Italia', 'Japón', 'Corea del Sur',\n",
              "       'Marruecos (Reino de)', 'Malasia (Federación de)',\n",
              "       'Perú (República del)', 'Polonia (República Popular de)', 'Portugal',\n",
              "       'Rusia antes U.R.S.S.', 'Tailandia (Reino de)',\n",
              "       'Turquia (República de)', 'Taiwan (Taipe chino)', 'Ucrania',\n",
              "       'Estados Unidos de América', 'Venezuela (República de)',\n",
              "       'Vietnam (República Socialista de)'],\n",
              "      dtype='object', name='País')"
            ]
          },
          "metadata": {
            "tags": []
          },
          "execution_count": 6
        }
      ]
    },
    {
      "cell_type": "code",
      "metadata": {
        "colab": {
          "base_uri": "https://localhost:8080/",
          "height": 669
        },
        "id": "aVLrjFEboLWE",
        "outputId": "4785dd4d-19c7-4aaf-9a27-098e145d3a20"
      },
      "source": [
        "df.drop(['Argentina, República','Bélgica, (Reino de)',\n",
        "         'Bulgaria (República de)','Canadá',\n",
        "         'República Checa','República Dominicana',\n",
        "         'Grecia','Corea del Sur',\n",
        "         'Polonia (República Popular de)','Tailandia (Reino de)',\n",
        "         'Taiwan (Taipe chino)','Venezuela (República de)',\n",
        "        'Vietnam (República Socialista de)','Dinamarca (Reino de)',\n",
        "        'Rusia antes U.R.S.S.', 'Marruecos (Reino de)',\n",
        "        'Japón'], inplace=True)\n",
        "df"
      ],
      "execution_count": null,
      "outputs": [
        {
          "output_type": "execute_result",
          "data": {
            "text/html": [
              "<div>\n",
              "<style scoped>\n",
              "    .dataframe tbody tr th:only-of-type {\n",
              "        vertical-align: middle;\n",
              "    }\n",
              "\n",
              "    .dataframe tbody tr th {\n",
              "        vertical-align: top;\n",
              "    }\n",
              "\n",
              "    .dataframe thead th {\n",
              "        text-align: right;\n",
              "    }\n",
              "</style>\n",
              "<table border=\"1\" class=\"dataframe\">\n",
              "  <thead>\n",
              "    <tr style=\"text-align: right;\">\n",
              "      <th></th>\n",
              "      <th>Valor\\n 2018</th>\n",
              "      <th>Volumen\\n 2018</th>\n",
              "    </tr>\n",
              "    <tr>\n",
              "      <th>País</th>\n",
              "      <th></th>\n",
              "      <th></th>\n",
              "    </tr>\n",
              "  </thead>\n",
              "  <tbody>\n",
              "    <tr>\n",
              "      <th>Emiratos Arabes Unidos</th>\n",
              "      <td>7550</td>\n",
              "      <td>165</td>\n",
              "    </tr>\n",
              "    <tr>\n",
              "      <th>Brasil (República Federativa del)</th>\n",
              "      <td>1482836</td>\n",
              "      <td>248379</td>\n",
              "    </tr>\n",
              "    <tr>\n",
              "      <th>Colombia (República de)</th>\n",
              "      <td>53492</td>\n",
              "      <td>4482</td>\n",
              "    </tr>\n",
              "    <tr>\n",
              "      <th>China (República Popular de)</th>\n",
              "      <td>14145738</td>\n",
              "      <td>1366035</td>\n",
              "    </tr>\n",
              "    <tr>\n",
              "      <th>Alemania (República Federal de)</th>\n",
              "      <td>1476</td>\n",
              "      <td>27</td>\n",
              "    </tr>\n",
              "    <tr>\n",
              "      <th>Ecuador (República de)</th>\n",
              "      <td>251292</td>\n",
              "      <td>31975</td>\n",
              "    </tr>\n",
              "    <tr>\n",
              "      <th>España (Reino de)</th>\n",
              "      <td>29061929</td>\n",
              "      <td>2282603</td>\n",
              "    </tr>\n",
              "    <tr>\n",
              "      <th>Guatemala (República de)</th>\n",
              "      <td>127379</td>\n",
              "      <td>20070</td>\n",
              "    </tr>\n",
              "    <tr>\n",
              "      <th>Hong Kong (Teritorio de )</th>\n",
              "      <td>38546</td>\n",
              "      <td>7018</td>\n",
              "    </tr>\n",
              "    <tr>\n",
              "      <th>Indonesia (República de)</th>\n",
              "      <td>7026</td>\n",
              "      <td>518</td>\n",
              "    </tr>\n",
              "    <tr>\n",
              "      <th>India (República de la)</th>\n",
              "      <td>38603728</td>\n",
              "      <td>6853236</td>\n",
              "    </tr>\n",
              "    <tr>\n",
              "      <th>Irán (República Islamica del)</th>\n",
              "      <td>123066</td>\n",
              "      <td>32555</td>\n",
              "    </tr>\n",
              "    <tr>\n",
              "      <th>Italia</th>\n",
              "      <td>7939853</td>\n",
              "      <td>372378</td>\n",
              "    </tr>\n",
              "    <tr>\n",
              "      <th>Malasia (Federación de)</th>\n",
              "      <td>207455</td>\n",
              "      <td>72504</td>\n",
              "    </tr>\n",
              "    <tr>\n",
              "      <th>Perú (República del)</th>\n",
              "      <td>332215</td>\n",
              "      <td>115234</td>\n",
              "    </tr>\n",
              "    <tr>\n",
              "      <th>Portugal</th>\n",
              "      <td>157149</td>\n",
              "      <td>10788</td>\n",
              "    </tr>\n",
              "    <tr>\n",
              "      <th>Turquia (República de)</th>\n",
              "      <td>3947</td>\n",
              "      <td>267</td>\n",
              "    </tr>\n",
              "    <tr>\n",
              "      <th>Ucrania</th>\n",
              "      <td>102</td>\n",
              "      <td>4</td>\n",
              "    </tr>\n",
              "    <tr>\n",
              "      <th>Estados Unidos de América</th>\n",
              "      <td>970197</td>\n",
              "      <td>317627</td>\n",
              "    </tr>\n",
              "  </tbody>\n",
              "</table>\n",
              "</div>"
            ],
            "text/plain": [
              "                                   Valor\\n 2018  Volumen\\n 2018\n",
              "País                                                           \n",
              "Emiratos Arabes Unidos                     7550             165\n",
              "Brasil (República Federativa del)       1482836          248379\n",
              "Colombia (República de)                   53492            4482\n",
              "China (República Popular de)           14145738         1366035\n",
              "Alemania (República Federal de)            1476              27\n",
              "Ecuador (República de)                   251292           31975\n",
              "España (Reino de)                      29061929         2282603\n",
              "Guatemala (República de)                 127379           20070\n",
              "Hong Kong (Teritorio de )                 38546            7018\n",
              "Indonesia (República de)                   7026             518\n",
              "India (República de la)                38603728         6853236\n",
              "Irán (República Islamica del)            123066           32555\n",
              "Italia                                  7939853          372378\n",
              "Malasia (Federación de)                  207455           72504\n",
              "Perú (República del)                     332215          115234\n",
              "Portugal                                 157149           10788\n",
              "Turquia (República de)                     3947             267\n",
              "Ucrania                                     102               4\n",
              "Estados Unidos de América                970197          317627"
            ]
          },
          "metadata": {
            "tags": []
          },
          "execution_count": 13
        }
      ]
    },
    {
      "cell_type": "code",
      "metadata": {
        "colab": {
          "base_uri": "https://localhost:8080/"
        },
        "id": "nHEbwbAv9aDE",
        "outputId": "2d220419-a071-4efe-87e8-4bc2e01cbd07"
      },
      "source": [
        "df.columns"
      ],
      "execution_count": null,
      "outputs": [
        {
          "output_type": "execute_result",
          "data": {
            "text/plain": [
              "Index(['Valor\\n 2018', 'Volumen\\n 2018'], dtype='object')"
            ]
          },
          "metadata": {
            "tags": []
          },
          "execution_count": 8
        }
      ]
    },
    {
      "cell_type": "code",
      "metadata": {
        "colab": {
          "base_uri": "https://localhost:8080/",
          "height": 669
        },
        "id": "BpdTs6x89XRg",
        "outputId": "ff1e2681-bdf5-47a4-c3a8-1bbc850cdd2f"
      },
      "source": [
        "df.rename(columns={'Valor\\n 2018':'Valor_2018','Volumen\\n 2018':'Volumen_2018'}, inplace=True)\n",
        "df"
      ],
      "execution_count": null,
      "outputs": [
        {
          "output_type": "execute_result",
          "data": {
            "text/html": [
              "<div>\n",
              "<style scoped>\n",
              "    .dataframe tbody tr th:only-of-type {\n",
              "        vertical-align: middle;\n",
              "    }\n",
              "\n",
              "    .dataframe tbody tr th {\n",
              "        vertical-align: top;\n",
              "    }\n",
              "\n",
              "    .dataframe thead th {\n",
              "        text-align: right;\n",
              "    }\n",
              "</style>\n",
              "<table border=\"1\" class=\"dataframe\">\n",
              "  <thead>\n",
              "    <tr style=\"text-align: right;\">\n",
              "      <th></th>\n",
              "      <th>Valor_2018</th>\n",
              "      <th>Volumen_2018</th>\n",
              "    </tr>\n",
              "    <tr>\n",
              "      <th>País</th>\n",
              "      <th></th>\n",
              "      <th></th>\n",
              "    </tr>\n",
              "  </thead>\n",
              "  <tbody>\n",
              "    <tr>\n",
              "      <th>Emiratos Arabes Unidos</th>\n",
              "      <td>7550</td>\n",
              "      <td>165</td>\n",
              "    </tr>\n",
              "    <tr>\n",
              "      <th>Brasil (República Federativa del)</th>\n",
              "      <td>1482836</td>\n",
              "      <td>248379</td>\n",
              "    </tr>\n",
              "    <tr>\n",
              "      <th>Colombia (República de)</th>\n",
              "      <td>53492</td>\n",
              "      <td>4482</td>\n",
              "    </tr>\n",
              "    <tr>\n",
              "      <th>China (República Popular de)</th>\n",
              "      <td>14145738</td>\n",
              "      <td>1366035</td>\n",
              "    </tr>\n",
              "    <tr>\n",
              "      <th>Alemania (República Federal de)</th>\n",
              "      <td>1476</td>\n",
              "      <td>27</td>\n",
              "    </tr>\n",
              "    <tr>\n",
              "      <th>Ecuador (República de)</th>\n",
              "      <td>251292</td>\n",
              "      <td>31975</td>\n",
              "    </tr>\n",
              "    <tr>\n",
              "      <th>España (Reino de)</th>\n",
              "      <td>29061929</td>\n",
              "      <td>2282603</td>\n",
              "    </tr>\n",
              "    <tr>\n",
              "      <th>Guatemala (República de)</th>\n",
              "      <td>127379</td>\n",
              "      <td>20070</td>\n",
              "    </tr>\n",
              "    <tr>\n",
              "      <th>Hong Kong (Teritorio de )</th>\n",
              "      <td>38546</td>\n",
              "      <td>7018</td>\n",
              "    </tr>\n",
              "    <tr>\n",
              "      <th>Indonesia (República de)</th>\n",
              "      <td>7026</td>\n",
              "      <td>518</td>\n",
              "    </tr>\n",
              "    <tr>\n",
              "      <th>India (República de la)</th>\n",
              "      <td>38603728</td>\n",
              "      <td>6853236</td>\n",
              "    </tr>\n",
              "    <tr>\n",
              "      <th>Irán (República Islamica del)</th>\n",
              "      <td>123066</td>\n",
              "      <td>32555</td>\n",
              "    </tr>\n",
              "    <tr>\n",
              "      <th>Italia</th>\n",
              "      <td>7939853</td>\n",
              "      <td>372378</td>\n",
              "    </tr>\n",
              "    <tr>\n",
              "      <th>Malasia (Federación de)</th>\n",
              "      <td>207455</td>\n",
              "      <td>72504</td>\n",
              "    </tr>\n",
              "    <tr>\n",
              "      <th>Perú (República del)</th>\n",
              "      <td>332215</td>\n",
              "      <td>115234</td>\n",
              "    </tr>\n",
              "    <tr>\n",
              "      <th>Portugal</th>\n",
              "      <td>157149</td>\n",
              "      <td>10788</td>\n",
              "    </tr>\n",
              "    <tr>\n",
              "      <th>Turquia (República de)</th>\n",
              "      <td>3947</td>\n",
              "      <td>267</td>\n",
              "    </tr>\n",
              "    <tr>\n",
              "      <th>Ucrania</th>\n",
              "      <td>102</td>\n",
              "      <td>4</td>\n",
              "    </tr>\n",
              "    <tr>\n",
              "      <th>Estados Unidos de América</th>\n",
              "      <td>970197</td>\n",
              "      <td>317627</td>\n",
              "    </tr>\n",
              "  </tbody>\n",
              "</table>\n",
              "</div>"
            ],
            "text/plain": [
              "                                   Valor_2018  Volumen_2018\n",
              "País                                                       \n",
              "Emiratos Arabes Unidos                   7550           165\n",
              "Brasil (República Federativa del)     1482836        248379\n",
              "Colombia (República de)                 53492          4482\n",
              "China (República Popular de)         14145738       1366035\n",
              "Alemania (República Federal de)          1476            27\n",
              "Ecuador (República de)                 251292         31975\n",
              "España (Reino de)                    29061929       2282603\n",
              "Guatemala (República de)               127379         20070\n",
              "Hong Kong (Teritorio de )               38546          7018\n",
              "Indonesia (República de)                 7026           518\n",
              "India (República de la)              38603728       6853236\n",
              "Irán (República Islamica del)          123066         32555\n",
              "Italia                                7939853        372378\n",
              "Malasia (Federación de)                207455         72504\n",
              "Perú (República del)                   332215        115234\n",
              "Portugal                               157149         10788\n",
              "Turquia (República de)                   3947           267\n",
              "Ucrania                                   102             4\n",
              "Estados Unidos de América              970197        317627"
            ]
          },
          "metadata": {
            "tags": []
          },
          "execution_count": 14
        }
      ]
    },
    {
      "cell_type": "markdown",
      "metadata": {
        "id": "4m_KkZASo4pf"
      },
      "source": [
        "**b)\tCalcular los precios como: precio= valor / volumen y los precios promedio ponderados como: suma de todos los valores/suma de todos los volúmenes**"
      ]
    },
    {
      "cell_type": "code",
      "metadata": {
        "colab": {
          "base_uri": "https://localhost:8080/"
        },
        "id": "wnPqu2zgpHkV",
        "outputId": "084a4cde-c3ca-4bcd-cd45-46ca338abba7"
      },
      "source": [
        "precio = df['Valor_2018']/df['Volumen_2018']\n",
        "prom_pond = df['Valor_2018'].sum() / df['Volumen_2018'].sum()\n",
        "precio"
      ],
      "execution_count": null,
      "outputs": [
        {
          "output_type": "execute_result",
          "data": {
            "text/plain": [
              "País\n",
              "Emiratos Arabes Unidos               45.757576\n",
              "Brasil (República Federativa del)     5.970054\n",
              "Colombia (República de)              11.934851\n",
              "China (República Popular de)         10.355326\n",
              "Alemania (República Federal de)      54.666667\n",
              "Ecuador (República de)                7.859015\n",
              "España (Reino de)                    12.731924\n",
              "Guatemala (República de)              6.346736\n",
              "Hong Kong (Teritorio de )             5.492448\n",
              "Indonesia (República de)             13.563707\n",
              "India (República de la)               5.632920\n",
              "Irán (República Islamica del)         3.780249\n",
              "Italia                               21.322025\n",
              "Malasia (Federación de)               2.861290\n",
              "Perú (República del)                  2.882960\n",
              "Portugal                             14.567019\n",
              "Turquia (República de)               14.782772\n",
              "Ucrania                              25.500000\n",
              "Estados Unidos de América             3.054517\n",
              "dtype: float64"
            ]
          },
          "metadata": {
            "tags": []
          },
          "execution_count": 15
        }
      ]
    },
    {
      "cell_type": "code",
      "metadata": {
        "colab": {
          "base_uri": "https://localhost:8080/"
        },
        "id": "0qawkX2JqIqU",
        "outputId": "33cfc930-fd39-4a88-ad1d-ae08a304dcbc"
      },
      "source": [
        "print('Precio Promedio Ponderado =', prom_pond)"
      ],
      "execution_count": null,
      "outputs": [
        {
          "output_type": "stream",
          "text": [
            "Precio Promedio Ponderado = 7.968307065563552\n"
          ],
          "name": "stdout"
        }
      ]
    },
    {
      "cell_type": "markdown",
      "metadata": {
        "id": "Ol56eZ0sq4Qo"
      },
      "source": [
        "**c)\tPara el caso de la fracción arancelaria 69089002 revisar si existen datos atípicos, en ocasiones al capturar los pedimentos de importación ocurren errores de captura, en particular, observar que sucede con los precios de Japón y de Marruecos y suponer que hubo un error al capturar, por lo que no los consideres**"
      ]
    },
    {
      "cell_type": "code",
      "metadata": {
        "id": "nOAFpWorrICK"
      },
      "source": [
        "#???"
      ],
      "execution_count": null,
      "outputs": []
    },
    {
      "cell_type": "markdown",
      "metadata": {
        "id": "7OsjaC7UrLBB"
      },
      "source": [
        "**d)\tDeterminar la naturaleza de los datos: cuantitativos (discretos o continuos) o cualitativos, y el tipo de la escala de medición**"
      ]
    },
    {
      "cell_type": "code",
      "metadata": {
        "colab": {
          "base_uri": "https://localhost:8080/"
        },
        "id": "IhbIU9U-rdUF",
        "outputId": "2f4e017a-3a28-4152-bf76-848533eafbb2"
      },
      "source": [
        "df.dtypes"
      ],
      "execution_count": null,
      "outputs": [
        {
          "output_type": "execute_result",
          "data": {
            "text/plain": [
              "Valor_2018      int64\n",
              "Volumen_2018    int64\n",
              "dtype: object"
            ]
          },
          "metadata": {
            "tags": []
          },
          "execution_count": 13
        }
      ]
    },
    {
      "cell_type": "markdown",
      "metadata": {
        "id": "qSFktaiHrzr9"
      },
      "source": [
        ""
      ]
    },
    {
      "cell_type": "markdown",
      "metadata": {
        "id": "WLHCkF--sERU"
      },
      "source": [
        "**e)\tConstruir un diagrama de pie para la participación del volumen de importación de las placas y baldosas de cerámica por país, para cada una de las fracciones**"
      ]
    },
    {
      "cell_type": "code",
      "metadata": {
        "id": "RLuqaWrtDSIL"
      },
      "source": [
        "df['Pais'] = df.index"
      ],
      "execution_count": null,
      "outputs": []
    },
    {
      "cell_type": "code",
      "metadata": {
        "colab": {
          "base_uri": "https://localhost:8080/",
          "height": 542
        },
        "id": "oA27Z1a9sJyG",
        "outputId": "61314526-1fba-4a58-a4d9-9e4b04e24fbc"
      },
      "source": [
        "fig = px.pie(df, values='Volumen_2018', names='Pais', title='Participación por Volumen')\n",
        "fig.show()"
      ],
      "execution_count": null,
      "outputs": [
        {
          "output_type": "display_data",
          "data": {
            "text/html": [
              "<html>\n",
              "<head><meta charset=\"utf-8\" /></head>\n",
              "<body>\n",
              "    <div>\n",
              "            <script src=\"https://cdnjs.cloudflare.com/ajax/libs/mathjax/2.7.5/MathJax.js?config=TeX-AMS-MML_SVG\"></script><script type=\"text/javascript\">if (window.MathJax) {MathJax.Hub.Config({SVG: {font: \"STIX-Web\"}});}</script>\n",
              "                <script type=\"text/javascript\">window.PlotlyConfig = {MathJaxConfig: 'local'};</script>\n",
              "        <script src=\"https://cdn.plot.ly/plotly-latest.min.js\"></script>    \n",
              "            <div id=\"b1082a06-3bf3-4f9c-b1f0-474cfa11fdc3\" class=\"plotly-graph-div\" style=\"height:525px; width:100%;\"></div>\n",
              "            <script type=\"text/javascript\">\n",
              "                \n",
              "                    window.PLOTLYENV=window.PLOTLYENV || {};\n",
              "                    \n",
              "                if (document.getElementById(\"b1082a06-3bf3-4f9c-b1f0-474cfa11fdc3\")) {\n",
              "                    Plotly.newPlot(\n",
              "                        'b1082a06-3bf3-4f9c-b1f0-474cfa11fdc3',\n",
              "                        [{\"domain\": {\"x\": [0.0, 1.0], \"y\": [0.0, 1.0]}, \"hoverlabel\": {\"namelength\": 0}, \"hovertemplate\": \"Pais=%{label}<br>Volumen_2018=%{value}\", \"labels\": [\"Emiratos Arabes Unidos\", \"Brasil (Rep\\u00fablica Federativa del)\", \"Colombia (Rep\\u00fablica de)\", \"China (Rep\\u00fablica Popular de)\", \"Alemania (Rep\\u00fablica Federal de)\", \"Ecuador (Rep\\u00fablica de)\", \"Espa\\u00f1a (Reino de)\", \"Guatemala (Rep\\u00fablica de)\", \"Hong Kong (Teritorio de )\", \"Indonesia (Rep\\u00fablica de)\", \"India (Rep\\u00fablica de la)\", \"Ir\\u00e1n (Rep\\u00fablica Islamica del)\", \"Italia\", \"Malasia (Federaci\\u00f3n de)\", \"Per\\u00fa (Rep\\u00fablica del)\", \"Portugal\", \"Turquia (Rep\\u00fablica de)\", \"Ucrania\", \"Estados Unidos de Am\\u00e9rica\"], \"legendgroup\": \"\", \"name\": \"\", \"showlegend\": true, \"type\": \"pie\", \"values\": [165, 248379, 4482, 1366035, 27, 31975, 2282603, 20070, 7018, 518, 6853236, 32555, 372378, 72504, 115234, 10788, 267, 4, 317627]}],\n",
              "                        {\"legend\": {\"tracegroupgap\": 0}, \"template\": {\"data\": {\"bar\": [{\"error_x\": {\"color\": \"#2a3f5f\"}, \"error_y\": {\"color\": \"#2a3f5f\"}, \"marker\": {\"line\": {\"color\": \"#E5ECF6\", \"width\": 0.5}}, \"type\": \"bar\"}], \"barpolar\": [{\"marker\": {\"line\": {\"color\": \"#E5ECF6\", \"width\": 0.5}}, \"type\": \"barpolar\"}], \"carpet\": [{\"aaxis\": {\"endlinecolor\": \"#2a3f5f\", \"gridcolor\": \"white\", \"linecolor\": \"white\", \"minorgridcolor\": \"white\", \"startlinecolor\": \"#2a3f5f\"}, \"baxis\": {\"endlinecolor\": \"#2a3f5f\", \"gridcolor\": \"white\", \"linecolor\": \"white\", \"minorgridcolor\": \"white\", \"startlinecolor\": \"#2a3f5f\"}, \"type\": \"carpet\"}], \"choropleth\": [{\"colorbar\": {\"outlinewidth\": 0, \"ticks\": \"\"}, \"type\": \"choropleth\"}], \"contour\": [{\"colorbar\": {\"outlinewidth\": 0, \"ticks\": \"\"}, \"colorscale\": [[0.0, \"#0d0887\"], [0.1111111111111111, \"#46039f\"], [0.2222222222222222, \"#7201a8\"], [0.3333333333333333, \"#9c179e\"], [0.4444444444444444, \"#bd3786\"], [0.5555555555555556, \"#d8576b\"], [0.6666666666666666, \"#ed7953\"], [0.7777777777777778, \"#fb9f3a\"], [0.8888888888888888, \"#fdca26\"], [1.0, \"#f0f921\"]], \"type\": \"contour\"}], \"contourcarpet\": [{\"colorbar\": {\"outlinewidth\": 0, \"ticks\": \"\"}, \"type\": \"contourcarpet\"}], \"heatmap\": [{\"colorbar\": {\"outlinewidth\": 0, \"ticks\": \"\"}, \"colorscale\": [[0.0, \"#0d0887\"], [0.1111111111111111, \"#46039f\"], [0.2222222222222222, \"#7201a8\"], [0.3333333333333333, \"#9c179e\"], [0.4444444444444444, \"#bd3786\"], [0.5555555555555556, \"#d8576b\"], [0.6666666666666666, \"#ed7953\"], [0.7777777777777778, \"#fb9f3a\"], [0.8888888888888888, \"#fdca26\"], [1.0, \"#f0f921\"]], \"type\": \"heatmap\"}], \"heatmapgl\": [{\"colorbar\": {\"outlinewidth\": 0, \"ticks\": \"\"}, \"colorscale\": [[0.0, \"#0d0887\"], [0.1111111111111111, \"#46039f\"], [0.2222222222222222, \"#7201a8\"], [0.3333333333333333, \"#9c179e\"], [0.4444444444444444, \"#bd3786\"], [0.5555555555555556, \"#d8576b\"], [0.6666666666666666, \"#ed7953\"], [0.7777777777777778, \"#fb9f3a\"], [0.8888888888888888, \"#fdca26\"], [1.0, \"#f0f921\"]], \"type\": \"heatmapgl\"}], \"histogram\": [{\"marker\": {\"colorbar\": {\"outlinewidth\": 0, \"ticks\": \"\"}}, \"type\": \"histogram\"}], \"histogram2d\": [{\"colorbar\": {\"outlinewidth\": 0, \"ticks\": \"\"}, \"colorscale\": [[0.0, \"#0d0887\"], [0.1111111111111111, \"#46039f\"], [0.2222222222222222, \"#7201a8\"], [0.3333333333333333, \"#9c179e\"], [0.4444444444444444, \"#bd3786\"], [0.5555555555555556, \"#d8576b\"], [0.6666666666666666, \"#ed7953\"], [0.7777777777777778, \"#fb9f3a\"], [0.8888888888888888, \"#fdca26\"], [1.0, \"#f0f921\"]], \"type\": \"histogram2d\"}], \"histogram2dcontour\": [{\"colorbar\": {\"outlinewidth\": 0, \"ticks\": \"\"}, \"colorscale\": [[0.0, \"#0d0887\"], [0.1111111111111111, \"#46039f\"], [0.2222222222222222, \"#7201a8\"], [0.3333333333333333, \"#9c179e\"], [0.4444444444444444, \"#bd3786\"], [0.5555555555555556, \"#d8576b\"], [0.6666666666666666, \"#ed7953\"], [0.7777777777777778, \"#fb9f3a\"], [0.8888888888888888, \"#fdca26\"], [1.0, \"#f0f921\"]], \"type\": \"histogram2dcontour\"}], \"mesh3d\": [{\"colorbar\": {\"outlinewidth\": 0, \"ticks\": \"\"}, \"type\": \"mesh3d\"}], \"parcoords\": [{\"line\": {\"colorbar\": {\"outlinewidth\": 0, \"ticks\": \"\"}}, \"type\": \"parcoords\"}], \"pie\": [{\"automargin\": true, \"type\": \"pie\"}], \"scatter\": [{\"marker\": {\"colorbar\": {\"outlinewidth\": 0, \"ticks\": \"\"}}, \"type\": \"scatter\"}], \"scatter3d\": [{\"line\": {\"colorbar\": {\"outlinewidth\": 0, \"ticks\": \"\"}}, \"marker\": {\"colorbar\": {\"outlinewidth\": 0, \"ticks\": \"\"}}, \"type\": \"scatter3d\"}], \"scattercarpet\": [{\"marker\": {\"colorbar\": {\"outlinewidth\": 0, \"ticks\": \"\"}}, \"type\": \"scattercarpet\"}], \"scattergeo\": [{\"marker\": {\"colorbar\": {\"outlinewidth\": 0, \"ticks\": \"\"}}, \"type\": \"scattergeo\"}], \"scattergl\": [{\"marker\": {\"colorbar\": {\"outlinewidth\": 0, \"ticks\": \"\"}}, \"type\": \"scattergl\"}], \"scattermapbox\": [{\"marker\": {\"colorbar\": {\"outlinewidth\": 0, \"ticks\": \"\"}}, \"type\": \"scattermapbox\"}], \"scatterpolar\": [{\"marker\": {\"colorbar\": {\"outlinewidth\": 0, \"ticks\": \"\"}}, \"type\": \"scatterpolar\"}], \"scatterpolargl\": [{\"marker\": {\"colorbar\": {\"outlinewidth\": 0, \"ticks\": \"\"}}, \"type\": \"scatterpolargl\"}], \"scatterternary\": [{\"marker\": {\"colorbar\": {\"outlinewidth\": 0, \"ticks\": \"\"}}, \"type\": \"scatterternary\"}], \"surface\": [{\"colorbar\": {\"outlinewidth\": 0, \"ticks\": \"\"}, \"colorscale\": [[0.0, \"#0d0887\"], [0.1111111111111111, \"#46039f\"], [0.2222222222222222, \"#7201a8\"], [0.3333333333333333, \"#9c179e\"], [0.4444444444444444, \"#bd3786\"], [0.5555555555555556, \"#d8576b\"], [0.6666666666666666, \"#ed7953\"], [0.7777777777777778, \"#fb9f3a\"], [0.8888888888888888, \"#fdca26\"], [1.0, \"#f0f921\"]], \"type\": \"surface\"}], \"table\": [{\"cells\": {\"fill\": {\"color\": \"#EBF0F8\"}, \"line\": {\"color\": \"white\"}}, \"header\": {\"fill\": {\"color\": \"#C8D4E3\"}, \"line\": {\"color\": \"white\"}}, \"type\": \"table\"}]}, \"layout\": {\"annotationdefaults\": {\"arrowcolor\": \"#2a3f5f\", \"arrowhead\": 0, \"arrowwidth\": 1}, \"coloraxis\": {\"colorbar\": {\"outlinewidth\": 0, \"ticks\": \"\"}}, \"colorscale\": {\"diverging\": [[0, \"#8e0152\"], [0.1, \"#c51b7d\"], [0.2, \"#de77ae\"], [0.3, \"#f1b6da\"], [0.4, \"#fde0ef\"], [0.5, \"#f7f7f7\"], [0.6, \"#e6f5d0\"], [0.7, \"#b8e186\"], [0.8, \"#7fbc41\"], [0.9, \"#4d9221\"], [1, \"#276419\"]], \"sequential\": [[0.0, \"#0d0887\"], [0.1111111111111111, \"#46039f\"], [0.2222222222222222, \"#7201a8\"], [0.3333333333333333, \"#9c179e\"], [0.4444444444444444, \"#bd3786\"], [0.5555555555555556, \"#d8576b\"], [0.6666666666666666, \"#ed7953\"], [0.7777777777777778, \"#fb9f3a\"], [0.8888888888888888, \"#fdca26\"], [1.0, \"#f0f921\"]], \"sequentialminus\": [[0.0, \"#0d0887\"], [0.1111111111111111, \"#46039f\"], [0.2222222222222222, \"#7201a8\"], [0.3333333333333333, \"#9c179e\"], [0.4444444444444444, \"#bd3786\"], [0.5555555555555556, \"#d8576b\"], [0.6666666666666666, \"#ed7953\"], [0.7777777777777778, \"#fb9f3a\"], [0.8888888888888888, \"#fdca26\"], [1.0, \"#f0f921\"]]}, \"colorway\": [\"#636efa\", \"#EF553B\", \"#00cc96\", \"#ab63fa\", \"#FFA15A\", \"#19d3f3\", \"#FF6692\", \"#B6E880\", \"#FF97FF\", \"#FECB52\"], \"font\": {\"color\": \"#2a3f5f\"}, \"geo\": {\"bgcolor\": \"white\", \"lakecolor\": \"white\", \"landcolor\": \"#E5ECF6\", \"showlakes\": true, \"showland\": true, \"subunitcolor\": \"white\"}, \"hoverlabel\": {\"align\": \"left\"}, \"hovermode\": \"closest\", \"mapbox\": {\"style\": \"light\"}, \"paper_bgcolor\": \"white\", \"plot_bgcolor\": \"#E5ECF6\", \"polar\": {\"angularaxis\": {\"gridcolor\": \"white\", \"linecolor\": \"white\", \"ticks\": \"\"}, \"bgcolor\": \"#E5ECF6\", \"radialaxis\": {\"gridcolor\": \"white\", \"linecolor\": \"white\", \"ticks\": \"\"}}, \"scene\": {\"xaxis\": {\"backgroundcolor\": \"#E5ECF6\", \"gridcolor\": \"white\", \"gridwidth\": 2, \"linecolor\": \"white\", \"showbackground\": true, \"ticks\": \"\", \"zerolinecolor\": \"white\"}, \"yaxis\": {\"backgroundcolor\": \"#E5ECF6\", \"gridcolor\": \"white\", \"gridwidth\": 2, \"linecolor\": \"white\", \"showbackground\": true, \"ticks\": \"\", \"zerolinecolor\": \"white\"}, \"zaxis\": {\"backgroundcolor\": \"#E5ECF6\", \"gridcolor\": \"white\", \"gridwidth\": 2, \"linecolor\": \"white\", \"showbackground\": true, \"ticks\": \"\", \"zerolinecolor\": \"white\"}}, \"shapedefaults\": {\"line\": {\"color\": \"#2a3f5f\"}}, \"ternary\": {\"aaxis\": {\"gridcolor\": \"white\", \"linecolor\": \"white\", \"ticks\": \"\"}, \"baxis\": {\"gridcolor\": \"white\", \"linecolor\": \"white\", \"ticks\": \"\"}, \"bgcolor\": \"#E5ECF6\", \"caxis\": {\"gridcolor\": \"white\", \"linecolor\": \"white\", \"ticks\": \"\"}}, \"title\": {\"x\": 0.05}, \"xaxis\": {\"automargin\": true, \"gridcolor\": \"white\", \"linecolor\": \"white\", \"ticks\": \"\", \"title\": {\"standoff\": 15}, \"zerolinecolor\": \"white\", \"zerolinewidth\": 2}, \"yaxis\": {\"automargin\": true, \"gridcolor\": \"white\", \"linecolor\": \"white\", \"ticks\": \"\", \"title\": {\"standoff\": 15}, \"zerolinecolor\": \"white\", \"zerolinewidth\": 2}}}, \"title\": {\"text\": \"Participaci\\u00f3n por Volumen\"}},\n",
              "                        {\"responsive\": true}\n",
              "                    ).then(function(){\n",
              "                            \n",
              "var gd = document.getElementById('b1082a06-3bf3-4f9c-b1f0-474cfa11fdc3');\n",
              "var x = new MutationObserver(function (mutations, observer) {{\n",
              "        var display = window.getComputedStyle(gd).display;\n",
              "        if (!display || display === 'none') {{\n",
              "            console.log([gd, 'removed!']);\n",
              "            Plotly.purge(gd);\n",
              "            observer.disconnect();\n",
              "        }}\n",
              "}});\n",
              "\n",
              "// Listen for the removal of the full notebook cells\n",
              "var notebookContainer = gd.closest('#notebook-container');\n",
              "if (notebookContainer) {{\n",
              "    x.observe(notebookContainer, {childList: true});\n",
              "}}\n",
              "\n",
              "// Listen for the clearing of the current output cell\n",
              "var outputEl = gd.closest('.output');\n",
              "if (outputEl) {{\n",
              "    x.observe(outputEl, {childList: true});\n",
              "}}\n",
              "\n",
              "                        })\n",
              "                };\n",
              "                \n",
              "            </script>\n",
              "        </div>\n",
              "</body>\n",
              "</html>"
            ]
          },
          "metadata": {
            "tags": []
          }
        }
      ]
    },
    {
      "cell_type": "markdown",
      "metadata": {
        "id": "FaaiFEeFtBNq"
      },
      "source": [
        "**f)\tResponde a las siguientes preguntas:\n",
        "•\t¿Qué país tiene el menor precio?\n",
        "•\t¿De qué país se importa el mayor volumen?\n",
        "•\t¿Consideras que pueda existir alguna relación entre el volumen importado y el precio, justifica tu respuesta?,\n",
        "**"
      ]
    },
    {
      "cell_type": "code",
      "metadata": {
        "colab": {
          "base_uri": "https://localhost:8080/",
          "height": 669
        },
        "id": "m1SRZRGJtPg9",
        "outputId": "498f5320-e9f2-46bb-c6b7-059db2eeaebd"
      },
      "source": [
        "df['Precio'] = precio\n",
        "df"
      ],
      "execution_count": null,
      "outputs": [
        {
          "output_type": "execute_result",
          "data": {
            "text/html": [
              "<div>\n",
              "<style scoped>\n",
              "    .dataframe tbody tr th:only-of-type {\n",
              "        vertical-align: middle;\n",
              "    }\n",
              "\n",
              "    .dataframe tbody tr th {\n",
              "        vertical-align: top;\n",
              "    }\n",
              "\n",
              "    .dataframe thead th {\n",
              "        text-align: right;\n",
              "    }\n",
              "</style>\n",
              "<table border=\"1\" class=\"dataframe\">\n",
              "  <thead>\n",
              "    <tr style=\"text-align: right;\">\n",
              "      <th></th>\n",
              "      <th>Valor_2018</th>\n",
              "      <th>Volumen_2018</th>\n",
              "      <th>Pais</th>\n",
              "      <th>Precio</th>\n",
              "    </tr>\n",
              "    <tr>\n",
              "      <th>País</th>\n",
              "      <th></th>\n",
              "      <th></th>\n",
              "      <th></th>\n",
              "      <th></th>\n",
              "    </tr>\n",
              "  </thead>\n",
              "  <tbody>\n",
              "    <tr>\n",
              "      <th>Emiratos Arabes Unidos</th>\n",
              "      <td>7550</td>\n",
              "      <td>165</td>\n",
              "      <td>Emiratos Arabes Unidos</td>\n",
              "      <td>45.757576</td>\n",
              "    </tr>\n",
              "    <tr>\n",
              "      <th>Brasil (República Federativa del)</th>\n",
              "      <td>1482836</td>\n",
              "      <td>248379</td>\n",
              "      <td>Brasil (República Federativa del)</td>\n",
              "      <td>5.970054</td>\n",
              "    </tr>\n",
              "    <tr>\n",
              "      <th>Colombia (República de)</th>\n",
              "      <td>53492</td>\n",
              "      <td>4482</td>\n",
              "      <td>Colombia (República de)</td>\n",
              "      <td>11.934851</td>\n",
              "    </tr>\n",
              "    <tr>\n",
              "      <th>China (República Popular de)</th>\n",
              "      <td>14145738</td>\n",
              "      <td>1366035</td>\n",
              "      <td>China (República Popular de)</td>\n",
              "      <td>10.355326</td>\n",
              "    </tr>\n",
              "    <tr>\n",
              "      <th>Alemania (República Federal de)</th>\n",
              "      <td>1476</td>\n",
              "      <td>27</td>\n",
              "      <td>Alemania (República Federal de)</td>\n",
              "      <td>54.666667</td>\n",
              "    </tr>\n",
              "    <tr>\n",
              "      <th>Ecuador (República de)</th>\n",
              "      <td>251292</td>\n",
              "      <td>31975</td>\n",
              "      <td>Ecuador (República de)</td>\n",
              "      <td>7.859015</td>\n",
              "    </tr>\n",
              "    <tr>\n",
              "      <th>España (Reino de)</th>\n",
              "      <td>29061929</td>\n",
              "      <td>2282603</td>\n",
              "      <td>España (Reino de)</td>\n",
              "      <td>12.731924</td>\n",
              "    </tr>\n",
              "    <tr>\n",
              "      <th>Guatemala (República de)</th>\n",
              "      <td>127379</td>\n",
              "      <td>20070</td>\n",
              "      <td>Guatemala (República de)</td>\n",
              "      <td>6.346736</td>\n",
              "    </tr>\n",
              "    <tr>\n",
              "      <th>Hong Kong (Teritorio de )</th>\n",
              "      <td>38546</td>\n",
              "      <td>7018</td>\n",
              "      <td>Hong Kong (Teritorio de )</td>\n",
              "      <td>5.492448</td>\n",
              "    </tr>\n",
              "    <tr>\n",
              "      <th>Indonesia (República de)</th>\n",
              "      <td>7026</td>\n",
              "      <td>518</td>\n",
              "      <td>Indonesia (República de)</td>\n",
              "      <td>13.563707</td>\n",
              "    </tr>\n",
              "    <tr>\n",
              "      <th>India (República de la)</th>\n",
              "      <td>38603728</td>\n",
              "      <td>6853236</td>\n",
              "      <td>India (República de la)</td>\n",
              "      <td>5.632920</td>\n",
              "    </tr>\n",
              "    <tr>\n",
              "      <th>Irán (República Islamica del)</th>\n",
              "      <td>123066</td>\n",
              "      <td>32555</td>\n",
              "      <td>Irán (República Islamica del)</td>\n",
              "      <td>3.780249</td>\n",
              "    </tr>\n",
              "    <tr>\n",
              "      <th>Italia</th>\n",
              "      <td>7939853</td>\n",
              "      <td>372378</td>\n",
              "      <td>Italia</td>\n",
              "      <td>21.322025</td>\n",
              "    </tr>\n",
              "    <tr>\n",
              "      <th>Malasia (Federación de)</th>\n",
              "      <td>207455</td>\n",
              "      <td>72504</td>\n",
              "      <td>Malasia (Federación de)</td>\n",
              "      <td>2.861290</td>\n",
              "    </tr>\n",
              "    <tr>\n",
              "      <th>Perú (República del)</th>\n",
              "      <td>332215</td>\n",
              "      <td>115234</td>\n",
              "      <td>Perú (República del)</td>\n",
              "      <td>2.882960</td>\n",
              "    </tr>\n",
              "    <tr>\n",
              "      <th>Portugal</th>\n",
              "      <td>157149</td>\n",
              "      <td>10788</td>\n",
              "      <td>Portugal</td>\n",
              "      <td>14.567019</td>\n",
              "    </tr>\n",
              "    <tr>\n",
              "      <th>Turquia (República de)</th>\n",
              "      <td>3947</td>\n",
              "      <td>267</td>\n",
              "      <td>Turquia (República de)</td>\n",
              "      <td>14.782772</td>\n",
              "    </tr>\n",
              "    <tr>\n",
              "      <th>Ucrania</th>\n",
              "      <td>102</td>\n",
              "      <td>4</td>\n",
              "      <td>Ucrania</td>\n",
              "      <td>25.500000</td>\n",
              "    </tr>\n",
              "    <tr>\n",
              "      <th>Estados Unidos de América</th>\n",
              "      <td>970197</td>\n",
              "      <td>317627</td>\n",
              "      <td>Estados Unidos de América</td>\n",
              "      <td>3.054517</td>\n",
              "    </tr>\n",
              "  </tbody>\n",
              "</table>\n",
              "</div>"
            ],
            "text/plain": [
              "                                   Valor_2018  ...     Precio\n",
              "País                                           ...           \n",
              "Emiratos Arabes Unidos                   7550  ...  45.757576\n",
              "Brasil (República Federativa del)     1482836  ...   5.970054\n",
              "Colombia (República de)                 53492  ...  11.934851\n",
              "China (República Popular de)         14145738  ...  10.355326\n",
              "Alemania (República Federal de)          1476  ...  54.666667\n",
              "Ecuador (República de)                 251292  ...   7.859015\n",
              "España (Reino de)                    29061929  ...  12.731924\n",
              "Guatemala (República de)               127379  ...   6.346736\n",
              "Hong Kong (Teritorio de )               38546  ...   5.492448\n",
              "Indonesia (República de)                 7026  ...  13.563707\n",
              "India (República de la)              38603728  ...   5.632920\n",
              "Irán (República Islamica del)          123066  ...   3.780249\n",
              "Italia                                7939853  ...  21.322025\n",
              "Malasia (Federación de)                207455  ...   2.861290\n",
              "Perú (República del)                   332215  ...   2.882960\n",
              "Portugal                               157149  ...  14.567019\n",
              "Turquia (República de)                   3947  ...  14.782772\n",
              "Ucrania                                   102  ...  25.500000\n",
              "Estados Unidos de América              970197  ...   3.054517\n",
              "\n",
              "[19 rows x 4 columns]"
            ]
          },
          "metadata": {
            "tags": []
          },
          "execution_count": 16
        }
      ]
    },
    {
      "cell_type": "code",
      "metadata": {
        "colab": {
          "base_uri": "https://localhost:8080/"
        },
        "id": "jkDNrLKntfIv",
        "outputId": "c98bd177-34a8-4d1e-9281-059f3ca9858a"
      },
      "source": [
        "precio_min = df['Precio'].min()\n",
        "print('Pais con precio minimo = Malasia', precio_min)"
      ],
      "execution_count": null,
      "outputs": [
        {
          "output_type": "stream",
          "text": [
            "Pais con precio minimo = Malasia 2.8612904115635\n"
          ],
          "name": "stdout"
        }
      ]
    },
    {
      "cell_type": "code",
      "metadata": {
        "colab": {
          "base_uri": "https://localhost:8080/"
        },
        "id": "MQBIH_wnt8Zf",
        "outputId": "a6917694-39ee-4e91-8f3d-3eed54995119"
      },
      "source": [
        "max_vol = df['Volumen_2018'].max()\n",
        "print('Pais con mayor volumen = India', max_vol)"
      ],
      "execution_count": null,
      "outputs": [
        {
          "output_type": "stream",
          "text": [
            "Pais con mayor volumen = India 6853236\n"
          ],
          "name": "stdout"
        }
      ]
    },
    {
      "cell_type": "code",
      "metadata": {
        "colab": {
          "base_uri": "https://localhost:8080/",
          "height": 128
        },
        "id": "XieTc2miuU31",
        "outputId": "cc5dac50-8735-45ee-c7ec-560472e6a6ef"
      },
      "source": [
        "corr = df[['Volumen_2018', 'Precio']]\n",
        "cor1 = corr.corr()\n",
        "print('Correlación de Pearson Fracción 6908.90.02')\n",
        "cor1"
      ],
      "execution_count": null,
      "outputs": [
        {
          "output_type": "stream",
          "text": [
            "Correlación de Pearson Fracción 6908.90.02\n"
          ],
          "name": "stdout"
        },
        {
          "output_type": "execute_result",
          "data": {
            "text/html": [
              "<div>\n",
              "<style scoped>\n",
              "    .dataframe tbody tr th:only-of-type {\n",
              "        vertical-align: middle;\n",
              "    }\n",
              "\n",
              "    .dataframe tbody tr th {\n",
              "        vertical-align: top;\n",
              "    }\n",
              "\n",
              "    .dataframe thead th {\n",
              "        text-align: right;\n",
              "    }\n",
              "</style>\n",
              "<table border=\"1\" class=\"dataframe\">\n",
              "  <thead>\n",
              "    <tr style=\"text-align: right;\">\n",
              "      <th></th>\n",
              "      <th>Volumen_2018</th>\n",
              "      <th>Precio</th>\n",
              "    </tr>\n",
              "  </thead>\n",
              "  <tbody>\n",
              "    <tr>\n",
              "      <th>Volumen_2018</th>\n",
              "      <td>1.000000</td>\n",
              "      <td>-0.175423</td>\n",
              "    </tr>\n",
              "    <tr>\n",
              "      <th>Precio</th>\n",
              "      <td>-0.175423</td>\n",
              "      <td>1.000000</td>\n",
              "    </tr>\n",
              "  </tbody>\n",
              "</table>\n",
              "</div>"
            ],
            "text/plain": [
              "              Volumen_2018    Precio\n",
              "Volumen_2018      1.000000 -0.175423\n",
              "Precio           -0.175423  1.000000"
            ]
          },
          "metadata": {
            "tags": []
          },
          "execution_count": 19
        }
      ]
    },
    {
      "cell_type": "code",
      "metadata": {
        "colab": {
          "base_uri": "https://localhost:8080/",
          "height": 542
        },
        "id": "dvXpIYjZvJ05",
        "outputId": "15c2d34d-fbce-4e28-c0e5-443b3fd48de3"
      },
      "source": [
        "fig = px.imshow(cor1, title='Mapa de calor')\n",
        "fig.show()"
      ],
      "execution_count": null,
      "outputs": [
        {
          "output_type": "display_data",
          "data": {
            "text/html": [
              "<html>\n",
              "<head><meta charset=\"utf-8\" /></head>\n",
              "<body>\n",
              "    <div>\n",
              "            <script src=\"https://cdnjs.cloudflare.com/ajax/libs/mathjax/2.7.5/MathJax.js?config=TeX-AMS-MML_SVG\"></script><script type=\"text/javascript\">if (window.MathJax) {MathJax.Hub.Config({SVG: {font: \"STIX-Web\"}});}</script>\n",
              "                <script type=\"text/javascript\">window.PlotlyConfig = {MathJaxConfig: 'local'};</script>\n",
              "        <script src=\"https://cdn.plot.ly/plotly-latest.min.js\"></script>    \n",
              "            <div id=\"1dc4f46e-5a17-4f29-a0a4-526fce087b9c\" class=\"plotly-graph-div\" style=\"height:525px; width:100%;\"></div>\n",
              "            <script type=\"text/javascript\">\n",
              "                \n",
              "                    window.PLOTLYENV=window.PLOTLYENV || {};\n",
              "                    \n",
              "                if (document.getElementById(\"1dc4f46e-5a17-4f29-a0a4-526fce087b9c\")) {\n",
              "                    Plotly.newPlot(\n",
              "                        '1dc4f46e-5a17-4f29-a0a4-526fce087b9c',\n",
              "                        [{\"coloraxis\": \"coloraxis\", \"type\": \"heatmap\", \"z\": [[1.0, -0.1754233795532245], [-0.1754233795532245, 1.0]]}],\n",
              "                        {\"coloraxis\": {\"colorscale\": [[0.0, \"#0d0887\"], [0.1111111111111111, \"#46039f\"], [0.2222222222222222, \"#7201a8\"], [0.3333333333333333, \"#9c179e\"], [0.4444444444444444, \"#bd3786\"], [0.5555555555555556, \"#d8576b\"], [0.6666666666666666, \"#ed7953\"], [0.7777777777777778, \"#fb9f3a\"], [0.8888888888888888, \"#fdca26\"], [1.0, \"#f0f921\"]]}, \"template\": {\"data\": {\"bar\": [{\"error_x\": {\"color\": \"#2a3f5f\"}, \"error_y\": {\"color\": \"#2a3f5f\"}, \"marker\": {\"line\": {\"color\": \"#E5ECF6\", \"width\": 0.5}}, \"type\": \"bar\"}], \"barpolar\": [{\"marker\": {\"line\": {\"color\": \"#E5ECF6\", \"width\": 0.5}}, \"type\": \"barpolar\"}], \"carpet\": [{\"aaxis\": {\"endlinecolor\": \"#2a3f5f\", \"gridcolor\": \"white\", \"linecolor\": \"white\", \"minorgridcolor\": \"white\", \"startlinecolor\": \"#2a3f5f\"}, \"baxis\": {\"endlinecolor\": \"#2a3f5f\", \"gridcolor\": \"white\", \"linecolor\": \"white\", \"minorgridcolor\": \"white\", \"startlinecolor\": \"#2a3f5f\"}, \"type\": \"carpet\"}], \"choropleth\": [{\"colorbar\": {\"outlinewidth\": 0, \"ticks\": \"\"}, \"type\": \"choropleth\"}], \"contour\": [{\"colorbar\": {\"outlinewidth\": 0, \"ticks\": \"\"}, \"colorscale\": [[0.0, \"#0d0887\"], [0.1111111111111111, \"#46039f\"], [0.2222222222222222, \"#7201a8\"], [0.3333333333333333, \"#9c179e\"], [0.4444444444444444, \"#bd3786\"], [0.5555555555555556, \"#d8576b\"], [0.6666666666666666, \"#ed7953\"], [0.7777777777777778, \"#fb9f3a\"], [0.8888888888888888, \"#fdca26\"], [1.0, \"#f0f921\"]], \"type\": \"contour\"}], \"contourcarpet\": [{\"colorbar\": {\"outlinewidth\": 0, \"ticks\": \"\"}, \"type\": \"contourcarpet\"}], \"heatmap\": [{\"colorbar\": {\"outlinewidth\": 0, \"ticks\": \"\"}, \"colorscale\": [[0.0, \"#0d0887\"], [0.1111111111111111, \"#46039f\"], [0.2222222222222222, \"#7201a8\"], [0.3333333333333333, \"#9c179e\"], [0.4444444444444444, \"#bd3786\"], [0.5555555555555556, \"#d8576b\"], [0.6666666666666666, \"#ed7953\"], [0.7777777777777778, \"#fb9f3a\"], [0.8888888888888888, \"#fdca26\"], [1.0, \"#f0f921\"]], \"type\": \"heatmap\"}], \"heatmapgl\": [{\"colorbar\": {\"outlinewidth\": 0, \"ticks\": \"\"}, \"colorscale\": [[0.0, \"#0d0887\"], [0.1111111111111111, \"#46039f\"], [0.2222222222222222, \"#7201a8\"], [0.3333333333333333, \"#9c179e\"], [0.4444444444444444, \"#bd3786\"], [0.5555555555555556, \"#d8576b\"], [0.6666666666666666, \"#ed7953\"], [0.7777777777777778, \"#fb9f3a\"], [0.8888888888888888, \"#fdca26\"], [1.0, \"#f0f921\"]], \"type\": \"heatmapgl\"}], \"histogram\": [{\"marker\": {\"colorbar\": {\"outlinewidth\": 0, \"ticks\": \"\"}}, \"type\": \"histogram\"}], \"histogram2d\": [{\"colorbar\": {\"outlinewidth\": 0, \"ticks\": \"\"}, \"colorscale\": [[0.0, \"#0d0887\"], [0.1111111111111111, \"#46039f\"], [0.2222222222222222, \"#7201a8\"], [0.3333333333333333, \"#9c179e\"], [0.4444444444444444, \"#bd3786\"], [0.5555555555555556, \"#d8576b\"], [0.6666666666666666, \"#ed7953\"], [0.7777777777777778, \"#fb9f3a\"], [0.8888888888888888, \"#fdca26\"], [1.0, \"#f0f921\"]], \"type\": \"histogram2d\"}], \"histogram2dcontour\": [{\"colorbar\": {\"outlinewidth\": 0, \"ticks\": \"\"}, \"colorscale\": [[0.0, \"#0d0887\"], [0.1111111111111111, \"#46039f\"], [0.2222222222222222, \"#7201a8\"], [0.3333333333333333, \"#9c179e\"], [0.4444444444444444, \"#bd3786\"], [0.5555555555555556, \"#d8576b\"], [0.6666666666666666, \"#ed7953\"], [0.7777777777777778, \"#fb9f3a\"], [0.8888888888888888, \"#fdca26\"], [1.0, \"#f0f921\"]], \"type\": \"histogram2dcontour\"}], \"mesh3d\": [{\"colorbar\": {\"outlinewidth\": 0, \"ticks\": \"\"}, \"type\": \"mesh3d\"}], \"parcoords\": [{\"line\": {\"colorbar\": {\"outlinewidth\": 0, \"ticks\": \"\"}}, \"type\": \"parcoords\"}], \"pie\": [{\"automargin\": true, \"type\": \"pie\"}], \"scatter\": [{\"marker\": {\"colorbar\": {\"outlinewidth\": 0, \"ticks\": \"\"}}, \"type\": \"scatter\"}], \"scatter3d\": [{\"line\": {\"colorbar\": {\"outlinewidth\": 0, \"ticks\": \"\"}}, \"marker\": {\"colorbar\": {\"outlinewidth\": 0, \"ticks\": \"\"}}, \"type\": \"scatter3d\"}], \"scattercarpet\": [{\"marker\": {\"colorbar\": {\"outlinewidth\": 0, \"ticks\": \"\"}}, \"type\": \"scattercarpet\"}], \"scattergeo\": [{\"marker\": {\"colorbar\": {\"outlinewidth\": 0, \"ticks\": \"\"}}, \"type\": \"scattergeo\"}], \"scattergl\": [{\"marker\": {\"colorbar\": {\"outlinewidth\": 0, \"ticks\": \"\"}}, \"type\": \"scattergl\"}], \"scattermapbox\": [{\"marker\": {\"colorbar\": {\"outlinewidth\": 0, \"ticks\": \"\"}}, \"type\": \"scattermapbox\"}], \"scatterpolar\": [{\"marker\": {\"colorbar\": {\"outlinewidth\": 0, \"ticks\": \"\"}}, \"type\": \"scatterpolar\"}], \"scatterpolargl\": [{\"marker\": {\"colorbar\": {\"outlinewidth\": 0, \"ticks\": \"\"}}, \"type\": \"scatterpolargl\"}], \"scatterternary\": [{\"marker\": {\"colorbar\": {\"outlinewidth\": 0, \"ticks\": \"\"}}, \"type\": \"scatterternary\"}], \"surface\": [{\"colorbar\": {\"outlinewidth\": 0, \"ticks\": \"\"}, \"colorscale\": [[0.0, \"#0d0887\"], [0.1111111111111111, \"#46039f\"], [0.2222222222222222, \"#7201a8\"], [0.3333333333333333, \"#9c179e\"], [0.4444444444444444, \"#bd3786\"], [0.5555555555555556, \"#d8576b\"], [0.6666666666666666, \"#ed7953\"], [0.7777777777777778, \"#fb9f3a\"], [0.8888888888888888, \"#fdca26\"], [1.0, \"#f0f921\"]], \"type\": \"surface\"}], \"table\": [{\"cells\": {\"fill\": {\"color\": \"#EBF0F8\"}, \"line\": {\"color\": \"white\"}}, \"header\": {\"fill\": {\"color\": \"#C8D4E3\"}, \"line\": {\"color\": \"white\"}}, \"type\": \"table\"}]}, \"layout\": {\"annotationdefaults\": {\"arrowcolor\": \"#2a3f5f\", \"arrowhead\": 0, \"arrowwidth\": 1}, \"coloraxis\": {\"colorbar\": {\"outlinewidth\": 0, \"ticks\": \"\"}}, \"colorscale\": {\"diverging\": [[0, \"#8e0152\"], [0.1, \"#c51b7d\"], [0.2, \"#de77ae\"], [0.3, \"#f1b6da\"], [0.4, \"#fde0ef\"], [0.5, \"#f7f7f7\"], [0.6, \"#e6f5d0\"], [0.7, \"#b8e186\"], [0.8, \"#7fbc41\"], [0.9, \"#4d9221\"], [1, \"#276419\"]], \"sequential\": [[0.0, \"#0d0887\"], [0.1111111111111111, \"#46039f\"], [0.2222222222222222, \"#7201a8\"], [0.3333333333333333, \"#9c179e\"], [0.4444444444444444, \"#bd3786\"], [0.5555555555555556, \"#d8576b\"], [0.6666666666666666, \"#ed7953\"], [0.7777777777777778, \"#fb9f3a\"], [0.8888888888888888, \"#fdca26\"], [1.0, \"#f0f921\"]], \"sequentialminus\": [[0.0, \"#0d0887\"], [0.1111111111111111, \"#46039f\"], [0.2222222222222222, \"#7201a8\"], [0.3333333333333333, \"#9c179e\"], [0.4444444444444444, \"#bd3786\"], [0.5555555555555556, \"#d8576b\"], [0.6666666666666666, \"#ed7953\"], [0.7777777777777778, \"#fb9f3a\"], [0.8888888888888888, \"#fdca26\"], [1.0, \"#f0f921\"]]}, \"colorway\": [\"#636efa\", \"#EF553B\", \"#00cc96\", \"#ab63fa\", \"#FFA15A\", \"#19d3f3\", \"#FF6692\", \"#B6E880\", \"#FF97FF\", \"#FECB52\"], \"font\": {\"color\": \"#2a3f5f\"}, \"geo\": {\"bgcolor\": \"white\", \"lakecolor\": \"white\", \"landcolor\": \"#E5ECF6\", \"showlakes\": true, \"showland\": true, \"subunitcolor\": \"white\"}, \"hoverlabel\": {\"align\": \"left\"}, \"hovermode\": \"closest\", \"mapbox\": {\"style\": \"light\"}, \"paper_bgcolor\": \"white\", \"plot_bgcolor\": \"#E5ECF6\", \"polar\": {\"angularaxis\": {\"gridcolor\": \"white\", \"linecolor\": \"white\", \"ticks\": \"\"}, \"bgcolor\": \"#E5ECF6\", \"radialaxis\": {\"gridcolor\": \"white\", \"linecolor\": \"white\", \"ticks\": \"\"}}, \"scene\": {\"xaxis\": {\"backgroundcolor\": \"#E5ECF6\", \"gridcolor\": \"white\", \"gridwidth\": 2, \"linecolor\": \"white\", \"showbackground\": true, \"ticks\": \"\", \"zerolinecolor\": \"white\"}, \"yaxis\": {\"backgroundcolor\": \"#E5ECF6\", \"gridcolor\": \"white\", \"gridwidth\": 2, \"linecolor\": \"white\", \"showbackground\": true, \"ticks\": \"\", \"zerolinecolor\": \"white\"}, \"zaxis\": {\"backgroundcolor\": \"#E5ECF6\", \"gridcolor\": \"white\", \"gridwidth\": 2, \"linecolor\": \"white\", \"showbackground\": true, \"ticks\": \"\", \"zerolinecolor\": \"white\"}}, \"shapedefaults\": {\"line\": {\"color\": \"#2a3f5f\"}}, \"ternary\": {\"aaxis\": {\"gridcolor\": \"white\", \"linecolor\": \"white\", \"ticks\": \"\"}, \"baxis\": {\"gridcolor\": \"white\", \"linecolor\": \"white\", \"ticks\": \"\"}, \"bgcolor\": \"#E5ECF6\", \"caxis\": {\"gridcolor\": \"white\", \"linecolor\": \"white\", \"ticks\": \"\"}}, \"title\": {\"x\": 0.05}, \"xaxis\": {\"automargin\": true, \"gridcolor\": \"white\", \"linecolor\": \"white\", \"ticks\": \"\", \"title\": {\"standoff\": 15}, \"zerolinecolor\": \"white\", \"zerolinewidth\": 2}, \"yaxis\": {\"automargin\": true, \"gridcolor\": \"white\", \"linecolor\": \"white\", \"ticks\": \"\", \"title\": {\"standoff\": 15}, \"zerolinecolor\": \"white\", \"zerolinewidth\": 2}}}, \"title\": {\"text\": \"Mapa de calor\"}, \"xaxis\": {\"constrain\": \"domain\", \"scaleanchor\": \"y\"}, \"yaxis\": {\"autorange\": \"reversed\", \"constrain\": \"domain\"}},\n",
              "                        {\"responsive\": true}\n",
              "                    ).then(function(){\n",
              "                            \n",
              "var gd = document.getElementById('1dc4f46e-5a17-4f29-a0a4-526fce087b9c');\n",
              "var x = new MutationObserver(function (mutations, observer) {{\n",
              "        var display = window.getComputedStyle(gd).display;\n",
              "        if (!display || display === 'none') {{\n",
              "            console.log([gd, 'removed!']);\n",
              "            Plotly.purge(gd);\n",
              "            observer.disconnect();\n",
              "        }}\n",
              "}});\n",
              "\n",
              "// Listen for the removal of the full notebook cells\n",
              "var notebookContainer = gd.closest('#notebook-container');\n",
              "if (notebookContainer) {{\n",
              "    x.observe(notebookContainer, {childList: true});\n",
              "}}\n",
              "\n",
              "// Listen for the clearing of the current output cell\n",
              "var outputEl = gd.closest('.output');\n",
              "if (outputEl) {{\n",
              "    x.observe(outputEl, {childList: true});\n",
              "}}\n",
              "\n",
              "                        })\n",
              "                };\n",
              "                \n",
              "            </script>\n",
              "        </div>\n",
              "</body>\n",
              "</html>"
            ]
          },
          "metadata": {
            "tags": []
          }
        }
      ]
    },
    {
      "cell_type": "markdown",
      "metadata": {
        "id": "uU60PDsovviP"
      },
      "source": [
        "**g)\tCalcular la media, mediana y moda, así como el rango, varianza, desviación estándar y el coeficiente de variación de los datos y responder la siguiente pregunta ¿cuál precio de los dos tipos de Placas y baldosa tiene una mayor variación?**"
      ]
    },
    {
      "cell_type": "code",
      "metadata": {
        "id": "2rmCBjAxv81i"
      },
      "source": [
        "avg = df['Volumen_2018'].mean()\n",
        "avg1 = df['Valor_2018'].mean()\n",
        "avg2 = df['Precio'].mean()\n"
      ],
      "execution_count": null,
      "outputs": []
    },
    {
      "cell_type": "code",
      "metadata": {
        "id": "yBpiJXjnwnPt"
      },
      "source": [
        "med = df['Volumen_2018'].median()\n",
        "med1 = df['Valor_2018'].median()\n",
        "med2 = df['Precio'].median()"
      ],
      "execution_count": null,
      "outputs": []
    },
    {
      "cell_type": "code",
      "metadata": {
        "id": "b8EKYJMtzOuA"
      },
      "source": [
        "rango = df['Volumen_2018'].max() - df['Volumen_2018'].min()\n",
        "rango1 = df['Valor_2018'].max() - df['Valor_2018'].min()\n",
        "rango2 = df['Precio'].max() - df['Precio'].min()"
      ],
      "execution_count": null,
      "outputs": []
    },
    {
      "cell_type": "code",
      "metadata": {
        "id": "HzCpdPNmz7qS"
      },
      "source": [
        "var = df['Volumen_2018'].var()\n",
        "var1 = df['Valor_2018'].var()\n",
        "var2 = df['Precio'].var()"
      ],
      "execution_count": null,
      "outputs": []
    },
    {
      "cell_type": "code",
      "metadata": {
        "id": "9mSMixPu0mJN"
      },
      "source": [
        "std = df['Volumen_2018'].std()\n",
        "std1 = df['Valor_2018'].std()\n",
        "std2 = df['Precio'].std()"
      ],
      "execution_count": null,
      "outputs": []
    },
    {
      "cell_type": "code",
      "metadata": {
        "id": "8wUaef0A02Dh"
      },
      "source": [
        "coef_var = df['Volumen_2018'].std() / df['Volumen_2018'].mean()*100\n",
        "coef_var1 = df['Valor_2018'].std() / df['Valor_2018'].mean()*100\n",
        "coef_var2 = df['Precio'].std() / df['Precio'].mean()*100"
      ],
      "execution_count": null,
      "outputs": []
    },
    {
      "cell_type": "code",
      "metadata": {
        "colab": {
          "base_uri": "https://localhost:8080/"
        },
        "id": "pCxgXVRi2VED",
        "outputId": "4612ab4b-66b2-493b-a72f-9a838cc5781d"
      },
      "source": [
        "df['Precio'].dtype"
      ],
      "execution_count": null,
      "outputs": [
        {
          "output_type": "execute_result",
          "data": {
            "text/plain": [
              "dtype('float64')"
            ]
          },
          "metadata": {
            "tags": []
          },
          "execution_count": 27
        }
      ]
    },
    {
      "cell_type": "code",
      "metadata": {
        "colab": {
          "base_uri": "https://localhost:8080/",
          "height": 173
        },
        "id": "uwMiv_T_2hOQ",
        "outputId": "8b3dd16e-07e9-451f-cac5-a0903a377fa7"
      },
      "source": [
        "descriptiva = pd.DataFrame({'Variables':['Volumen', 'Valor', 'Precio'], 'Media': [avg, avg1, avg2], \n",
        "                            'Mediana': [med, med1, med2], 'Rango':[rango, rango1, rango2],\n",
        "                            'Varianza': [var, var1, var2], 'Des_Est':[std, std1, std2],\n",
        "                            'Coef_Variación':[coef_var, coef_var1, coef_var2]})\n",
        "descriptiva.set_index('Variables', inplace=True)\n",
        "descriptiva"
      ],
      "execution_count": null,
      "outputs": [
        {
          "output_type": "execute_result",
          "data": {
            "text/html": [
              "<div>\n",
              "<style scoped>\n",
              "    .dataframe tbody tr th:only-of-type {\n",
              "        vertical-align: middle;\n",
              "    }\n",
              "\n",
              "    .dataframe tbody tr th {\n",
              "        vertical-align: top;\n",
              "    }\n",
              "\n",
              "    .dataframe thead th {\n",
              "        text-align: right;\n",
              "    }\n",
              "</style>\n",
              "<table border=\"1\" class=\"dataframe\">\n",
              "  <thead>\n",
              "    <tr style=\"text-align: right;\">\n",
              "      <th></th>\n",
              "      <th>Media</th>\n",
              "      <th>Mediana</th>\n",
              "      <th>Rango</th>\n",
              "      <th>Varianza</th>\n",
              "      <th>Des_Est</th>\n",
              "      <th>Coef_Variación</th>\n",
              "    </tr>\n",
              "    <tr>\n",
              "      <th>Variables</th>\n",
              "      <th></th>\n",
              "      <th></th>\n",
              "      <th></th>\n",
              "      <th></th>\n",
              "      <th></th>\n",
              "      <th></th>\n",
              "    </tr>\n",
              "  </thead>\n",
              "  <tbody>\n",
              "    <tr>\n",
              "      <th>Volumen</th>\n",
              "      <td>6.176771e+05</td>\n",
              "      <td>31975.000000</td>\n",
              "      <td>6.853232e+06</td>\n",
              "      <td>2.617592e+12</td>\n",
              "      <td>1.617897e+06</td>\n",
              "      <td>261.932529</td>\n",
              "    </tr>\n",
              "    <tr>\n",
              "      <th>Valor</th>\n",
              "      <td>4.921841e+06</td>\n",
              "      <td>157149.000000</td>\n",
              "      <td>3.860363e+07</td>\n",
              "      <td>1.189521e+14</td>\n",
              "      <td>1.090652e+07</td>\n",
              "      <td>221.594265</td>\n",
              "    </tr>\n",
              "    <tr>\n",
              "      <th>Precio</th>\n",
              "      <td>1.416116e+01</td>\n",
              "      <td>10.355326</td>\n",
              "      <td>5.180538e+01</td>\n",
              "      <td>2.023904e+02</td>\n",
              "      <td>1.422640e+01</td>\n",
              "      <td>100.460689</td>\n",
              "    </tr>\n",
              "  </tbody>\n",
              "</table>\n",
              "</div>"
            ],
            "text/plain": [
              "                  Media        Mediana  ...       Des_Est  Coef_Variación\n",
              "Variables                               ...                              \n",
              "Volumen    6.176771e+05   31975.000000  ...  1.617897e+06      261.932529\n",
              "Valor      4.921841e+06  157149.000000  ...  1.090652e+07      221.594265\n",
              "Precio     1.416116e+01      10.355326  ...  1.422640e+01      100.460689\n",
              "\n",
              "[3 rows x 6 columns]"
            ]
          },
          "metadata": {
            "tags": []
          },
          "execution_count": 28
        }
      ]
    },
    {
      "cell_type": "markdown",
      "metadata": {
        "id": "gTmqaVZF2e5p"
      },
      "source": [
        ""
      ]
    },
    {
      "cell_type": "markdown",
      "metadata": {
        "id": "SNx7mPCOgaEJ"
      },
      "source": [
        "**h)\tCompara la media de los precios y los precios promedio ponderados de las dos fracciones arancelarias y responder las siguientes preguntas:\n",
        "•\t¿A qué se debe la diferencia entre la media del precio y el precio promedio ponderado? \n",
        "•\t¿Qué media del precio es mayor cuando comparas esta entre Placas y baldosas, de cerámica, barnizadas o esmaltadas con las placas y baldosas sin barnizar ni esmaltar?, y\n",
        "•\t¿qué sucede cuando comparas el precio promedio ponderado de la Placas y baldosas, de cerámica, barnizadas o esmaltadas con las Placas y baldosas sin barnizar ni esmaltar?\n",
        "**"
      ]
    },
    {
      "cell_type": "markdown",
      "metadata": {
        "id": "ttU5PAr2gjFD"
      },
      "source": [
        "Resouesta ="
      ]
    },
    {
      "cell_type": "markdown",
      "metadata": {
        "id": "Bn2jA5Q7gmxz"
      },
      "source": [
        "**i)\tElabora la distribución de frecuencias para los precios de las importaciones, considerar que el número de clases= 5, y un histograma para el precio de importación para cada una de las fracciones arancelarias por separado, de las placas y baldosas, de cerámica**"
      ]
    },
    {
      "cell_type": "code",
      "metadata": {
        "colab": {
          "base_uri": "https://localhost:8080/"
        },
        "id": "kOFhfEb4jVVJ",
        "outputId": "ae56b131-ec5f-4165-b0d7-e154f7228c80"
      },
      "source": [
        "df['Precio'].max()"
      ],
      "execution_count": null,
      "outputs": [
        {
          "output_type": "execute_result",
          "data": {
            "text/plain": [
              "54.666666666666664"
            ]
          },
          "metadata": {
            "tags": []
          },
          "execution_count": 29
        }
      ]
    },
    {
      "cell_type": "code",
      "metadata": {
        "colab": {
          "base_uri": "https://localhost:8080/"
        },
        "id": "JafK3U0ijcMI",
        "outputId": "9120cb4f-b6a3-4c52-c868-6685664d011f"
      },
      "source": [
        "rango_precio = df['Precio'].max() - df['Precio'].min()\n",
        "amplitud = rango_precio/5\n",
        "amplitud"
      ],
      "execution_count": null,
      "outputs": [
        {
          "output_type": "execute_result",
          "data": {
            "text/plain": [
              "10.361075251020633"
            ]
          },
          "metadata": {
            "tags": []
          },
          "execution_count": 30
        }
      ]
    },
    {
      "cell_type": "code",
      "metadata": {
        "colab": {
          "base_uri": "https://localhost:8080/"
        },
        "id": "WV2vILgGkHUf",
        "outputId": "6d72fc21-2474-404f-fd60-8e382e85cfa4"
      },
      "source": [
        "df['Precio'].min(), df['Precio'].min() + amplitud"
      ],
      "execution_count": null,
      "outputs": [
        {
          "output_type": "execute_result",
          "data": {
            "text/plain": [
              "(2.8612904115635, 13.222365662584133)"
            ]
          },
          "metadata": {
            "tags": []
          },
          "execution_count": 31
        }
      ]
    },
    {
      "cell_type": "code",
      "metadata": {
        "colab": {
          "base_uri": "https://localhost:8080/"
        },
        "id": "q1c7bg3TtHXD",
        "outputId": "6ddf6667-6e50-4978-8536-4e5cc2a42741"
      },
      "source": [
        "gpo2 = df['Precio'].min() + amplitud\n",
        "gpo3 = gpo2 + amplitud\n",
        "gpo2, gpo3"
      ],
      "execution_count": null,
      "outputs": [
        {
          "output_type": "execute_result",
          "data": {
            "text/plain": [
              "(13.222365662584133, 23.58344091360477)"
            ]
          },
          "metadata": {
            "tags": []
          },
          "execution_count": 32
        }
      ]
    },
    {
      "cell_type": "code",
      "metadata": {
        "colab": {
          "base_uri": "https://localhost:8080/"
        },
        "id": "YJeKAXROuWrS",
        "outputId": "76d0d4a4-950c-435a-f384-46b100ae81c6"
      },
      "source": [
        "gpo4 = gpo3 + amplitud\n",
        "gpo3, gpo4"
      ],
      "execution_count": null,
      "outputs": [
        {
          "output_type": "execute_result",
          "data": {
            "text/plain": [
              "(23.58344091360477, 33.9445161646254)"
            ]
          },
          "metadata": {
            "tags": []
          },
          "execution_count": 33
        }
      ]
    },
    {
      "cell_type": "code",
      "metadata": {
        "colab": {
          "base_uri": "https://localhost:8080/"
        },
        "id": "zPANBxIkwjNg",
        "outputId": "5e259b71-9ded-432f-dfcf-15d2ddf9ae53"
      },
      "source": [
        "gpo5 = gpo4 + amplitud\n",
        "gpo4, gpo5"
      ],
      "execution_count": null,
      "outputs": [
        {
          "output_type": "execute_result",
          "data": {
            "text/plain": [
              "(33.9445161646254, 44.305591415646035)"
            ]
          },
          "metadata": {
            "tags": []
          },
          "execution_count": 34
        }
      ]
    },
    {
      "cell_type": "code",
      "metadata": {
        "colab": {
          "base_uri": "https://localhost:8080/"
        },
        "id": "NO_Dvm6gxJ5d",
        "outputId": "28c5645e-f48c-439b-a0f2-b04487b9fdc5"
      },
      "source": [
        "gpo6 = gpo5 + amplitud\n",
        "gpo5, gpo6"
      ],
      "execution_count": null,
      "outputs": [
        {
          "output_type": "execute_result",
          "data": {
            "text/plain": [
              "(44.305591415646035, 54.66666666666667)"
            ]
          },
          "metadata": {
            "tags": []
          },
          "execution_count": 35
        }
      ]
    },
    {
      "cell_type": "code",
      "metadata": {
        "id": "R5cKCWrhgxvS"
      },
      "source": [
        "df['Precios_agrup'] = pd.cut(df['Precio'], bins= [0, 10,20,30,50,60])\n",
        "g = df.groupby(['Precios_agrup'])"
      ],
      "execution_count": null,
      "outputs": []
    },
    {
      "cell_type": "code",
      "metadata": {
        "colab": {
          "base_uri": "https://localhost:8080/"
        },
        "id": "fiU0nYh2yeRZ",
        "outputId": "6c288891-0568-4a64-c480-d2e92374306b"
      },
      "source": [
        "for Precios_agrup, Precios_agrup_df in g:\n",
        "    print(Precios_agrup)\n",
        "    print(Precios_agrup_df)"
      ],
      "execution_count": null,
      "outputs": [
        {
          "output_type": "stream",
          "text": [
            "(0, 10]\n",
            "                                   Valor_2018  ...  Precios_agrup\n",
            "País                                           ...               \n",
            "Brasil (República Federativa del)     1482836  ...        (0, 10]\n",
            "Ecuador (República de)                 251292  ...        (0, 10]\n",
            "Guatemala (República de)               127379  ...        (0, 10]\n",
            "Hong Kong (Teritorio de )               38546  ...        (0, 10]\n",
            "India (República de la)              38603728  ...        (0, 10]\n",
            "Irán (República Islamica del)          123066  ...        (0, 10]\n",
            "Malasia (Federación de)                207455  ...        (0, 10]\n",
            "Perú (República del)                   332215  ...        (0, 10]\n",
            "Estados Unidos de América              970197  ...        (0, 10]\n",
            "\n",
            "[9 rows x 5 columns]\n",
            "(10, 20]\n",
            "                              Valor_2018  Volumen_2018  ...     Precio  Precios_agrup\n",
            "País                                                    ...                          \n",
            "Colombia (República de)            53492          4482  ...  11.934851       (10, 20]\n",
            "China (República Popular de)    14145738       1366035  ...  10.355326       (10, 20]\n",
            "España (Reino de)               29061929       2282603  ...  12.731924       (10, 20]\n",
            "Indonesia (República de)            7026           518  ...  13.563707       (10, 20]\n",
            "Portugal                          157149         10788  ...  14.567019       (10, 20]\n",
            "Turquia (República de)              3947           267  ...  14.782772       (10, 20]\n",
            "\n",
            "[6 rows x 5 columns]\n",
            "(20, 30]\n",
            "         Valor_2018  Volumen_2018     Pais     Precio Precios_agrup\n",
            "País                                                               \n",
            "Italia      7939853        372378   Italia  21.322025      (20, 30]\n",
            "Ucrania         102             4  Ucrania  25.500000      (20, 30]\n",
            "(30, 50]\n",
            "                        Valor_2018  Volumen_2018  ...     Precio  Precios_agrup\n",
            "País                                              ...                          \n",
            "Emiratos Arabes Unidos        7550           165  ...  45.757576       (30, 50]\n",
            "\n",
            "[1 rows x 5 columns]\n",
            "(50, 60]\n",
            "                                 Valor_2018  ...  Precios_agrup\n",
            "País                                         ...               \n",
            "Alemania (República Federal de)        1476  ...       (50, 60]\n",
            "\n",
            "[1 rows x 5 columns]\n"
          ],
          "name": "stdout"
        }
      ]
    },
    {
      "cell_type": "code",
      "metadata": {
        "colab": {
          "base_uri": "https://localhost:8080/",
          "height": 235
        },
        "id": "KmLUtLlTGjQX",
        "outputId": "115116f0-15f7-4262-c119-53165655cd36"
      },
      "source": [
        "tabla_frec = g.count()\n",
        "tabla_frec"
      ],
      "execution_count": null,
      "outputs": [
        {
          "output_type": "execute_result",
          "data": {
            "text/html": [
              "<div>\n",
              "<style scoped>\n",
              "    .dataframe tbody tr th:only-of-type {\n",
              "        vertical-align: middle;\n",
              "    }\n",
              "\n",
              "    .dataframe tbody tr th {\n",
              "        vertical-align: top;\n",
              "    }\n",
              "\n",
              "    .dataframe thead th {\n",
              "        text-align: right;\n",
              "    }\n",
              "</style>\n",
              "<table border=\"1\" class=\"dataframe\">\n",
              "  <thead>\n",
              "    <tr style=\"text-align: right;\">\n",
              "      <th></th>\n",
              "      <th>Valor_2018</th>\n",
              "      <th>Volumen_2018</th>\n",
              "      <th>Pais</th>\n",
              "      <th>Precio</th>\n",
              "    </tr>\n",
              "    <tr>\n",
              "      <th>Precios_agrup</th>\n",
              "      <th></th>\n",
              "      <th></th>\n",
              "      <th></th>\n",
              "      <th></th>\n",
              "    </tr>\n",
              "  </thead>\n",
              "  <tbody>\n",
              "    <tr>\n",
              "      <th>(0, 10]</th>\n",
              "      <td>9</td>\n",
              "      <td>9</td>\n",
              "      <td>9</td>\n",
              "      <td>9</td>\n",
              "    </tr>\n",
              "    <tr>\n",
              "      <th>(10, 20]</th>\n",
              "      <td>6</td>\n",
              "      <td>6</td>\n",
              "      <td>6</td>\n",
              "      <td>6</td>\n",
              "    </tr>\n",
              "    <tr>\n",
              "      <th>(20, 30]</th>\n",
              "      <td>2</td>\n",
              "      <td>2</td>\n",
              "      <td>2</td>\n",
              "      <td>2</td>\n",
              "    </tr>\n",
              "    <tr>\n",
              "      <th>(30, 50]</th>\n",
              "      <td>1</td>\n",
              "      <td>1</td>\n",
              "      <td>1</td>\n",
              "      <td>1</td>\n",
              "    </tr>\n",
              "    <tr>\n",
              "      <th>(50, 60]</th>\n",
              "      <td>1</td>\n",
              "      <td>1</td>\n",
              "      <td>1</td>\n",
              "      <td>1</td>\n",
              "    </tr>\n",
              "  </tbody>\n",
              "</table>\n",
              "</div>"
            ],
            "text/plain": [
              "               Valor_2018  Volumen_2018  Pais  Precio\n",
              "Precios_agrup                                        \n",
              "(0, 10]                 9             9     9       9\n",
              "(10, 20]                6             6     6       6\n",
              "(20, 30]                2             2     2       2\n",
              "(30, 50]                1             1     1       1\n",
              "(50, 60]                1             1     1       1"
            ]
          },
          "metadata": {
            "tags": []
          },
          "execution_count": 38
        }
      ]
    },
    {
      "cell_type": "code",
      "metadata": {
        "colab": {
          "base_uri": "https://localhost:8080/",
          "height": 235
        },
        "id": "5iB00F6s3uMj",
        "outputId": "fcf5a94a-2f45-49cb-fb6f-04b43ae2bf46"
      },
      "source": [
        "tabla_frec.rename(columns={'Precio':'Frecuencia',}, inplace=True)\n",
        "tabla_frec.drop(['Pais','Valor_2018','Volumen_2018'], axis= 1, inplace=True)\n",
        "tabla_frec\n"
      ],
      "execution_count": null,
      "outputs": [
        {
          "output_type": "execute_result",
          "data": {
            "text/html": [
              "<div>\n",
              "<style scoped>\n",
              "    .dataframe tbody tr th:only-of-type {\n",
              "        vertical-align: middle;\n",
              "    }\n",
              "\n",
              "    .dataframe tbody tr th {\n",
              "        vertical-align: top;\n",
              "    }\n",
              "\n",
              "    .dataframe thead th {\n",
              "        text-align: right;\n",
              "    }\n",
              "</style>\n",
              "<table border=\"1\" class=\"dataframe\">\n",
              "  <thead>\n",
              "    <tr style=\"text-align: right;\">\n",
              "      <th></th>\n",
              "      <th>Frecuencia</th>\n",
              "    </tr>\n",
              "    <tr>\n",
              "      <th>Precios_agrup</th>\n",
              "      <th></th>\n",
              "    </tr>\n",
              "  </thead>\n",
              "  <tbody>\n",
              "    <tr>\n",
              "      <th>(0, 10]</th>\n",
              "      <td>9</td>\n",
              "    </tr>\n",
              "    <tr>\n",
              "      <th>(10, 20]</th>\n",
              "      <td>6</td>\n",
              "    </tr>\n",
              "    <tr>\n",
              "      <th>(20, 30]</th>\n",
              "      <td>2</td>\n",
              "    </tr>\n",
              "    <tr>\n",
              "      <th>(30, 50]</th>\n",
              "      <td>1</td>\n",
              "    </tr>\n",
              "    <tr>\n",
              "      <th>(50, 60]</th>\n",
              "      <td>1</td>\n",
              "    </tr>\n",
              "  </tbody>\n",
              "</table>\n",
              "</div>"
            ],
            "text/plain": [
              "               Frecuencia\n",
              "Precios_agrup            \n",
              "(0, 10]                 9\n",
              "(10, 20]                6\n",
              "(20, 30]                2\n",
              "(30, 50]                1\n",
              "(50, 60]                1"
            ]
          },
          "metadata": {
            "tags": []
          },
          "execution_count": 39
        }
      ]
    },
    {
      "cell_type": "code",
      "metadata": {
        "colab": {
          "base_uri": "https://localhost:8080/",
          "height": 235
        },
        "id": "irnSpaLc4f11",
        "outputId": "2ca0b920-a926-4e5e-e115-7370eb033eaa"
      },
      "source": [
        "x = tabla_frec['Frecuencia'].sum()\n",
        "tabla_frec['Frecuencia_Relativa'] = tabla_frec.Frecuencia/x\n",
        "tabla_frec"
      ],
      "execution_count": null,
      "outputs": [
        {
          "output_type": "execute_result",
          "data": {
            "text/html": [
              "<div>\n",
              "<style scoped>\n",
              "    .dataframe tbody tr th:only-of-type {\n",
              "        vertical-align: middle;\n",
              "    }\n",
              "\n",
              "    .dataframe tbody tr th {\n",
              "        vertical-align: top;\n",
              "    }\n",
              "\n",
              "    .dataframe thead th {\n",
              "        text-align: right;\n",
              "    }\n",
              "</style>\n",
              "<table border=\"1\" class=\"dataframe\">\n",
              "  <thead>\n",
              "    <tr style=\"text-align: right;\">\n",
              "      <th></th>\n",
              "      <th>Frecuencia</th>\n",
              "      <th>Frecuencia_Relativa</th>\n",
              "    </tr>\n",
              "    <tr>\n",
              "      <th>Precios_agrup</th>\n",
              "      <th></th>\n",
              "      <th></th>\n",
              "    </tr>\n",
              "  </thead>\n",
              "  <tbody>\n",
              "    <tr>\n",
              "      <th>(0, 10]</th>\n",
              "      <td>9</td>\n",
              "      <td>0.473684</td>\n",
              "    </tr>\n",
              "    <tr>\n",
              "      <th>(10, 20]</th>\n",
              "      <td>6</td>\n",
              "      <td>0.315789</td>\n",
              "    </tr>\n",
              "    <tr>\n",
              "      <th>(20, 30]</th>\n",
              "      <td>2</td>\n",
              "      <td>0.105263</td>\n",
              "    </tr>\n",
              "    <tr>\n",
              "      <th>(30, 50]</th>\n",
              "      <td>1</td>\n",
              "      <td>0.052632</td>\n",
              "    </tr>\n",
              "    <tr>\n",
              "      <th>(50, 60]</th>\n",
              "      <td>1</td>\n",
              "      <td>0.052632</td>\n",
              "    </tr>\n",
              "  </tbody>\n",
              "</table>\n",
              "</div>"
            ],
            "text/plain": [
              "               Frecuencia  Frecuencia_Relativa\n",
              "Precios_agrup                                 \n",
              "(0, 10]                 9             0.473684\n",
              "(10, 20]                6             0.315789\n",
              "(20, 30]                2             0.105263\n",
              "(30, 50]                1             0.052632\n",
              "(50, 60]                1             0.052632"
            ]
          },
          "metadata": {
            "tags": []
          },
          "execution_count": 40
        }
      ]
    },
    {
      "cell_type": "code",
      "metadata": {
        "colab": {
          "base_uri": "https://localhost:8080/",
          "height": 235
        },
        "id": "7RTmp1LD5HM9",
        "outputId": "f93e1983-21f6-4b3a-dd25-371e467b09b6"
      },
      "source": [
        "tabla_frec['Frecuencia_Porcentual'] = tabla_frec.Frecuencia_Relativa*100\n",
        "tabla_frec"
      ],
      "execution_count": null,
      "outputs": [
        {
          "output_type": "execute_result",
          "data": {
            "text/html": [
              "<div>\n",
              "<style scoped>\n",
              "    .dataframe tbody tr th:only-of-type {\n",
              "        vertical-align: middle;\n",
              "    }\n",
              "\n",
              "    .dataframe tbody tr th {\n",
              "        vertical-align: top;\n",
              "    }\n",
              "\n",
              "    .dataframe thead th {\n",
              "        text-align: right;\n",
              "    }\n",
              "</style>\n",
              "<table border=\"1\" class=\"dataframe\">\n",
              "  <thead>\n",
              "    <tr style=\"text-align: right;\">\n",
              "      <th></th>\n",
              "      <th>Frecuencia</th>\n",
              "      <th>Frecuencia_Relativa</th>\n",
              "      <th>Frecuencia_Porcentual</th>\n",
              "    </tr>\n",
              "    <tr>\n",
              "      <th>Precios_agrup</th>\n",
              "      <th></th>\n",
              "      <th></th>\n",
              "      <th></th>\n",
              "    </tr>\n",
              "  </thead>\n",
              "  <tbody>\n",
              "    <tr>\n",
              "      <th>(0, 10]</th>\n",
              "      <td>9</td>\n",
              "      <td>0.473684</td>\n",
              "      <td>47.368421</td>\n",
              "    </tr>\n",
              "    <tr>\n",
              "      <th>(10, 20]</th>\n",
              "      <td>6</td>\n",
              "      <td>0.315789</td>\n",
              "      <td>31.578947</td>\n",
              "    </tr>\n",
              "    <tr>\n",
              "      <th>(20, 30]</th>\n",
              "      <td>2</td>\n",
              "      <td>0.105263</td>\n",
              "      <td>10.526316</td>\n",
              "    </tr>\n",
              "    <tr>\n",
              "      <th>(30, 50]</th>\n",
              "      <td>1</td>\n",
              "      <td>0.052632</td>\n",
              "      <td>5.263158</td>\n",
              "    </tr>\n",
              "    <tr>\n",
              "      <th>(50, 60]</th>\n",
              "      <td>1</td>\n",
              "      <td>0.052632</td>\n",
              "      <td>5.263158</td>\n",
              "    </tr>\n",
              "  </tbody>\n",
              "</table>\n",
              "</div>"
            ],
            "text/plain": [
              "               Frecuencia  Frecuencia_Relativa  Frecuencia_Porcentual\n",
              "Precios_agrup                                                        \n",
              "(0, 10]                 9             0.473684              47.368421\n",
              "(10, 20]                6             0.315789              31.578947\n",
              "(20, 30]                2             0.105263              10.526316\n",
              "(30, 50]                1             0.052632               5.263158\n",
              "(50, 60]                1             0.052632               5.263158"
            ]
          },
          "metadata": {
            "tags": []
          },
          "execution_count": 41
        }
      ]
    },
    {
      "cell_type": "code",
      "metadata": {
        "colab": {
          "base_uri": "https://localhost:8080/",
          "height": 235
        },
        "id": "CXClU20F5aKL",
        "outputId": "361a40fb-0499-4cad-cb66-7dcbe1b8afd1"
      },
      "source": [
        "tabla_frec['Frecuencia_Acumulada'] = tabla_frec.Frecuencia.cumsum()\n",
        "tabla_frec"
      ],
      "execution_count": null,
      "outputs": [
        {
          "output_type": "execute_result",
          "data": {
            "text/html": [
              "<div>\n",
              "<style scoped>\n",
              "    .dataframe tbody tr th:only-of-type {\n",
              "        vertical-align: middle;\n",
              "    }\n",
              "\n",
              "    .dataframe tbody tr th {\n",
              "        vertical-align: top;\n",
              "    }\n",
              "\n",
              "    .dataframe thead th {\n",
              "        text-align: right;\n",
              "    }\n",
              "</style>\n",
              "<table border=\"1\" class=\"dataframe\">\n",
              "  <thead>\n",
              "    <tr style=\"text-align: right;\">\n",
              "      <th></th>\n",
              "      <th>Frecuencia</th>\n",
              "      <th>Frecuencia_Relativa</th>\n",
              "      <th>Frecuencia_Porcentual</th>\n",
              "      <th>Frecuencia_Acumulada</th>\n",
              "    </tr>\n",
              "    <tr>\n",
              "      <th>Precios_agrup</th>\n",
              "      <th></th>\n",
              "      <th></th>\n",
              "      <th></th>\n",
              "      <th></th>\n",
              "    </tr>\n",
              "  </thead>\n",
              "  <tbody>\n",
              "    <tr>\n",
              "      <th>(0, 10]</th>\n",
              "      <td>9</td>\n",
              "      <td>0.473684</td>\n",
              "      <td>47.368421</td>\n",
              "      <td>9</td>\n",
              "    </tr>\n",
              "    <tr>\n",
              "      <th>(10, 20]</th>\n",
              "      <td>6</td>\n",
              "      <td>0.315789</td>\n",
              "      <td>31.578947</td>\n",
              "      <td>15</td>\n",
              "    </tr>\n",
              "    <tr>\n",
              "      <th>(20, 30]</th>\n",
              "      <td>2</td>\n",
              "      <td>0.105263</td>\n",
              "      <td>10.526316</td>\n",
              "      <td>17</td>\n",
              "    </tr>\n",
              "    <tr>\n",
              "      <th>(30, 50]</th>\n",
              "      <td>1</td>\n",
              "      <td>0.052632</td>\n",
              "      <td>5.263158</td>\n",
              "      <td>18</td>\n",
              "    </tr>\n",
              "    <tr>\n",
              "      <th>(50, 60]</th>\n",
              "      <td>1</td>\n",
              "      <td>0.052632</td>\n",
              "      <td>5.263158</td>\n",
              "      <td>19</td>\n",
              "    </tr>\n",
              "  </tbody>\n",
              "</table>\n",
              "</div>"
            ],
            "text/plain": [
              "               Frecuencia  ...  Frecuencia_Acumulada\n",
              "Precios_agrup              ...                      \n",
              "(0, 10]                 9  ...                     9\n",
              "(10, 20]                6  ...                    15\n",
              "(20, 30]                2  ...                    17\n",
              "(30, 50]                1  ...                    18\n",
              "(50, 60]                1  ...                    19\n",
              "\n",
              "[5 rows x 4 columns]"
            ]
          },
          "metadata": {
            "tags": []
          },
          "execution_count": 42
        }
      ]
    },
    {
      "cell_type": "code",
      "metadata": {
        "colab": {
          "base_uri": "https://localhost:8080/",
          "height": 235
        },
        "id": "YYDeD0C88SCQ",
        "outputId": "00c0fab7-f23c-4362-f1c8-cfea93f413bf"
      },
      "source": [
        "tapla_plot = tabla_frec\n",
        "tapla_plot['grupos'] = tapla_plot.index\n",
        "tapla_plot"
      ],
      "execution_count": null,
      "outputs": [
        {
          "output_type": "execute_result",
          "data": {
            "text/html": [
              "<div>\n",
              "<style scoped>\n",
              "    .dataframe tbody tr th:only-of-type {\n",
              "        vertical-align: middle;\n",
              "    }\n",
              "\n",
              "    .dataframe tbody tr th {\n",
              "        vertical-align: top;\n",
              "    }\n",
              "\n",
              "    .dataframe thead th {\n",
              "        text-align: right;\n",
              "    }\n",
              "</style>\n",
              "<table border=\"1\" class=\"dataframe\">\n",
              "  <thead>\n",
              "    <tr style=\"text-align: right;\">\n",
              "      <th></th>\n",
              "      <th>Frecuencia</th>\n",
              "      <th>Frecuencia_Relativa</th>\n",
              "      <th>Frecuencia_Porcentual</th>\n",
              "      <th>Frecuencia_Acumulada</th>\n",
              "      <th>grupos</th>\n",
              "    </tr>\n",
              "    <tr>\n",
              "      <th>Precios_agrup</th>\n",
              "      <th></th>\n",
              "      <th></th>\n",
              "      <th></th>\n",
              "      <th></th>\n",
              "      <th></th>\n",
              "    </tr>\n",
              "  </thead>\n",
              "  <tbody>\n",
              "    <tr>\n",
              "      <th>(0, 10]</th>\n",
              "      <td>9</td>\n",
              "      <td>0.473684</td>\n",
              "      <td>47.368421</td>\n",
              "      <td>9</td>\n",
              "      <td>(0, 10]</td>\n",
              "    </tr>\n",
              "    <tr>\n",
              "      <th>(10, 20]</th>\n",
              "      <td>6</td>\n",
              "      <td>0.315789</td>\n",
              "      <td>31.578947</td>\n",
              "      <td>15</td>\n",
              "      <td>(10, 20]</td>\n",
              "    </tr>\n",
              "    <tr>\n",
              "      <th>(20, 30]</th>\n",
              "      <td>2</td>\n",
              "      <td>0.105263</td>\n",
              "      <td>10.526316</td>\n",
              "      <td>17</td>\n",
              "      <td>(20, 30]</td>\n",
              "    </tr>\n",
              "    <tr>\n",
              "      <th>(30, 50]</th>\n",
              "      <td>1</td>\n",
              "      <td>0.052632</td>\n",
              "      <td>5.263158</td>\n",
              "      <td>18</td>\n",
              "      <td>(30, 50]</td>\n",
              "    </tr>\n",
              "    <tr>\n",
              "      <th>(50, 60]</th>\n",
              "      <td>1</td>\n",
              "      <td>0.052632</td>\n",
              "      <td>5.263158</td>\n",
              "      <td>19</td>\n",
              "      <td>(50, 60]</td>\n",
              "    </tr>\n",
              "  </tbody>\n",
              "</table>\n",
              "</div>"
            ],
            "text/plain": [
              "               Frecuencia  Frecuencia_Relativa  ...  Frecuencia_Acumulada    grupos\n",
              "Precios_agrup                                   ...                                \n",
              "(0, 10]                 9             0.473684  ...                     9   (0, 10]\n",
              "(10, 20]                6             0.315789  ...                    15  (10, 20]\n",
              "(20, 30]                2             0.105263  ...                    17  (20, 30]\n",
              "(30, 50]                1             0.052632  ...                    18  (30, 50]\n",
              "(50, 60]                1             0.052632  ...                    19  (50, 60]\n",
              "\n",
              "[5 rows x 5 columns]"
            ]
          },
          "metadata": {
            "tags": []
          },
          "execution_count": 43
        }
      ]
    },
    {
      "cell_type": "code",
      "metadata": {
        "colab": {
          "base_uri": "https://localhost:8080/"
        },
        "id": "v_7H6spb9I_q",
        "outputId": "815d19ce-02c1-4290-f11d-5877337d78b3"
      },
      "source": [
        "tapla_plot['grupos'] = tapla_plot['grupos'].astype(str)\n",
        "tapla_plot.dtypes"
      ],
      "execution_count": null,
      "outputs": [
        {
          "output_type": "execute_result",
          "data": {
            "text/plain": [
              "Frecuencia                 int64\n",
              "Frecuencia_Relativa      float64\n",
              "Frecuencia_Porcentual    float64\n",
              "Frecuencia_Acumulada       int64\n",
              "grupos                    object\n",
              "dtype: object"
            ]
          },
          "metadata": {
            "tags": []
          },
          "execution_count": 44
        }
      ]
    },
    {
      "cell_type": "code",
      "metadata": {
        "colab": {
          "base_uri": "https://localhost:8080/",
          "height": 542
        },
        "id": "x3abKIgV8Cm8",
        "outputId": "550f117f-8c18-4a00-834a-5a0fc6f66fe4"
      },
      "source": [
        "fig = go.Figure()\n",
        "\n",
        "fig.add_trace(\n",
        "    go.Scatter(\n",
        "        x=tapla_plot['grupos'],\n",
        "        y=tapla_plot['Frecuencia_Acumulada'],\n",
        "        name= 'Frecuencia Acumulada',\n",
        "    ))\n",
        "\n",
        "fig.add_trace(\n",
        "    go.Bar(\n",
        "        x=tapla_plot['grupos'],\n",
        "        y=tapla_plot['Frecuencia'],\n",
        "        name= 'Precios'\n",
        "    ))\n",
        "fig.update_layout(title_text='Diagrama de Pareto')\n",
        "\n",
        "fig.show()"
      ],
      "execution_count": null,
      "outputs": [
        {
          "output_type": "display_data",
          "data": {
            "text/html": [
              "<html>\n",
              "<head><meta charset=\"utf-8\" /></head>\n",
              "<body>\n",
              "    <div>\n",
              "            <script src=\"https://cdnjs.cloudflare.com/ajax/libs/mathjax/2.7.5/MathJax.js?config=TeX-AMS-MML_SVG\"></script><script type=\"text/javascript\">if (window.MathJax) {MathJax.Hub.Config({SVG: {font: \"STIX-Web\"}});}</script>\n",
              "                <script type=\"text/javascript\">window.PlotlyConfig = {MathJaxConfig: 'local'};</script>\n",
              "        <script src=\"https://cdn.plot.ly/plotly-latest.min.js\"></script>    \n",
              "            <div id=\"442ed667-a2f0-4227-8caa-0968a44de89e\" class=\"plotly-graph-div\" style=\"height:525px; width:100%;\"></div>\n",
              "            <script type=\"text/javascript\">\n",
              "                \n",
              "                    window.PLOTLYENV=window.PLOTLYENV || {};\n",
              "                    \n",
              "                if (document.getElementById(\"442ed667-a2f0-4227-8caa-0968a44de89e\")) {\n",
              "                    Plotly.newPlot(\n",
              "                        '442ed667-a2f0-4227-8caa-0968a44de89e',\n",
              "                        [{\"name\": \"Frecuencia Acumulada\", \"type\": \"scatter\", \"x\": [\"(0, 10]\", \"(10, 20]\", \"(20, 30]\", \"(30, 50]\", \"(50, 60]\"], \"y\": [9, 15, 17, 18, 19]}, {\"name\": \"Precios\", \"type\": \"bar\", \"x\": [\"(0, 10]\", \"(10, 20]\", \"(20, 30]\", \"(30, 50]\", \"(50, 60]\"], \"y\": [9, 6, 2, 1, 1]}],\n",
              "                        {\"template\": {\"data\": {\"bar\": [{\"error_x\": {\"color\": \"#2a3f5f\"}, \"error_y\": {\"color\": \"#2a3f5f\"}, \"marker\": {\"line\": {\"color\": \"#E5ECF6\", \"width\": 0.5}}, \"type\": \"bar\"}], \"barpolar\": [{\"marker\": {\"line\": {\"color\": \"#E5ECF6\", \"width\": 0.5}}, \"type\": \"barpolar\"}], \"carpet\": [{\"aaxis\": {\"endlinecolor\": \"#2a3f5f\", \"gridcolor\": \"white\", \"linecolor\": \"white\", \"minorgridcolor\": \"white\", \"startlinecolor\": \"#2a3f5f\"}, \"baxis\": {\"endlinecolor\": \"#2a3f5f\", \"gridcolor\": \"white\", \"linecolor\": \"white\", \"minorgridcolor\": \"white\", \"startlinecolor\": \"#2a3f5f\"}, \"type\": \"carpet\"}], \"choropleth\": [{\"colorbar\": {\"outlinewidth\": 0, \"ticks\": \"\"}, \"type\": \"choropleth\"}], \"contour\": [{\"colorbar\": {\"outlinewidth\": 0, \"ticks\": \"\"}, \"colorscale\": [[0.0, \"#0d0887\"], [0.1111111111111111, \"#46039f\"], [0.2222222222222222, \"#7201a8\"], [0.3333333333333333, \"#9c179e\"], [0.4444444444444444, \"#bd3786\"], [0.5555555555555556, \"#d8576b\"], [0.6666666666666666, \"#ed7953\"], [0.7777777777777778, \"#fb9f3a\"], [0.8888888888888888, \"#fdca26\"], [1.0, \"#f0f921\"]], \"type\": \"contour\"}], \"contourcarpet\": [{\"colorbar\": {\"outlinewidth\": 0, \"ticks\": \"\"}, \"type\": \"contourcarpet\"}], \"heatmap\": [{\"colorbar\": {\"outlinewidth\": 0, \"ticks\": \"\"}, \"colorscale\": [[0.0, \"#0d0887\"], [0.1111111111111111, \"#46039f\"], [0.2222222222222222, \"#7201a8\"], [0.3333333333333333, \"#9c179e\"], [0.4444444444444444, \"#bd3786\"], [0.5555555555555556, \"#d8576b\"], [0.6666666666666666, \"#ed7953\"], [0.7777777777777778, \"#fb9f3a\"], [0.8888888888888888, \"#fdca26\"], [1.0, \"#f0f921\"]], \"type\": \"heatmap\"}], \"heatmapgl\": [{\"colorbar\": {\"outlinewidth\": 0, \"ticks\": \"\"}, \"colorscale\": [[0.0, \"#0d0887\"], [0.1111111111111111, \"#46039f\"], [0.2222222222222222, \"#7201a8\"], [0.3333333333333333, \"#9c179e\"], [0.4444444444444444, \"#bd3786\"], [0.5555555555555556, \"#d8576b\"], [0.6666666666666666, \"#ed7953\"], [0.7777777777777778, \"#fb9f3a\"], [0.8888888888888888, \"#fdca26\"], [1.0, \"#f0f921\"]], \"type\": \"heatmapgl\"}], \"histogram\": [{\"marker\": {\"colorbar\": {\"outlinewidth\": 0, \"ticks\": \"\"}}, \"type\": \"histogram\"}], \"histogram2d\": [{\"colorbar\": {\"outlinewidth\": 0, \"ticks\": \"\"}, \"colorscale\": [[0.0, \"#0d0887\"], [0.1111111111111111, \"#46039f\"], [0.2222222222222222, \"#7201a8\"], [0.3333333333333333, \"#9c179e\"], [0.4444444444444444, \"#bd3786\"], [0.5555555555555556, \"#d8576b\"], [0.6666666666666666, \"#ed7953\"], [0.7777777777777778, \"#fb9f3a\"], [0.8888888888888888, \"#fdca26\"], [1.0, \"#f0f921\"]], \"type\": \"histogram2d\"}], \"histogram2dcontour\": [{\"colorbar\": {\"outlinewidth\": 0, \"ticks\": \"\"}, \"colorscale\": [[0.0, \"#0d0887\"], [0.1111111111111111, \"#46039f\"], [0.2222222222222222, \"#7201a8\"], [0.3333333333333333, \"#9c179e\"], [0.4444444444444444, \"#bd3786\"], [0.5555555555555556, \"#d8576b\"], [0.6666666666666666, \"#ed7953\"], [0.7777777777777778, \"#fb9f3a\"], [0.8888888888888888, \"#fdca26\"], [1.0, \"#f0f921\"]], \"type\": \"histogram2dcontour\"}], \"mesh3d\": [{\"colorbar\": {\"outlinewidth\": 0, \"ticks\": \"\"}, \"type\": \"mesh3d\"}], \"parcoords\": [{\"line\": {\"colorbar\": {\"outlinewidth\": 0, \"ticks\": \"\"}}, \"type\": \"parcoords\"}], \"pie\": [{\"automargin\": true, \"type\": \"pie\"}], \"scatter\": [{\"marker\": {\"colorbar\": {\"outlinewidth\": 0, \"ticks\": \"\"}}, \"type\": \"scatter\"}], \"scatter3d\": [{\"line\": {\"colorbar\": {\"outlinewidth\": 0, \"ticks\": \"\"}}, \"marker\": {\"colorbar\": {\"outlinewidth\": 0, \"ticks\": \"\"}}, \"type\": \"scatter3d\"}], \"scattercarpet\": [{\"marker\": {\"colorbar\": {\"outlinewidth\": 0, \"ticks\": \"\"}}, \"type\": \"scattercarpet\"}], \"scattergeo\": [{\"marker\": {\"colorbar\": {\"outlinewidth\": 0, \"ticks\": \"\"}}, \"type\": \"scattergeo\"}], \"scattergl\": [{\"marker\": {\"colorbar\": {\"outlinewidth\": 0, \"ticks\": \"\"}}, \"type\": \"scattergl\"}], \"scattermapbox\": [{\"marker\": {\"colorbar\": {\"outlinewidth\": 0, \"ticks\": \"\"}}, \"type\": \"scattermapbox\"}], \"scatterpolar\": [{\"marker\": {\"colorbar\": {\"outlinewidth\": 0, \"ticks\": \"\"}}, \"type\": \"scatterpolar\"}], \"scatterpolargl\": [{\"marker\": {\"colorbar\": {\"outlinewidth\": 0, \"ticks\": \"\"}}, \"type\": \"scatterpolargl\"}], \"scatterternary\": [{\"marker\": {\"colorbar\": {\"outlinewidth\": 0, \"ticks\": \"\"}}, \"type\": \"scatterternary\"}], \"surface\": [{\"colorbar\": {\"outlinewidth\": 0, \"ticks\": \"\"}, \"colorscale\": [[0.0, \"#0d0887\"], [0.1111111111111111, \"#46039f\"], [0.2222222222222222, \"#7201a8\"], [0.3333333333333333, \"#9c179e\"], [0.4444444444444444, \"#bd3786\"], [0.5555555555555556, \"#d8576b\"], [0.6666666666666666, \"#ed7953\"], [0.7777777777777778, \"#fb9f3a\"], [0.8888888888888888, \"#fdca26\"], [1.0, \"#f0f921\"]], \"type\": \"surface\"}], \"table\": [{\"cells\": {\"fill\": {\"color\": \"#EBF0F8\"}, \"line\": {\"color\": \"white\"}}, \"header\": {\"fill\": {\"color\": \"#C8D4E3\"}, \"line\": {\"color\": \"white\"}}, \"type\": \"table\"}]}, \"layout\": {\"annotationdefaults\": {\"arrowcolor\": \"#2a3f5f\", \"arrowhead\": 0, \"arrowwidth\": 1}, \"coloraxis\": {\"colorbar\": {\"outlinewidth\": 0, \"ticks\": \"\"}}, \"colorscale\": {\"diverging\": [[0, \"#8e0152\"], [0.1, \"#c51b7d\"], [0.2, \"#de77ae\"], [0.3, \"#f1b6da\"], [0.4, \"#fde0ef\"], [0.5, \"#f7f7f7\"], [0.6, \"#e6f5d0\"], [0.7, \"#b8e186\"], [0.8, \"#7fbc41\"], [0.9, \"#4d9221\"], [1, \"#276419\"]], \"sequential\": [[0.0, \"#0d0887\"], [0.1111111111111111, \"#46039f\"], [0.2222222222222222, \"#7201a8\"], [0.3333333333333333, \"#9c179e\"], [0.4444444444444444, \"#bd3786\"], [0.5555555555555556, \"#d8576b\"], [0.6666666666666666, \"#ed7953\"], [0.7777777777777778, \"#fb9f3a\"], [0.8888888888888888, \"#fdca26\"], [1.0, \"#f0f921\"]], \"sequentialminus\": [[0.0, \"#0d0887\"], [0.1111111111111111, \"#46039f\"], [0.2222222222222222, \"#7201a8\"], [0.3333333333333333, \"#9c179e\"], [0.4444444444444444, \"#bd3786\"], [0.5555555555555556, \"#d8576b\"], [0.6666666666666666, \"#ed7953\"], [0.7777777777777778, \"#fb9f3a\"], [0.8888888888888888, \"#fdca26\"], [1.0, \"#f0f921\"]]}, \"colorway\": [\"#636efa\", \"#EF553B\", \"#00cc96\", \"#ab63fa\", \"#FFA15A\", \"#19d3f3\", \"#FF6692\", \"#B6E880\", \"#FF97FF\", \"#FECB52\"], \"font\": {\"color\": \"#2a3f5f\"}, \"geo\": {\"bgcolor\": \"white\", \"lakecolor\": \"white\", \"landcolor\": \"#E5ECF6\", \"showlakes\": true, \"showland\": true, \"subunitcolor\": \"white\"}, \"hoverlabel\": {\"align\": \"left\"}, \"hovermode\": \"closest\", \"mapbox\": {\"style\": \"light\"}, \"paper_bgcolor\": \"white\", \"plot_bgcolor\": \"#E5ECF6\", \"polar\": {\"angularaxis\": {\"gridcolor\": \"white\", \"linecolor\": \"white\", \"ticks\": \"\"}, \"bgcolor\": \"#E5ECF6\", \"radialaxis\": {\"gridcolor\": \"white\", \"linecolor\": \"white\", \"ticks\": \"\"}}, \"scene\": {\"xaxis\": {\"backgroundcolor\": \"#E5ECF6\", \"gridcolor\": \"white\", \"gridwidth\": 2, \"linecolor\": \"white\", \"showbackground\": true, \"ticks\": \"\", \"zerolinecolor\": \"white\"}, \"yaxis\": {\"backgroundcolor\": \"#E5ECF6\", \"gridcolor\": \"white\", \"gridwidth\": 2, \"linecolor\": \"white\", \"showbackground\": true, \"ticks\": \"\", \"zerolinecolor\": \"white\"}, \"zaxis\": {\"backgroundcolor\": \"#E5ECF6\", \"gridcolor\": \"white\", \"gridwidth\": 2, \"linecolor\": \"white\", \"showbackground\": true, \"ticks\": \"\", \"zerolinecolor\": \"white\"}}, \"shapedefaults\": {\"line\": {\"color\": \"#2a3f5f\"}}, \"ternary\": {\"aaxis\": {\"gridcolor\": \"white\", \"linecolor\": \"white\", \"ticks\": \"\"}, \"baxis\": {\"gridcolor\": \"white\", \"linecolor\": \"white\", \"ticks\": \"\"}, \"bgcolor\": \"#E5ECF6\", \"caxis\": {\"gridcolor\": \"white\", \"linecolor\": \"white\", \"ticks\": \"\"}}, \"title\": {\"x\": 0.05}, \"xaxis\": {\"automargin\": true, \"gridcolor\": \"white\", \"linecolor\": \"white\", \"ticks\": \"\", \"title\": {\"standoff\": 15}, \"zerolinecolor\": \"white\", \"zerolinewidth\": 2}, \"yaxis\": {\"automargin\": true, \"gridcolor\": \"white\", \"linecolor\": \"white\", \"ticks\": \"\", \"title\": {\"standoff\": 15}, \"zerolinecolor\": \"white\", \"zerolinewidth\": 2}}}, \"title\": {\"text\": \"Diagrama de Pareto\"}},\n",
              "                        {\"responsive\": true}\n",
              "                    ).then(function(){\n",
              "                            \n",
              "var gd = document.getElementById('442ed667-a2f0-4227-8caa-0968a44de89e');\n",
              "var x = new MutationObserver(function (mutations, observer) {{\n",
              "        var display = window.getComputedStyle(gd).display;\n",
              "        if (!display || display === 'none') {{\n",
              "            console.log([gd, 'removed!']);\n",
              "            Plotly.purge(gd);\n",
              "            observer.disconnect();\n",
              "        }}\n",
              "}});\n",
              "\n",
              "// Listen for the removal of the full notebook cells\n",
              "var notebookContainer = gd.closest('#notebook-container');\n",
              "if (notebookContainer) {{\n",
              "    x.observe(notebookContainer, {childList: true});\n",
              "}}\n",
              "\n",
              "// Listen for the clearing of the current output cell\n",
              "var outputEl = gd.closest('.output');\n",
              "if (outputEl) {{\n",
              "    x.observe(outputEl, {childList: true});\n",
              "}}\n",
              "\n",
              "                        })\n",
              "                };\n",
              "                \n",
              "            </script>\n",
              "        </div>\n",
              "</body>\n",
              "</html>"
            ]
          },
          "metadata": {
            "tags": []
          }
        }
      ]
    },
    {
      "cell_type": "markdown",
      "metadata": {
        "id": "FcB6y85hoRH5"
      },
      "source": [
        "a)\tCalcular las posibles muestras de tamaño 10 que se pueden obtener, sin reemplazos de la población de los precios de las importaciones para cada una de las placas y baldosas de cerámica tanto barnizadas o esmaltadas como sin barnizar ni esmaltar. Selecciona una muestra aleatoria de tamaño 10."
      ]
    },
    {
      "cell_type": "code",
      "metadata": {
        "colab": {
          "base_uri": "https://localhost:8080/",
          "height": 390
        },
        "id": "Nj2YLANooUUk",
        "outputId": "72f1600e-7a87-440e-d7b2-2fe47288f402"
      },
      "source": [
        "muestra = df.sample(n=10)\n",
        "muestra"
      ],
      "execution_count": null,
      "outputs": [
        {
          "output_type": "execute_result",
          "data": {
            "text/html": [
              "<div>\n",
              "<style scoped>\n",
              "    .dataframe tbody tr th:only-of-type {\n",
              "        vertical-align: middle;\n",
              "    }\n",
              "\n",
              "    .dataframe tbody tr th {\n",
              "        vertical-align: top;\n",
              "    }\n",
              "\n",
              "    .dataframe thead th {\n",
              "        text-align: right;\n",
              "    }\n",
              "</style>\n",
              "<table border=\"1\" class=\"dataframe\">\n",
              "  <thead>\n",
              "    <tr style=\"text-align: right;\">\n",
              "      <th></th>\n",
              "      <th>Valor_2018</th>\n",
              "      <th>Volumen_2018</th>\n",
              "      <th>Pais</th>\n",
              "      <th>Precio</th>\n",
              "      <th>Precios_agrup</th>\n",
              "    </tr>\n",
              "    <tr>\n",
              "      <th>País</th>\n",
              "      <th></th>\n",
              "      <th></th>\n",
              "      <th></th>\n",
              "      <th></th>\n",
              "      <th></th>\n",
              "    </tr>\n",
              "  </thead>\n",
              "  <tbody>\n",
              "    <tr>\n",
              "      <th>China (República Popular de)</th>\n",
              "      <td>14145738</td>\n",
              "      <td>1366035</td>\n",
              "      <td>China (República Popular de)</td>\n",
              "      <td>10.355326</td>\n",
              "      <td>(10, 20]</td>\n",
              "    </tr>\n",
              "    <tr>\n",
              "      <th>Italia</th>\n",
              "      <td>7939853</td>\n",
              "      <td>372378</td>\n",
              "      <td>Italia</td>\n",
              "      <td>21.322025</td>\n",
              "      <td>(20, 30]</td>\n",
              "    </tr>\n",
              "    <tr>\n",
              "      <th>Turquia (República de)</th>\n",
              "      <td>3947</td>\n",
              "      <td>267</td>\n",
              "      <td>Turquia (República de)</td>\n",
              "      <td>14.782772</td>\n",
              "      <td>(10, 20]</td>\n",
              "    </tr>\n",
              "    <tr>\n",
              "      <th>Portugal</th>\n",
              "      <td>157149</td>\n",
              "      <td>10788</td>\n",
              "      <td>Portugal</td>\n",
              "      <td>14.567019</td>\n",
              "      <td>(10, 20]</td>\n",
              "    </tr>\n",
              "    <tr>\n",
              "      <th>Emiratos Arabes Unidos</th>\n",
              "      <td>7550</td>\n",
              "      <td>165</td>\n",
              "      <td>Emiratos Arabes Unidos</td>\n",
              "      <td>45.757576</td>\n",
              "      <td>(30, 50]</td>\n",
              "    </tr>\n",
              "    <tr>\n",
              "      <th>Hong Kong (Teritorio de )</th>\n",
              "      <td>38546</td>\n",
              "      <td>7018</td>\n",
              "      <td>Hong Kong (Teritorio de )</td>\n",
              "      <td>5.492448</td>\n",
              "      <td>(0, 10]</td>\n",
              "    </tr>\n",
              "    <tr>\n",
              "      <th>España (Reino de)</th>\n",
              "      <td>29061929</td>\n",
              "      <td>2282603</td>\n",
              "      <td>España (Reino de)</td>\n",
              "      <td>12.731924</td>\n",
              "      <td>(10, 20]</td>\n",
              "    </tr>\n",
              "    <tr>\n",
              "      <th>Colombia (República de)</th>\n",
              "      <td>53492</td>\n",
              "      <td>4482</td>\n",
              "      <td>Colombia (República de)</td>\n",
              "      <td>11.934851</td>\n",
              "      <td>(10, 20]</td>\n",
              "    </tr>\n",
              "    <tr>\n",
              "      <th>Perú (República del)</th>\n",
              "      <td>332215</td>\n",
              "      <td>115234</td>\n",
              "      <td>Perú (República del)</td>\n",
              "      <td>2.882960</td>\n",
              "      <td>(0, 10]</td>\n",
              "    </tr>\n",
              "    <tr>\n",
              "      <th>Malasia (Federación de)</th>\n",
              "      <td>207455</td>\n",
              "      <td>72504</td>\n",
              "      <td>Malasia (Federación de)</td>\n",
              "      <td>2.861290</td>\n",
              "      <td>(0, 10]</td>\n",
              "    </tr>\n",
              "  </tbody>\n",
              "</table>\n",
              "</div>"
            ],
            "text/plain": [
              "                              Valor_2018  Volumen_2018  ...     Precio  Precios_agrup\n",
              "País                                                    ...                          \n",
              "China (República Popular de)    14145738       1366035  ...  10.355326       (10, 20]\n",
              "Italia                           7939853        372378  ...  21.322025       (20, 30]\n",
              "Turquia (República de)              3947           267  ...  14.782772       (10, 20]\n",
              "Portugal                          157149         10788  ...  14.567019       (10, 20]\n",
              "Emiratos Arabes Unidos              7550           165  ...  45.757576       (30, 50]\n",
              "Hong Kong (Teritorio de )          38546          7018  ...   5.492448        (0, 10]\n",
              "España (Reino de)               29061929       2282603  ...  12.731924       (10, 20]\n",
              "Colombia (República de)            53492          4482  ...  11.934851       (10, 20]\n",
              "Perú (República del)              332215        115234  ...   2.882960        (0, 10]\n",
              "Malasia (Federación de)           207455         72504  ...   2.861290        (0, 10]\n",
              "\n",
              "[10 rows x 5 columns]"
            ]
          },
          "metadata": {
            "tags": []
          },
          "execution_count": 104
        }
      ]
    },
    {
      "cell_type": "markdown",
      "metadata": {
        "id": "CYMnR8kc70g_"
      },
      "source": [
        "b)\tResponde a las siguientes preguntas: \n",
        "\n",
        "•\t¿Cuál es la media de la población de los precios? \n",
        "\n",
        "•\t¿Cuál es el mejor estimador de la media poblacional de los precios?\n"
      ]
    },
    {
      "cell_type": "code",
      "metadata": {
        "colab": {
          "base_uri": "https://localhost:8080/",
          "height": 173
        },
        "id": "soCVN0218Bc3",
        "outputId": "df44c5a8-a26e-457f-9a78-9421facfffc4"
      },
      "source": [
        "descriptiva"
      ],
      "execution_count": null,
      "outputs": [
        {
          "output_type": "execute_result",
          "data": {
            "text/html": [
              "<div>\n",
              "<style scoped>\n",
              "    .dataframe tbody tr th:only-of-type {\n",
              "        vertical-align: middle;\n",
              "    }\n",
              "\n",
              "    .dataframe tbody tr th {\n",
              "        vertical-align: top;\n",
              "    }\n",
              "\n",
              "    .dataframe thead th {\n",
              "        text-align: right;\n",
              "    }\n",
              "</style>\n",
              "<table border=\"1\" class=\"dataframe\">\n",
              "  <thead>\n",
              "    <tr style=\"text-align: right;\">\n",
              "      <th></th>\n",
              "      <th>Media</th>\n",
              "      <th>Mediana</th>\n",
              "      <th>Rango</th>\n",
              "      <th>Varianza</th>\n",
              "      <th>Des_Est</th>\n",
              "      <th>Coef_Variación</th>\n",
              "    </tr>\n",
              "    <tr>\n",
              "      <th>Variables</th>\n",
              "      <th></th>\n",
              "      <th></th>\n",
              "      <th></th>\n",
              "      <th></th>\n",
              "      <th></th>\n",
              "      <th></th>\n",
              "    </tr>\n",
              "  </thead>\n",
              "  <tbody>\n",
              "    <tr>\n",
              "      <th>Volumen</th>\n",
              "      <td>6.176771e+05</td>\n",
              "      <td>31975.000000</td>\n",
              "      <td>6.853232e+06</td>\n",
              "      <td>2.617592e+12</td>\n",
              "      <td>1.617897e+06</td>\n",
              "      <td>261.932529</td>\n",
              "    </tr>\n",
              "    <tr>\n",
              "      <th>Valor</th>\n",
              "      <td>4.921841e+06</td>\n",
              "      <td>157149.000000</td>\n",
              "      <td>3.860363e+07</td>\n",
              "      <td>1.189521e+14</td>\n",
              "      <td>1.090652e+07</td>\n",
              "      <td>221.594265</td>\n",
              "    </tr>\n",
              "    <tr>\n",
              "      <th>Precio</th>\n",
              "      <td>1.416116e+01</td>\n",
              "      <td>10.355326</td>\n",
              "      <td>5.180538e+01</td>\n",
              "      <td>2.023904e+02</td>\n",
              "      <td>1.422640e+01</td>\n",
              "      <td>100.460689</td>\n",
              "    </tr>\n",
              "  </tbody>\n",
              "</table>\n",
              "</div>"
            ],
            "text/plain": [
              "                  Media        Mediana  ...       Des_Est  Coef_Variación\n",
              "Variables                               ...                              \n",
              "Volumen    6.176771e+05   31975.000000  ...  1.617897e+06      261.932529\n",
              "Valor      4.921841e+06  157149.000000  ...  1.090652e+07      221.594265\n",
              "Precio     1.416116e+01      10.355326  ...  1.422640e+01      100.460689\n",
              "\n",
              "[3 rows x 6 columns]"
            ]
          },
          "metadata": {
            "tags": []
          },
          "execution_count": 105
        }
      ]
    },
    {
      "cell_type": "code",
      "metadata": {
        "colab": {
          "base_uri": "https://localhost:8080/"
        },
        "id": "Xu80qCE78MYP",
        "outputId": "1a967406-847f-4f84-85d0-f440ecd2a547"
      },
      "source": [
        "\n",
        "avg2"
      ],
      "execution_count": null,
      "outputs": [
        {
          "output_type": "execute_result",
          "data": {
            "text/plain": [
              "14.161160747794685"
            ]
          },
          "metadata": {
            "tags": []
          },
          "execution_count": 106
        }
      ]
    },
    {
      "cell_type": "code",
      "metadata": {
        "colab": {
          "base_uri": "https://localhost:8080/"
        },
        "id": "nvGBSeQt8S5r",
        "outputId": "905b84be-f164-4145-e7e4-c3213ef6730c"
      },
      "source": [
        "n_avg2 = muestra['Precio'].mean()\n",
        "n_avg2"
      ],
      "execution_count": null,
      "outputs": [
        {
          "output_type": "execute_result",
          "data": {
            "text/plain": [
              "14.268819059582171"
            ]
          },
          "metadata": {
            "tags": []
          },
          "execution_count": 107
        }
      ]
    },
    {
      "cell_type": "code",
      "metadata": {
        "colab": {
          "base_uri": "https://localhost:8080/"
        },
        "id": "m2YNdQvZ8gze",
        "outputId": "d3e7c2dd-d90e-454c-ea0d-3b0ebbce64c9"
      },
      "source": [
        "error_muesteo = avg2 - n_avg2\n",
        "error_muesteo"
      ],
      "execution_count": null,
      "outputs": [
        {
          "output_type": "execute_result",
          "data": {
            "text/plain": [
              "-0.10765831178748542"
            ]
          },
          "metadata": {
            "tags": []
          },
          "execution_count": 108
        }
      ]
    },
    {
      "cell_type": "markdown",
      "metadata": {
        "id": "ejcAzck68qOE"
      },
      "source": [
        "c)\tDeterminar un intervalo de confianza de 95% para la media de la población de los precios de las importaciones de las placas y baldosas de cerámica tanto barnizadas o esmaltadas, como sin barnizar ni esmaltar. Interpreta el intervalo de confianza"
      ]
    },
    {
      "cell_type": "code",
      "metadata": {
        "colab": {
          "base_uri": "https://localhost:8080/"
        },
        "id": "OO9fRR5J9fRd",
        "outputId": "c8ebc46d-4340-4dd1-e9d6-278c2e017b05"
      },
      "source": [
        "df['Precio'].std()"
      ],
      "execution_count": null,
      "outputs": [
        {
          "output_type": "execute_result",
          "data": {
            "text/plain": [
              "14.226399680897066"
            ]
          },
          "metadata": {
            "tags": []
          },
          "execution_count": 109
        }
      ]
    },
    {
      "cell_type": "code",
      "metadata": {
        "id": "NvQ_8Qls9FAU"
      },
      "source": [
        "n = df['Pais'].count()\n",
        "media = df['Precio'].mean()\n",
        "dstd = df['Precio'].std()\n",
        "sigma = dstd/math.sqrt(n)"
      ],
      "execution_count": null,
      "outputs": []
    },
    {
      "cell_type": "code",
      "metadata": {
        "colab": {
          "base_uri": "https://localhost:8080/"
        },
        "id": "AdvMUcAm82bD",
        "outputId": "c196a5e7-65a3-40b9-938b-a1266b5ba71c"
      },
      "source": [
        "IC = stats.t.interval(alpha= 0.95,\n",
        "                 df= n-1,\n",
        "                 loc= media,\n",
        "                 scale= sigma)\n",
        "print('El  intervalode de confainza del 95% de los precios es de:')\n",
        "IC"
      ],
      "execution_count": null,
      "outputs": [
        {
          "output_type": "stream",
          "text": [
            "El  intervalode de confainza del 95% de los precios es de:\n"
          ],
          "name": "stdout"
        },
        {
          "output_type": "execute_result",
          "data": {
            "text/plain": [
              "(7.304255591237984, 21.01806590435139)"
            ]
          },
          "metadata": {
            "tags": []
          },
          "execution_count": 112
        }
      ]
    },
    {
      "cell_type": "code",
      "metadata": {
        "colab": {
          "base_uri": "https://localhost:8080/",
          "height": 295
        },
        "id": "rXnkisDk_xFr",
        "outputId": "4f80ad56-96c5-43af-bbf1-294e7834e106"
      },
      "source": [
        "sns.histplot(df['Precio'], kde=True).set(title= 'Histograma Precios')\n",
        "plt.show()"
      ],
      "execution_count": null,
      "outputs": [
        {
          "output_type": "display_data",
          "data": {
            "image/png": "[encoded data removed]",
            "text/plain": [
              "<Figure size 432x288 with 1 Axes>"
            ]
          },
          "metadata": {
            "tags": [],
            "needs_background": "light"
          }
        }
      ]
    },
    {
      "cell_type": "code",
      "metadata": {
        "colab": {
          "base_uri": "https://localhost:8080/",
          "height": 383
        },
        "id": "-eQPr4u5fcwK",
        "outputId": "9e386bd7-c2f0-41b0-c9cb-87afdbe96236"
      },
      "source": [
        "sns.distplot(df['Precio'], norm_hist=True).set(title= 'Ditribución')\n",
        "plt.show()"
      ],
      "execution_count": null,
      "outputs": [
        {
          "output_type": "stream",
          "text": [
            "/usr/local/lib/python3.7/dist-packages/seaborn/distributions.py:2557: FutureWarning:\n",
            "\n",
            "`distplot` is a deprecated function and will be removed in a future version. Please adapt your code to use either `displot` (a figure-level function with similar flexibility) or `histplot` (an axes-level function for histograms).\n",
            "\n"
          ],
          "name": "stderr"
        },
        {
          "output_type": "display_data",
          "data": {
            "image/png": "[encoded data removed]",
            "text/plain": [
              "<Figure size 432x288 with 1 Axes>"
            ]
          },
          "metadata": {
            "tags": [],
            "needs_background": "light"
          }
        }
      ]
    },
    {
      "cell_type": "markdown",
      "metadata": {
        "id": "qOVbTDZ4BdHF"
      },
      "source": [
        "d)\tRealizar una prueba de hipótesis para la diferencia entre las medias de los precios de las placas y baldosas de cerámica barnizadas o esmaltadas y de las placas y baldosas sin barnizar ni esmaltar (Ho: µ1- µ2=0). \n",
        "\n",
        "•\t¿Cuál es la conclusión acerca de la prueba de hipótesis con α=0.05?\n"
      ]
    },
    {
      "cell_type": "code",
      "metadata": {
        "colab": {
          "base_uri": "https://localhost:8080/"
        },
        "id": "xJI52Yg3BbMu",
        "outputId": "4ae11bd2-c2eb-4c60-915d-9ee73dc84513"
      },
      "source": [
        "stats.ttest_1samp(a= muestra['Precio'], popmean=avg2)"
      ],
      "execution_count": null,
      "outputs": [
        {
          "output_type": "execute_result",
          "data": {
            "text/plain": [
              "Ttest_1sampResult(statistic=0.027281152740073093, pvalue=0.9788308383973834)"
            ]
          },
          "metadata": {
            "tags": []
          },
          "execution_count": 115
        }
      ]
    },
    {
      "cell_type": "markdown",
      "metadata": {
        "id": "UXR9DwiAIzvi"
      },
      "source": [
        "Aceptamos la hipótesis nula H0 y rechazamos la hipótesis alternativa. El puntaje z de 0.0272 se encuentra dentro del área de no rechazo\n",
        "\n",
        "Los 2 puntos de corte son 2,262 y -2,262; ya que 0.0272 está entre 2,262 y -2,262, aceptamos la hipótesis \n",
        "nula, ya que cae dentro del rango. Rechazamos la hipótesis alternativa porque el puntaje z está en el rango de la hipótesis nula"
      ]
    },
    {
      "cell_type": "markdown",
      "metadata": {
        "id": "7p1nCMCrYJlC"
      },
      "source": [
        "e)\tRetomar de la Etapa 1, del inciso “f”, la tercera pregunta con respecto a la relación que guarda el volumen y el precio de las placas y baldosas de cerámica y construye un diagrama de dispersión, calcular el coeficiente de correlación de Pearson e interpretar los resultados"
      ]
    },
    {
      "cell_type": "code",
      "metadata": {
        "colab": {
          "base_uri": "https://localhost:8080/",
          "height": 111
        },
        "id": "K0DnyXtYYT3P",
        "outputId": "f8f7cf83-e010-41c7-f1a3-d66db0873a85"
      },
      "source": [
        "cor1"
      ],
      "execution_count": null,
      "outputs": [
        {
          "output_type": "execute_result",
          "data": {
            "text/html": [
              "<div>\n",
              "<style scoped>\n",
              "    .dataframe tbody tr th:only-of-type {\n",
              "        vertical-align: middle;\n",
              "    }\n",
              "\n",
              "    .dataframe tbody tr th {\n",
              "        vertical-align: top;\n",
              "    }\n",
              "\n",
              "    .dataframe thead th {\n",
              "        text-align: right;\n",
              "    }\n",
              "</style>\n",
              "<table border=\"1\" class=\"dataframe\">\n",
              "  <thead>\n",
              "    <tr style=\"text-align: right;\">\n",
              "      <th></th>\n",
              "      <th>Volumen_2018</th>\n",
              "      <th>Precio</th>\n",
              "    </tr>\n",
              "  </thead>\n",
              "  <tbody>\n",
              "    <tr>\n",
              "      <th>Volumen_2018</th>\n",
              "      <td>1.000000</td>\n",
              "      <td>-0.175423</td>\n",
              "    </tr>\n",
              "    <tr>\n",
              "      <th>Precio</th>\n",
              "      <td>-0.175423</td>\n",
              "      <td>1.000000</td>\n",
              "    </tr>\n",
              "  </tbody>\n",
              "</table>\n",
              "</div>"
            ],
            "text/plain": [
              "              Volumen_2018    Precio\n",
              "Volumen_2018      1.000000 -0.175423\n",
              "Precio           -0.175423  1.000000"
            ]
          },
          "metadata": {
            "tags": []
          },
          "execution_count": 117
        }
      ]
    },
    {
      "cell_type": "code",
      "metadata": {
        "colab": {
          "base_uri": "https://localhost:8080/",
          "height": 384
        },
        "id": "HqwJ4t7SYaGj",
        "outputId": "a94375c6-e015-4851-b343-901c9fa0dc76"
      },
      "source": [
        "y = df['Precio']\n",
        "x = df['Volumen_2018']\n",
        "sns.regplot(x, y, data=df,scatter_kws={\"alpha\": 0.5}).set(title= 'Precio vs Volumen')\n",
        "plt.ylim(0,)\n",
        "plt.show()"
      ],
      "execution_count": null,
      "outputs": [
        {
          "output_type": "stream",
          "text": [
            "/usr/local/lib/python3.7/dist-packages/seaborn/_decorators.py:43: FutureWarning:\n",
            "\n",
            "Pass the following variables as keyword args: x, y. From version 0.12, the only valid positional argument will be `data`, and passing other arguments without an explicit keyword will result in an error or misinterpretation.\n",
            "\n"
          ],
          "name": "stderr"
        },
        {
          "output_type": "display_data",
          "data": {
            "image/png": "[encoded data removed]",
            "text/plain": [
              "<Figure size 432x288 with 1 Axes>"
            ]
          },
          "metadata": {
            "tags": [],
            "needs_background": "light"
          }
        }
      ]
    },
    {
      "cell_type": "code",
      "metadata": {
        "colab": {
          "base_uri": "https://localhost:8080/"
        },
        "id": "ZaWh4pCuZvGE",
        "outputId": "675f65b0-69ff-436f-f7b8-2f3e507e47fd"
      },
      "source": [
        "df['Precio'].max(), df['Volumen_2018'].max()"
      ],
      "execution_count": null,
      "outputs": [
        {
          "output_type": "execute_result",
          "data": {
            "text/plain": [
              "(54.666666666666664, 6853236)"
            ]
          },
          "metadata": {
            "tags": []
          },
          "execution_count": 120
        }
      ]
    }
  ]
}